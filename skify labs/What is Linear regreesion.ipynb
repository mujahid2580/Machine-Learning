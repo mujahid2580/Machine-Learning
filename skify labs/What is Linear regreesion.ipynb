{
 "cells": [
  {
   "cell_type": "markdown",
   "metadata": {},
   "source": [
    "# Linear Regression\n",
    "    .Origin in statistics\n",
    "    .Understand relationship between input and output numerical variables\n",
    "    .Supervised learning\n",
    "    .Predicted output is continuous rather than discrete(like classifiaction)\n",
    "    \n",
    "    This method cannot be used for discrete data means calassification task.\n",
    "    "
   ]
  },
  {
   "cell_type": "code",
   "execution_count": null,
   "metadata": {},
   "outputs": [],
   "source": []
  },
  {
   "cell_type": "markdown",
   "metadata": {},
   "source": [
    "## Linear Regression Types\n",
    "    .Sample Regression\n",
    "        Target/Label is dependent on a single feature\n",
    "                    y=m*X + C\n",
    "    \n",
    "    . Mulativariable Regression\n",
    "        .Target/Label is dependent on multiple features\n",
    "        f(x,y,z) = w1*x+w2*y+w3*z+b"
   ]
  },
  {
   "cell_type": "code",
   "execution_count": null,
   "metadata": {},
   "outputs": [],
   "source": []
  }
 ],
 "metadata": {
  "kernelspec": {
   "display_name": "Python 3",
   "language": "python",
   "name": "python3"
  },
  "language_info": {
   "codemirror_mode": {
    "name": "ipython",
    "version": 3
   },
   "file_extension": ".py",
   "mimetype": "text/x-python",
   "name": "python",
   "nbconvert_exporter": "python",
   "pygments_lexer": "ipython3",
   "version": "3.7.5"
  }
 },
 "nbformat": 4,
 "nbformat_minor": 4
}
