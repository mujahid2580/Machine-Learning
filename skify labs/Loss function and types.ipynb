{
 "cells": [
  {
   "cell_type": "markdown",
   "metadata": {},
   "source": [
    "# Loss fucntion"
   ]
  },
  {
   "cell_type": "markdown",
   "metadata": {},
   "source": [
    "### .Method to evalute how well our model fits the dataset\n",
    "### .differnence between predicted value and actual value\n",
    "        .Bad model--> Higher value of loss function\n",
    "        .Good model--> Lower value of loss function\n",
    "### .Change in the loss fuunction determiines whether the model is improving or not"
   ]
  },
  {
   "cell_type": "markdown",
   "metadata": {},
   "source": [
    "### 1.A loss function is a function to measure how well th model fits the data set.It tells how different the predicted values are from the actual values\n",
    "### 2. we say a model is bad if it has a high value of loss function vice versa"
   ]
  },
  {
   "cell_type": "markdown",
   "metadata": {},
   "source": [
    "## Types of loss functions:\n",
    "    .Mean square error\n",
    "    .Mean Absolute error\n",
    "    .Cross Entropy loss"
   ]
  },
  {
   "cell_type": "markdown",
   "metadata": {},
   "source": [
    "### 1. Mean square error\n",
    "    . Average of squared differencr between predictions and actual values\n",
    "    . Average Magnitude of error irrespective of direction\n",
    "    . Highly incorrect predictions penalized heavily\n",
    "    . Easier to calculate gradients\n"
   ]
  },
  {
   "cell_type": "code",
   "execution_count": 7,
   "metadata": {
    "jupyter": {
     "source_hidden": true
    }
   },
   "outputs": [
    {
     "data": {
      "image/png": "[encoded data removed]",
      "text/plain": [
       "<IPython.core.display.Image object>"
      ]
     },
     "execution_count": 7,
     "metadata": {},
     "output_type": "execute_result"
    }
   ],
   "source": [
    "from IPython.display import Image\n",
    "Image(filename='MSE.png')"
   ]
  },
  {
   "cell_type": "markdown",
   "metadata": {},
   "source": [
    "### 2. Mean Absolute Error\n",
    "    .Average of sum of absolute difference between predictions and actual values\n",
    "    .Measures magnitude of error without considering direction\n",
    "    .More robust to outliers"
   ]
  },
  {
   "cell_type": "code",
   "execution_count": 11,
   "metadata": {
    "jupyter": {
     "source_hidden": true
    }
   },
   "outputs": [
    {
     "data": {
      "image/png": "[encoded data removed]",
      "text/plain": [
       "<IPython.core.display.Image object>"
      ]
     },
     "execution_count": 11,
     "metadata": {},
     "output_type": "execute_result"
    }
   ],
   "source": [
    "from IPython.display import Image\n",
    "Image(filename='MAE.png')"
   ]
  },
  {
   "cell_type": "markdown",
   "metadata": {},
   "source": [
    "### 3. Cross Entropy loss\n",
    "    .measures performane=ce of classifiaction model\n",
    "    .increases as predicted probability diverges from actual value\n",
    "    \n",
    "    $$ CEL =  -(Y*log(y_i)+(1-Y)*log(1-y_i)) $$"
   ]
  },
  {
   "cell_type": "code",
   "execution_count": null,
   "metadata": {},
   "outputs": [],
   "source": []
  }
 ],
 "metadata": {
  "kernelspec": {
   "display_name": "Python 3",
   "language": "python",
   "name": "python3"
  },
  "language_info": {
   "codemirror_mode": {
    "name": "ipython",
    "version": 3
   },
   "file_extension": ".py",
   "mimetype": "text/x-python",
   "name": "python",
   "nbconvert_exporter": "python",
   "pygments_lexer": "ipython3",
   "version": "3.7.5"
  }
 },
 "nbformat": 4,
 "nbformat_minor": 4
}
