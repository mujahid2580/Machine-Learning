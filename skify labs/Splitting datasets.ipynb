{
 "cells": [
  {
   "cell_type": "markdown",
   "metadata": {},
   "source": [
    "# Spliting the data\n",
    "    . Training Dataset\n",
    "        1. Sample of data used for learning\n",
    "        2. Create a model that fits the data\n",
    "    \n",
    "    . Validation Dataset\n",
    "        1. Sample of data used to evaluate a model fit and tune the model if necessary\n",
    "        1. Model sees the data but doesnot learn from it\n",
    "        \n",
    "    .Test Dataset\n",
    "        1. Sample of data to evaluate the final model fit\n",
    "        2. Unbiased evaluation, unlike in the case of validation dataset\n",
    "        \n",
    "        \n",
    "SPlit the data:\n",
    ". Split the data into training and testing data : \n",
    "    The data is split before the trainig step and the samples in the sets of data do not change during the course of the training process.\n",
    "    \n",
    ". Cross Validation:\n",
    "    Split the data into equal chunks. All eacg step of training chose one chunk of data as training data and other chunks as testing data "
   ]
  },
  {
   "cell_type": "code",
   "execution_count": null,
   "metadata": {},
   "outputs": [],
   "source": []
  }
 ],
 "metadata": {
  "kernelspec": {
   "display_name": "Python 3",
   "language": "python",
   "name": "python3"
  },
  "language_info": {
   "codemirror_mode": {
    "name": "ipython",
    "version": 3
   },
   "file_extension": ".py",
   "mimetype": "text/x-python",
   "name": "python",
   "nbconvert_exporter": "python",
   "pygments_lexer": "ipython3",
   "version": "3.7.5"
  }
 },
 "nbformat": 4,
 "nbformat_minor": 4
}
