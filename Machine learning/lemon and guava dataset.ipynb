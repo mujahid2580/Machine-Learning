{
 "cells": [
  {
   "cell_type": "code",
   "execution_count": 1,
   "metadata": {},
   "outputs": [],
   "source": [
    "import numpy as np"
   ]
  },
  {
   "cell_type": "code",
   "execution_count": 2,
   "metadata": {},
   "outputs": [],
   "source": [
    "import pandas as pd"
   ]
  },
  {
   "cell_type": "code",
   "execution_count": 3,
   "metadata": {},
   "outputs": [],
   "source": [
    "import matplotlib.pyplot as plt"
   ]
  },
  {
   "cell_type": "code",
   "execution_count": 4,
   "metadata": {},
   "outputs": [],
   "source": [
    "import seaborn as sns"
   ]
  },
  {
   "cell_type": "code",
   "execution_count": 5,
   "metadata": {},
   "outputs": [],
   "source": [
    "from pathlib import Path"
   ]
  },
  {
   "cell_type": "code",
   "execution_count": 6,
   "metadata": {},
   "outputs": [],
   "source": [
    "from sklearn.utils import Bunch"
   ]
  },
  {
   "cell_type": "code",
   "execution_count": 7,
   "metadata": {},
   "outputs": [],
   "source": [
    "from skimage.io import imread\n",
    "from skimage.transform import resize\n",
    "import skimage as sk"
   ]
  },
  {
   "cell_type": "code",
   "execution_count": 8,
   "metadata": {},
   "outputs": [],
   "source": [
    "def generate_data(Location, dim=(64,64)):\n",
    "    \"\"\"we are generating the data into equal dimensions\"\"\"\n",
    "    \n",
    "    img_dir = Path(Location)\n",
    "    print(img_dir) \n",
    "    folder_dir = [directory for directory in img_dir.iterdir()]\n",
    "    print(folder_dir)\n",
    "    categorical_data = [fo.name for fo in folder_dir]\n",
    "    print(categorical_data)\n",
    "\n",
    "    images = []\n",
    "    target = []\n",
    "    images_data = []\n",
    "\n",
    "    desc= \"Image generation\"\n",
    "\n",
    "    for i, direc in enumerate(folder_dir):\n",
    "        print(i,direc)\n",
    "        for files in direc.iterdir():\n",
    "            print(files)\n",
    "            img = imread(files)\n",
    "            img_resize = resize(img, dim)\n",
    "            images.append(img_resize)\n",
    "            images_data.append(img_resize.flatten())\n",
    "            target.append(i) # because target means folder names present in i\n",
    "\n",
    "    # Converting list into arrays\n",
    "    images = np.array(images)\n",
    "    flat_data = np.array(images_data)\n",
    "    target = np.array(target)\n",
    "    return Bunch(data = flat_data,\n",
    "                 target = target,\n",
    "                 target_names = categorical_data,\n",
    "                 images = images,\n",
    "                 desc = desc)\n",
    "    "
   ]
  },
  {
   "cell_type": "code",
   "execution_count": 11,
   "metadata": {
    "collapsed": true,
    "jupyter": {
     "outputs_hidden": true
    }
   },
   "outputs": [
    {
     "name": "stdout",
     "output_type": "stream",
     "text": [
      "fruits\n",
      "[WindowsPath('fruits/apple images'), WindowsPath('fruits/banana images'), WindowsPath('fruits/guava'), WindowsPath('fruits/lemon')]\n",
      "['apple images', 'banana images', 'guava', 'lemon']\n",
      "0 fruits\\apple images\n",
      "fruits\\apple images\\1.jpg\n",
      "fruits\\apple images\\10.jpg\n",
      "fruits\\apple images\\11.jpg\n",
      "fruits\\apple images\\12.jpg\n",
      "fruits\\apple images\\13.jpg\n",
      "fruits\\apple images\\14.jpg\n",
      "fruits\\apple images\\15.jpg\n",
      "fruits\\apple images\\16.jpg\n",
      "fruits\\apple images\\17.jpg\n",
      "fruits\\apple images\\18.jpg\n",
      "fruits\\apple images\\19.jpg\n",
      "fruits\\apple images\\2.jpg\n",
      "fruits\\apple images\\20.jpg\n",
      "fruits\\apple images\\21.jpg\n",
      "fruits\\apple images\\22.jpg\n",
      "fruits\\apple images\\23.jpg\n",
      "fruits\\apple images\\24.jpg\n",
      "fruits\\apple images\\25.jpg\n",
      "fruits\\apple images\\26.jpg\n",
      "fruits\\apple images\\27.jpg\n",
      "fruits\\apple images\\28.jpg\n",
      "fruits\\apple images\\29.jpg\n",
      "fruits\\apple images\\3.jpg\n",
      "fruits\\apple images\\30.jpg\n",
      "fruits\\apple images\\31.jpg\n",
      "fruits\\apple images\\32.jpg\n",
      "fruits\\apple images\\33.jpg\n",
      "fruits\\apple images\\34.jpg\n",
      "fruits\\apple images\\35.jpg\n",
      "fruits\\apple images\\36.jpg\n",
      "fruits\\apple images\\37.jpg\n",
      "fruits\\apple images\\38.jpg\n",
      "fruits\\apple images\\39.jpg\n",
      "fruits\\apple images\\4.jpg\n",
      "fruits\\apple images\\40.jpg\n",
      "fruits\\apple images\\41.jpg\n",
      "fruits\\apple images\\42.jpg\n",
      "fruits\\apple images\\43.jpg\n",
      "fruits\\apple images\\44.jpg\n",
      "fruits\\apple images\\45.jpg\n",
      "fruits\\apple images\\46.jpg\n",
      "fruits\\apple images\\47.jpg\n",
      "fruits\\apple images\\48.jpg\n",
      "fruits\\apple images\\49.jpg\n",
      "fruits\\apple images\\5.jpg\n",
      "fruits\\apple images\\50.jpg\n",
      "fruits\\apple images\\6.jpg\n",
      "fruits\\apple images\\7.jpg\n",
      "fruits\\apple images\\8.jpg\n",
      "fruits\\apple images\\9.jpg\n",
      "1 fruits\\banana images\n",
      "fruits\\banana images\\1.jpg\n",
      "fruits\\banana images\\10.jpg\n",
      "fruits\\banana images\\11.jpg\n",
      "fruits\\banana images\\12.jpg\n",
      "fruits\\banana images\\13.jpg\n",
      "fruits\\banana images\\14.jpg\n",
      "fruits\\banana images\\15.jpg\n",
      "fruits\\banana images\\16.jpg\n",
      "fruits\\banana images\\17.jpg\n",
      "fruits\\banana images\\18.jpg\n",
      "fruits\\banana images\\19.jpg\n",
      "fruits\\banana images\\2.jpg\n",
      "fruits\\banana images\\20.jpg\n",
      "fruits\\banana images\\21.jpg\n",
      "fruits\\banana images\\22.jpg\n",
      "fruits\\banana images\\23.jpg\n",
      "fruits\\banana images\\24.jpg\n",
      "fruits\\banana images\\25.jpg\n",
      "fruits\\banana images\\26.jpg\n",
      "fruits\\banana images\\27.jpg\n",
      "fruits\\banana images\\28.jpg\n",
      "fruits\\banana images\\29.jpg\n",
      "fruits\\banana images\\3.jpg\n",
      "fruits\\banana images\\30.jpg\n",
      "fruits\\banana images\\31.jpg\n",
      "fruits\\banana images\\32.jpg\n",
      "fruits\\banana images\\33.jpg\n",
      "fruits\\banana images\\34.jpg\n",
      "fruits\\banana images\\35.jpg\n",
      "fruits\\banana images\\36.jpg\n",
      "fruits\\banana images\\37.jpg\n",
      "fruits\\banana images\\38.jpg\n",
      "fruits\\banana images\\39.jpg\n",
      "fruits\\banana images\\4.jpg\n",
      "fruits\\banana images\\40.jpg\n",
      "fruits\\banana images\\41.jpg\n",
      "fruits\\banana images\\42.jpg\n",
      "fruits\\banana images\\43.jpg\n",
      "fruits\\banana images\\44.jpg\n",
      "fruits\\banana images\\45.jpg\n",
      "fruits\\banana images\\46.jpg\n",
      "fruits\\banana images\\48.jpg\n",
      "fruits\\banana images\\49.jpg\n",
      "fruits\\banana images\\5.jpg\n",
      "fruits\\banana images\\50.jpg\n",
      "fruits\\banana images\\6.jpg\n",
      "fruits\\banana images\\7.jpg\n",
      "fruits\\banana images\\8.jpg\n",
      "fruits\\banana images\\9.jpg\n",
      "2 fruits\\guava\n",
      "fruits\\guava\\1.jpg\n",
      "fruits\\guava\\10.jpg\n",
      "fruits\\guava\\11.jpg\n",
      "fruits\\guava\\12.jpg\n",
      "fruits\\guava\\13.jpg\n",
      "fruits\\guava\\14.jpg\n",
      "fruits\\guava\\15.jpg\n",
      "fruits\\guava\\16.jpg\n",
      "fruits\\guava\\17.jpg\n",
      "fruits\\guava\\18.jpg\n",
      "fruits\\guava\\19.jpg\n",
      "fruits\\guava\\2.jpg\n",
      "fruits\\guava\\20.jpg\n",
      "fruits\\guava\\21.jpg\n",
      "fruits\\guava\\22.jpg\n",
      "fruits\\guava\\23.jpg\n",
      "fruits\\guava\\24.jpg\n",
      "fruits\\guava\\25.jpg\n",
      "fruits\\guava\\26.jpg\n",
      "fruits\\guava\\27.jpg\n",
      "fruits\\guava\\28.jpg\n",
      "fruits\\guava\\29.jpg\n",
      "fruits\\guava\\3.jpg\n",
      "fruits\\guava\\30.jpg\n",
      "fruits\\guava\\31.jpg\n",
      "fruits\\guava\\32.jpg\n",
      "fruits\\guava\\33.jpg\n",
      "fruits\\guava\\34.jpg\n",
      "fruits\\guava\\35.jpg\n",
      "fruits\\guava\\36.jpg\n",
      "fruits\\guava\\37.jpg\n",
      "fruits\\guava\\38.jpg\n",
      "fruits\\guava\\39.jpg\n",
      "fruits\\guava\\4.jpg\n",
      "fruits\\guava\\40.jpg\n",
      "fruits\\guava\\41.jpg\n",
      "fruits\\guava\\42.jpg\n",
      "fruits\\guava\\43.jpg\n",
      "fruits\\guava\\44.jpg\n",
      "fruits\\guava\\45.jpg\n",
      "fruits\\guava\\46.jpg\n",
      "fruits\\guava\\47.jpg\n",
      "fruits\\guava\\48.jpg\n",
      "fruits\\guava\\49.jpg\n",
      "fruits\\guava\\5.jpg\n",
      "fruits\\guava\\50.jpg\n",
      "fruits\\guava\\6.jpg\n",
      "fruits\\guava\\7.jpg\n",
      "fruits\\guava\\8.jpg\n",
      "fruits\\guava\\9.jpg\n",
      "3 fruits\\lemon\n",
      "fruits\\lemon\\1.jpg\n",
      "fruits\\lemon\\10.jpg\n",
      "fruits\\lemon\\11.jpg\n",
      "fruits\\lemon\\12.jpg\n",
      "fruits\\lemon\\13.jpg\n",
      "fruits\\lemon\\14.jpg\n",
      "fruits\\lemon\\15.jpg\n",
      "fruits\\lemon\\16.jpg\n",
      "fruits\\lemon\\17.jpg\n",
      "fruits\\lemon\\18.jpg\n",
      "fruits\\lemon\\19.jpg\n",
      "fruits\\lemon\\2.jpg\n",
      "fruits\\lemon\\20.jpg\n",
      "fruits\\lemon\\21.jpg\n",
      "fruits\\lemon\\22.jpg\n",
      "fruits\\lemon\\23.jpg\n",
      "fruits\\lemon\\24.jpg\n",
      "fruits\\lemon\\25.jpg\n",
      "fruits\\lemon\\26.jpg\n",
      "fruits\\lemon\\27.jpg\n",
      "fruits\\lemon\\28.jpg\n",
      "fruits\\lemon\\29.jpg\n",
      "fruits\\lemon\\3.jpg\n",
      "fruits\\lemon\\30.jpg\n",
      "fruits\\lemon\\31.jpg\n",
      "fruits\\lemon\\32.jpg\n",
      "fruits\\lemon\\33.jpg\n",
      "fruits\\lemon\\34.jpg\n",
      "fruits\\lemon\\35.jpg\n",
      "fruits\\lemon\\36.jpg\n",
      "fruits\\lemon\\37.jpg\n",
      "fruits\\lemon\\38.jpg\n",
      "fruits\\lemon\\39.jpg\n",
      "fruits\\lemon\\4.jpg\n",
      "fruits\\lemon\\40.jpg\n",
      "fruits\\lemon\\41.jpg\n",
      "fruits\\lemon\\42.jpg\n",
      "fruits\\lemon\\43.jpg\n",
      "fruits\\lemon\\44.jpg\n",
      "fruits\\lemon\\45.jpg\n",
      "fruits\\lemon\\46.jpg\n",
      "fruits\\lemon\\47.jpg\n",
      "fruits\\lemon\\48.jpg\n",
      "fruits\\lemon\\49.jpg\n",
      "fruits\\lemon\\5.jpg\n",
      "fruits\\lemon\\50.jpg\n",
      "fruits\\lemon\\51.jpg\n",
      "fruits\\lemon\\52.jpg\n",
      "fruits\\lemon\\53.jpg\n",
      "fruits\\lemon\\54.jpg\n",
      "fruits\\lemon\\55.jpg\n",
      "fruits\\lemon\\6.jpg\n",
      "fruits\\lemon\\7.jpg\n",
      "fruits\\lemon\\8.jpg\n",
      "fruits\\lemon\\9.jpg\n"
     ]
    },
    {
     "data": {
      "text/plain": [
       "{'data': array([[0.95294118, 0.95686275, 0.97647059, ..., 0.91050858, 0.92227328,\n",
       "         0.94188113],\n",
       "        [0.32941176, 0.47058824, 0.30490196, ..., 0.36960784, 0.46372549,\n",
       "         0.25784314],\n",
       "        [0.27843137, 0.52156863, 0.82352941, ..., 0.09678309, 0.10462623,\n",
       "         0.14730392],\n",
       "        ...,\n",
       "        [0.48210736, 0.62745098, 0.27058824, ..., 0.24540441, 0.40618873,\n",
       "         0.1526956 ],\n",
       "        [0.48156403, 0.64227941, 0.23946078, ..., 0.24723499, 0.3335095 ,\n",
       "         0.08235294],\n",
       "        [0.17254902, 0.24422727, 0.10196078, ..., 0.484375  , 0.57348106,\n",
       "         0.3254902 ]]),\n",
       " 'target': array([0, 0, 0, 0, 0, 0, 0, 0, 0, 0, 0, 0, 0, 0, 0, 0, 0, 0, 0, 0, 0, 0,\n",
       "        0, 0, 0, 0, 0, 0, 0, 0, 0, 0, 0, 0, 0, 0, 0, 0, 0, 0, 0, 0, 0, 0,\n",
       "        0, 0, 0, 0, 0, 0, 1, 1, 1, 1, 1, 1, 1, 1, 1, 1, 1, 1, 1, 1, 1, 1,\n",
       "        1, 1, 1, 1, 1, 1, 1, 1, 1, 1, 1, 1, 1, 1, 1, 1, 1, 1, 1, 1, 1, 1,\n",
       "        1, 1, 1, 1, 1, 1, 1, 1, 1, 1, 1, 2, 2, 2, 2, 2, 2, 2, 2, 2, 2, 2,\n",
       "        2, 2, 2, 2, 2, 2, 2, 2, 2, 2, 2, 2, 2, 2, 2, 2, 2, 2, 2, 2, 2, 2,\n",
       "        2, 2, 2, 2, 2, 2, 2, 2, 2, 2, 2, 2, 2, 2, 2, 2, 2, 3, 3, 3, 3, 3,\n",
       "        3, 3, 3, 3, 3, 3, 3, 3, 3, 3, 3, 3, 3, 3, 3, 3, 3, 3, 3, 3, 3, 3,\n",
       "        3, 3, 3, 3, 3, 3, 3, 3, 3, 3, 3, 3, 3, 3, 3, 3, 3, 3, 3, 3, 3, 3,\n",
       "        3, 3, 3, 3, 3, 3]),\n",
       " 'target_names': ['apple images', 'banana images', 'guava', 'lemon'],\n",
       " 'images': array([[[[0.95294118, 0.95686275, 0.97647059],\n",
       "          [0.95294118, 0.95686275, 0.97647059],\n",
       "          [0.95294118, 0.95686275, 0.97647059],\n",
       "          ...,\n",
       "          [0.90588235, 0.9254902 , 0.94117647],\n",
       "          [0.90196078, 0.92156863, 0.94117647],\n",
       "          [0.89672181, 0.92156863, 0.94117647]],\n",
       " \n",
       "         [[0.95294118, 0.95686275, 0.97647059],\n",
       "          [0.95294118, 0.95686275, 0.97647059],\n",
       "          [0.95294118, 0.95686275, 0.97647059],\n",
       "          ...,\n",
       "          [0.90588235, 0.9254902 , 0.94117647],\n",
       "          [0.90196078, 0.92156863, 0.94117647],\n",
       "          [0.89672181, 0.92156863, 0.94117647]],\n",
       " \n",
       "         [[0.95294118, 0.95686275, 0.97647059],\n",
       "          [0.95294118, 0.95686275, 0.97647059],\n",
       "          [0.95294118, 0.95686275, 0.97647059],\n",
       "          ...,\n",
       "          [0.90588235, 0.9254902 , 0.94117647],\n",
       "          [0.90196078, 0.92156863, 0.9372549 ],\n",
       "          [0.89803922, 0.92156863, 0.9372549 ]],\n",
       " \n",
       "         ...,\n",
       " \n",
       "         [[0.95294118, 0.95686275, 0.96470588],\n",
       "          [0.95294118, 0.95686275, 0.96470588],\n",
       "          [0.95294118, 0.95686275, 0.96470588],\n",
       "          ...,\n",
       "          [0.90588235, 0.91764706, 0.9372549 ],\n",
       "          [0.90980392, 0.92156863, 0.94117647],\n",
       "          [0.90980392, 0.92156863, 0.94117647]],\n",
       " \n",
       "         [[0.95294118, 0.95686275, 0.96470588],\n",
       "          [0.95294118, 0.95686275, 0.96470588],\n",
       "          [0.95294118, 0.95686275, 0.96470588],\n",
       "          ...,\n",
       "          [0.90980392, 0.92156863, 0.94117647],\n",
       "          [0.90980392, 0.92156863, 0.94117647],\n",
       "          [0.90980392, 0.92156863, 0.94117647]],\n",
       " \n",
       "         [[0.95294118, 0.95686275, 0.96470588],\n",
       "          [0.95294118, 0.95686275, 0.96470588],\n",
       "          [0.95294118, 0.95686275, 0.96470588],\n",
       "          ...,\n",
       "          [0.90980392, 0.92156863, 0.94117647],\n",
       "          [0.90980943, 0.92157413, 0.94118198],\n",
       "          [0.91050858, 0.92227328, 0.94188113]]],\n",
       " \n",
       " \n",
       "        [[[0.32941176, 0.47058824, 0.30490196],\n",
       "          [0.35294118, 0.47745098, 0.32156863],\n",
       "          [0.40882353, 0.42352941, 0.30392157],\n",
       "          ...,\n",
       "          [0.99607843, 0.99607843, 0.99607843],\n",
       "          [0.99607843, 0.99607843, 0.99607843],\n",
       "          [0.99607843, 0.99607843, 0.99607843]],\n",
       " \n",
       "         [[0.3627451 , 0.51568627, 0.33333333],\n",
       "          [0.36470588, 0.50196078, 0.34019608],\n",
       "          [0.3754902 , 0.39803922, 0.27352941],\n",
       "          ...,\n",
       "          [0.99607843, 0.99607843, 0.99607843],\n",
       "          [0.99215686, 0.99215686, 0.99215686],\n",
       "          [0.9627451 , 0.98235294, 0.9627451 ]],\n",
       " \n",
       "         [[0.40490196, 0.55196078, 0.37058824],\n",
       "          [0.38431373, 0.52647059, 0.35686275],\n",
       "          [0.36764706, 0.43431373, 0.28627451],\n",
       "          ...,\n",
       "          [0.99215686, 0.99215686, 0.99215686],\n",
       "          [0.92254902, 0.95686275, 0.91764706],\n",
       "          [0.70980392, 0.82156863, 0.66666667]],\n",
       " \n",
       "         ...,\n",
       " \n",
       "         [[0.23137255, 0.07254902, 0.0245098 ],\n",
       "          [0.24509804, 0.09607843, 0.03137255],\n",
       "          [0.26176471, 0.10980392, 0.02745098],\n",
       "          ...,\n",
       "          [0.46960784, 0.57058824, 0.37647059],\n",
       "          [0.38235294, 0.50392157, 0.23431373],\n",
       "          [0.31862745, 0.45980392, 0.14117647]],\n",
       " \n",
       "         [[0.24705882, 0.10588235, 0.02745098],\n",
       "          [0.24705882, 0.11764706, 0.02745098],\n",
       "          [0.24117647, 0.10980392, 0.02745098],\n",
       "          ...,\n",
       "          [0.50490196, 0.57647059, 0.45294118],\n",
       "          [0.41176471, 0.50392157, 0.31568627],\n",
       "          [0.31568627, 0.4372549 , 0.14705882]],\n",
       " \n",
       "         [[0.22352941, 0.10196078, 0.03137255],\n",
       "          [0.21568627, 0.09411765, 0.03137255],\n",
       "          [0.20980392, 0.09411765, 0.03137255],\n",
       "          ...,\n",
       "          [0.5372549 , 0.59411765, 0.50882353],\n",
       "          [0.4627451 , 0.52843137, 0.41568627],\n",
       "          [0.36960784, 0.46372549, 0.25784314]]],\n",
       " \n",
       " \n",
       "        [[[0.27843137, 0.52156863, 0.82352941],\n",
       "          [0.27843137, 0.52156863, 0.82352941],\n",
       "          [0.27843137, 0.5254902 , 0.82745098],\n",
       "          ...,\n",
       "          [0.28627451, 0.53333333, 0.84313725],\n",
       "          [0.28627451, 0.53333333, 0.84313725],\n",
       "          [0.28627451, 0.53333333, 0.84313725]],\n",
       " \n",
       "         [[0.28627451, 0.53333333, 0.83578431],\n",
       "          [0.28627451, 0.53333333, 0.83578431],\n",
       "          [0.28627451, 0.53333333, 0.83578431],\n",
       "          ...,\n",
       "          [0.29019608, 0.53946078, 0.85318627],\n",
       "          [0.29019608, 0.53946078, 0.85318627],\n",
       "          [0.29019608, 0.54117647, 0.85318627]],\n",
       " \n",
       "         [[0.29411765, 0.54117647, 0.84705882],\n",
       "          [0.29411765, 0.54117647, 0.84705882],\n",
       "          [0.29411765, 0.54117647, 0.84705882],\n",
       "          ...,\n",
       "          [0.29411765, 0.54901961, 0.8627451 ],\n",
       "          [0.29411765, 0.54901961, 0.8627451 ],\n",
       "          [0.29411765, 0.55269608, 0.8627451 ]],\n",
       " \n",
       "         ...,\n",
       " \n",
       "         [[0.51862745, 0.61651348, 0.50073529],\n",
       "          [0.49191176, 0.5747549 , 0.46078431],\n",
       "          [0.38014706, 0.43014706, 0.3676777 ],\n",
       "          ...,\n",
       "          [0.42503064, 0.46841299, 0.59901961],\n",
       "          [0.33651961, 0.37061887, 0.47622549],\n",
       "          [0.23866422, 0.23489583, 0.30229779]],\n",
       " \n",
       "         [[0.44313725, 0.52401961, 0.4385723 ],\n",
       "          [0.45168505, 0.53602941, 0.44803922],\n",
       "          [0.42815564, 0.50879289, 0.41838235],\n",
       "          ...,\n",
       "          [0.20689338, 0.25202206, 0.41151961],\n",
       "          [0.10934436, 0.13259804, 0.21691176],\n",
       "          [0.0627451 , 0.06412377, 0.09941789]],\n",
       " \n",
       "         [[0.48578431, 0.55637255, 0.45269608],\n",
       "          [0.47435662, 0.55686275, 0.45808824],\n",
       "          [0.4504902 , 0.55343137, 0.44656863],\n",
       "          ...,\n",
       "          [0.21617647, 0.27965686, 0.43691789],\n",
       "          [0.10416667, 0.13177083, 0.23529412],\n",
       "          [0.09678309, 0.10462623, 0.14730392]]],\n",
       " \n",
       " \n",
       "        ...,\n",
       " \n",
       " \n",
       "        [[[0.48210736, 0.62745098, 0.27058824],\n",
       "          [0.55346201, 0.65882353, 0.26666667],\n",
       "          [0.55585172, 0.67058824, 0.24089834],\n",
       "          ...,\n",
       "          [0.16862745, 0.29142396, 0.10588235],\n",
       "          [0.18731761, 0.31372549, 0.12383578],\n",
       "          [0.2       , 0.31764706, 0.1254902 ]],\n",
       " \n",
       "         [[0.48235294, 0.63137255, 0.24255515],\n",
       "          [0.50934005, 0.64313725, 0.25882353],\n",
       "          [0.5450674 , 0.64209559, 0.25098039],\n",
       "          ...,\n",
       "          [0.16470588, 0.30121831, 0.09019608],\n",
       "          [0.18606005, 0.32156863, 0.09803922],\n",
       "          [0.21960784, 0.3372549 , 0.11372549]],\n",
       " \n",
       "         [[0.50196078, 0.65098039, 0.25098039],\n",
       "          [0.46666667, 0.63137255, 0.25490196],\n",
       "          [0.49120711, 0.61960784, 0.27058824],\n",
       "          ...,\n",
       "          [0.17647059, 0.32560078, 0.08760388],\n",
       "          [0.18998162, 0.33333333, 0.08825875],\n",
       "          [0.21960784, 0.34503437, 0.10980392]],\n",
       " \n",
       "         ...,\n",
       " \n",
       "         [[0.29782236, 0.4229473 , 0.18808211],\n",
       "          [0.36276855, 0.48670343, 0.24356618],\n",
       "          [0.27000613, 0.39024539, 0.15628064],\n",
       "          ...,\n",
       "          [0.3234801 , 0.4869672 , 0.19666054],\n",
       "          [0.1825674 , 0.32374387, 0.10176978],\n",
       "          [0.24022672, 0.38198529, 0.13428069]],\n",
       " \n",
       "         [[0.34797794, 0.49742503, 0.19895833],\n",
       "          [0.29690564, 0.42759986, 0.18318015],\n",
       "          [0.21886537, 0.34587115, 0.12082615],\n",
       "          ...,\n",
       "          [0.32650123, 0.48832721, 0.2166973 ],\n",
       "          [0.20171138, 0.35015319, 0.1198223 ],\n",
       "          [0.19231149, 0.33783701, 0.10735151]],\n",
       " \n",
       "         [[0.39641496, 0.58290489, 0.22212058],\n",
       "          [0.30863827, 0.4685049 , 0.17355861],\n",
       "          [0.23756127, 0.37604406, 0.14344363],\n",
       "          ...,\n",
       "          [0.29019608, 0.45490196, 0.19215686],\n",
       "          [0.26200837, 0.42279268, 0.17181229],\n",
       "          [0.24540441, 0.40618873, 0.1526956 ]]],\n",
       " \n",
       " \n",
       "        [[[0.48156403, 0.64227941, 0.23946078],\n",
       "          [0.51691176, 0.66593137, 0.27058824],\n",
       "          [0.48897059, 0.64899663, 0.27146906],\n",
       "          ...,\n",
       "          [0.46789216, 0.61568627, 0.25098039],\n",
       "          [0.45261183, 0.60784314, 0.23529412],\n",
       "          [0.45490196, 0.60784314, 0.23529412]],\n",
       " \n",
       "         [[0.44730392, 0.61593137, 0.21985294],\n",
       "          [0.52107077, 0.67058824, 0.27513021],\n",
       "          [0.49639246, 0.65098039, 0.27058824],\n",
       "          ...,\n",
       "          [0.4745098 , 0.61960784, 0.23921569],\n",
       "          [0.46543352, 0.61176471, 0.22352941],\n",
       "          [0.46997549, 0.61568627, 0.23137255]],\n",
       " \n",
       "         [[0.45664063, 0.61742494, 0.24080882],\n",
       "          [0.51708793, 0.66740196, 0.2752451 ],\n",
       "          [0.5125    , 0.66434589, 0.27843137],\n",
       "          ...,\n",
       "          [0.48627451, 0.62745098, 0.22745098],\n",
       "          [0.4752451 , 0.61990656, 0.21568627],\n",
       "          [0.46666667, 0.61017157, 0.22179075]],\n",
       " \n",
       "         ...,\n",
       " \n",
       "         [[0.65688572, 0.83176317, 0.41985294],\n",
       "          [0.52837776, 0.6890242 , 0.25153952],\n",
       "          [0.41629136, 0.57365196, 0.13726256],\n",
       "          ...,\n",
       "          [0.22745098, 0.31445313, 0.0745098 ],\n",
       "          [0.22977941, 0.31764706, 0.07843137],\n",
       "          [0.22759651, 0.31764706, 0.07465533]],\n",
       " \n",
       "         [[0.67867647, 0.86687347, 0.40314798],\n",
       "          [0.675     , 0.85073529, 0.42670803],\n",
       "          [0.55129442, 0.70796569, 0.27328431],\n",
       "          ...,\n",
       "          [0.24086244, 0.32713695, 0.08235294],\n",
       "          [0.23590686, 0.32218137, 0.07843137],\n",
       "          [0.23979013, 0.32606464, 0.08235294]],\n",
       " \n",
       "         [[0.62897518, 0.82769608, 0.30066636],\n",
       "          [0.69877451, 0.88627451, 0.40596661],\n",
       "          [0.68002451, 0.85615043, 0.41335784],\n",
       "          ...,\n",
       "          [0.25806526, 0.34240196, 0.09019608],\n",
       "          [0.24987745, 0.33615196, 0.08627451],\n",
       "          [0.24723499, 0.3335095 , 0.08235294]]],\n",
       " \n",
       " \n",
       "        [[[0.17254902, 0.24422727, 0.10196078],\n",
       "          [0.18039216, 0.25490196, 0.11105191],\n",
       "          [0.16862745, 0.25098039, 0.10257688],\n",
       "          ...,\n",
       "          [0.86225155, 0.83219975, 0.7989277 ],\n",
       "          [0.80392157, 0.76595387, 0.71816789],\n",
       "          [0.77457108, 0.73143382, 0.68045343]],\n",
       " \n",
       "         [[0.17647059, 0.25490196, 0.10588235],\n",
       "          [0.18039216, 0.2627451 , 0.11372549],\n",
       "          [0.17254902, 0.26488971, 0.11194853],\n",
       "          ...,\n",
       "          [0.91133578, 0.89833554, 0.87723652],\n",
       "          [0.81094372, 0.77889093, 0.73575368],\n",
       "          [0.81080681, 0.77353755, 0.72845387]],\n",
       " \n",
       "         [[0.18823529, 0.27058824, 0.11991422],\n",
       "          [0.18658088, 0.27058824, 0.12156863],\n",
       "          [0.19215686, 0.28235294, 0.12941176],\n",
       "          ...,\n",
       "          [0.87104779, 0.85928309, 0.83455882],\n",
       "          [0.77952426, 0.74675245, 0.70690344],\n",
       "          [0.85278799, 0.8303036 , 0.78915106]],\n",
       " \n",
       "         ...,\n",
       " \n",
       "         [[0.37647059, 0.50196078, 0.32156863],\n",
       "          [0.36470588, 0.49411765, 0.30588235],\n",
       "          [0.35528636, 0.48627451, 0.29070016],\n",
       "          ...,\n",
       "          [0.5973178 , 0.69093137, 0.46897834],\n",
       "          [0.76305147, 0.82971814, 0.56939338],\n",
       "          [0.60272336, 0.69004289, 0.36379012]],\n",
       " \n",
       "         [[0.37254902, 0.50196078, 0.3254902 ],\n",
       "          [0.37254902, 0.50196078, 0.320245  ],\n",
       "          [0.36862745, 0.49981618, 0.31372549],\n",
       "          ...,\n",
       "          [0.53394608, 0.66786152, 0.45787377],\n",
       "          [0.66178912, 0.75508578, 0.50438113],\n",
       "          [0.62175245, 0.70621936, 0.41684235]],\n",
       " \n",
       "         [[0.36470588, 0.49411765, 0.32156863],\n",
       "          [0.37647059, 0.5083027 , 0.33648083],\n",
       "          [0.37506463, 0.50588235, 0.3254902 ],\n",
       "          ...,\n",
       "          [0.43079044, 0.5786152 , 0.40272336],\n",
       "          [0.48247549, 0.57978755, 0.37711397],\n",
       "          [0.484375  , 0.57348106, 0.3254902 ]]]]),\n",
       " 'desc': 'Image generation'}"
      ]
     },
     "execution_count": 11,
     "metadata": {},
     "output_type": "execute_result"
    }
   ],
   "source": [
    "dataset =generate_data(\"fruits\")\n",
    "dataset"
   ]
  },
  {
   "cell_type": "code",
   "execution_count": 12,
   "metadata": {},
   "outputs": [
    {
     "data": {
      "text/plain": [
       "dict_keys(['data', 'target', 'target_names', 'images', 'desc'])"
      ]
     },
     "execution_count": 12,
     "metadata": {},
     "output_type": "execute_result"
    }
   ],
   "source": [
    "dataset.keys()"
   ]
  },
  {
   "cell_type": "code",
   "execution_count": 13,
   "metadata": {},
   "outputs": [
    {
     "data": {
      "text/plain": [
       "(204, 12288)"
      ]
     },
     "execution_count": 13,
     "metadata": {},
     "output_type": "execute_result"
    }
   ],
   "source": [
    "dataset.data.shape"
   ]
  },
  {
   "cell_type": "code",
   "execution_count": 14,
   "metadata": {},
   "outputs": [
    {
     "data": {
      "text/plain": [
       "['apple images', 'banana images', 'guava', 'lemon']"
      ]
     },
     "execution_count": 14,
     "metadata": {},
     "output_type": "execute_result"
    }
   ],
   "source": [
    "dataset.target_names"
   ]
  },
  {
   "cell_type": "code",
   "execution_count": 15,
   "metadata": {},
   "outputs": [
    {
     "data": {
      "text/plain": [
       "(204,)"
      ]
     },
     "execution_count": 15,
     "metadata": {},
     "output_type": "execute_result"
    }
   ],
   "source": [
    "dataset.target.shape"
   ]
  },
  {
   "cell_type": "code",
   "execution_count": 16,
   "metadata": {},
   "outputs": [
    {
     "data": {
      "text/plain": [
       "<matplotlib.axes._subplots.AxesSubplot at 0x1ba04125988>"
      ]
     },
     "execution_count": 16,
     "metadata": {},
     "output_type": "execute_result"
    },
    {
     "data": {
      "image/png": "[encoded data removed]",
      "text/plain": [
       "<Figure size 432x288 with 1 Axes>"
      ]
     },
     "metadata": {
      "needs_background": "light"
     },
     "output_type": "display_data"
    }
   ],
   "source": [
    "sns.distplot(dataset.data)"
   ]
  },
  {
   "cell_type": "code",
   "execution_count": 17,
   "metadata": {},
   "outputs": [],
   "source": [
    "x = dataset.data\n",
    "y= dataset.target"
   ]
  },
  {
   "cell_type": "code",
   "execution_count": 18,
   "metadata": {},
   "outputs": [
    {
     "data": {
      "text/plain": [
       "(204, 12288)"
      ]
     },
     "execution_count": 18,
     "metadata": {},
     "output_type": "execute_result"
    }
   ],
   "source": [
    "x.shape"
   ]
  },
  {
   "cell_type": "code",
   "execution_count": 19,
   "metadata": {},
   "outputs": [
    {
     "data": {
      "text/plain": [
       "(204,)"
      ]
     },
     "execution_count": 19,
     "metadata": {},
     "output_type": "execute_result"
    }
   ],
   "source": [
    "y.shape"
   ]
  },
  {
   "cell_type": "code",
   "execution_count": 20,
   "metadata": {},
   "outputs": [],
   "source": [
    "from sklearn.model_selection import train_test_split"
   ]
  },
  {
   "cell_type": "code",
   "execution_count": 21,
   "metadata": {},
   "outputs": [],
   "source": [
    "x_train,x_test,y_train,y_test = train_test_split(x,y)"
   ]
  },
  {
   "cell_type": "code",
   "execution_count": 22,
   "metadata": {},
   "outputs": [
    {
     "data": {
      "text/plain": [
       "((153, 12288), (153,), (51, 12288), (51,))"
      ]
     },
     "execution_count": 22,
     "metadata": {},
     "output_type": "execute_result"
    }
   ],
   "source": [
    "x_train.shape,y_train.shape,x_test.shape,y_test.shape"
   ]
  },
  {
   "cell_type": "code",
   "execution_count": 23,
   "metadata": {},
   "outputs": [],
   "source": [
    "from sklearn.linear_model import LogisticRegression"
   ]
  },
  {
   "cell_type": "code",
   "execution_count": 24,
   "metadata": {},
   "outputs": [
    {
     "data": {
      "text/plain": [
       "LogisticRegression(C=1.0, class_weight=None, dual=False, fit_intercept=True,\n",
       "                   intercept_scaling=1, l1_ratio=None, max_iter=1000,\n",
       "                   multi_class='auto', n_jobs=None, penalty='l2',\n",
       "                   random_state=None, solver='lbfgs', tol=0.0001, verbose=0,\n",
       "                   warm_start=False)"
      ]
     },
     "execution_count": 24,
     "metadata": {},
     "output_type": "execute_result"
    }
   ],
   "source": [
    "lr = LogisticRegression(max_iter=1000)\n",
    "lr"
   ]
  },
  {
   "cell_type": "code",
   "execution_count": 25,
   "metadata": {},
   "outputs": [
    {
     "data": {
      "text/plain": [
       "LogisticRegression(C=1.0, class_weight=None, dual=False, fit_intercept=True,\n",
       "                   intercept_scaling=1, l1_ratio=None, max_iter=1000,\n",
       "                   multi_class='auto', n_jobs=None, penalty='l2',\n",
       "                   random_state=None, solver='lbfgs', tol=0.0001, verbose=0,\n",
       "                   warm_start=False)"
      ]
     },
     "execution_count": 25,
     "metadata": {},
     "output_type": "execute_result"
    }
   ],
   "source": [
    "lr.fit(x_train,y_train)"
   ]
  },
  {
   "cell_type": "code",
   "execution_count": 26,
   "metadata": {},
   "outputs": [],
   "source": [
    "yhat = lr.predict(x_test)"
   ]
  },
  {
   "cell_type": "code",
   "execution_count": 27,
   "metadata": {
    "collapsed": true,
    "jupyter": {
     "outputs_hidden": true
    }
   },
   "outputs": [
    {
     "data": {
      "text/html": [
       "<div>\n",
       "<style scoped>\n",
       "    .dataframe tbody tr th:only-of-type {\n",
       "        vertical-align: middle;\n",
       "    }\n",
       "\n",
       "    .dataframe tbody tr th {\n",
       "        vertical-align: top;\n",
       "    }\n",
       "\n",
       "    .dataframe thead th {\n",
       "        text-align: right;\n",
       "    }\n",
       "</style>\n",
       "<table border=\"1\" class=\"dataframe\">\n",
       "  <thead>\n",
       "    <tr style=\"text-align: right;\">\n",
       "      <th></th>\n",
       "      <th>Actual</th>\n",
       "      <th>New</th>\n",
       "      <th>Both are equal</th>\n",
       "    </tr>\n",
       "  </thead>\n",
       "  <tbody>\n",
       "    <tr>\n",
       "      <th>0</th>\n",
       "      <td>2</td>\n",
       "      <td>2</td>\n",
       "      <td>True</td>\n",
       "    </tr>\n",
       "    <tr>\n",
       "      <th>1</th>\n",
       "      <td>3</td>\n",
       "      <td>3</td>\n",
       "      <td>True</td>\n",
       "    </tr>\n",
       "    <tr>\n",
       "      <th>2</th>\n",
       "      <td>2</td>\n",
       "      <td>3</td>\n",
       "      <td>False</td>\n",
       "    </tr>\n",
       "    <tr>\n",
       "      <th>3</th>\n",
       "      <td>1</td>\n",
       "      <td>3</td>\n",
       "      <td>False</td>\n",
       "    </tr>\n",
       "    <tr>\n",
       "      <th>4</th>\n",
       "      <td>0</td>\n",
       "      <td>0</td>\n",
       "      <td>True</td>\n",
       "    </tr>\n",
       "    <tr>\n",
       "      <th>5</th>\n",
       "      <td>0</td>\n",
       "      <td>0</td>\n",
       "      <td>True</td>\n",
       "    </tr>\n",
       "    <tr>\n",
       "      <th>6</th>\n",
       "      <td>0</td>\n",
       "      <td>1</td>\n",
       "      <td>False</td>\n",
       "    </tr>\n",
       "    <tr>\n",
       "      <th>7</th>\n",
       "      <td>0</td>\n",
       "      <td>0</td>\n",
       "      <td>True</td>\n",
       "    </tr>\n",
       "    <tr>\n",
       "      <th>8</th>\n",
       "      <td>3</td>\n",
       "      <td>3</td>\n",
       "      <td>True</td>\n",
       "    </tr>\n",
       "    <tr>\n",
       "      <th>9</th>\n",
       "      <td>0</td>\n",
       "      <td>0</td>\n",
       "      <td>True</td>\n",
       "    </tr>\n",
       "    <tr>\n",
       "      <th>10</th>\n",
       "      <td>1</td>\n",
       "      <td>1</td>\n",
       "      <td>True</td>\n",
       "    </tr>\n",
       "    <tr>\n",
       "      <th>11</th>\n",
       "      <td>3</td>\n",
       "      <td>3</td>\n",
       "      <td>True</td>\n",
       "    </tr>\n",
       "    <tr>\n",
       "      <th>12</th>\n",
       "      <td>2</td>\n",
       "      <td>2</td>\n",
       "      <td>True</td>\n",
       "    </tr>\n",
       "    <tr>\n",
       "      <th>13</th>\n",
       "      <td>3</td>\n",
       "      <td>3</td>\n",
       "      <td>True</td>\n",
       "    </tr>\n",
       "    <tr>\n",
       "      <th>14</th>\n",
       "      <td>3</td>\n",
       "      <td>3</td>\n",
       "      <td>True</td>\n",
       "    </tr>\n",
       "    <tr>\n",
       "      <th>15</th>\n",
       "      <td>2</td>\n",
       "      <td>2</td>\n",
       "      <td>True</td>\n",
       "    </tr>\n",
       "    <tr>\n",
       "      <th>16</th>\n",
       "      <td>3</td>\n",
       "      <td>2</td>\n",
       "      <td>False</td>\n",
       "    </tr>\n",
       "    <tr>\n",
       "      <th>17</th>\n",
       "      <td>2</td>\n",
       "      <td>2</td>\n",
       "      <td>True</td>\n",
       "    </tr>\n",
       "    <tr>\n",
       "      <th>18</th>\n",
       "      <td>0</td>\n",
       "      <td>0</td>\n",
       "      <td>True</td>\n",
       "    </tr>\n",
       "    <tr>\n",
       "      <th>19</th>\n",
       "      <td>3</td>\n",
       "      <td>3</td>\n",
       "      <td>True</td>\n",
       "    </tr>\n",
       "    <tr>\n",
       "      <th>20</th>\n",
       "      <td>2</td>\n",
       "      <td>3</td>\n",
       "      <td>False</td>\n",
       "    </tr>\n",
       "    <tr>\n",
       "      <th>21</th>\n",
       "      <td>2</td>\n",
       "      <td>2</td>\n",
       "      <td>True</td>\n",
       "    </tr>\n",
       "    <tr>\n",
       "      <th>22</th>\n",
       "      <td>2</td>\n",
       "      <td>2</td>\n",
       "      <td>True</td>\n",
       "    </tr>\n",
       "    <tr>\n",
       "      <th>23</th>\n",
       "      <td>1</td>\n",
       "      <td>3</td>\n",
       "      <td>False</td>\n",
       "    </tr>\n",
       "    <tr>\n",
       "      <th>24</th>\n",
       "      <td>3</td>\n",
       "      <td>3</td>\n",
       "      <td>True</td>\n",
       "    </tr>\n",
       "    <tr>\n",
       "      <th>25</th>\n",
       "      <td>2</td>\n",
       "      <td>3</td>\n",
       "      <td>False</td>\n",
       "    </tr>\n",
       "    <tr>\n",
       "      <th>26</th>\n",
       "      <td>0</td>\n",
       "      <td>0</td>\n",
       "      <td>True</td>\n",
       "    </tr>\n",
       "    <tr>\n",
       "      <th>27</th>\n",
       "      <td>0</td>\n",
       "      <td>0</td>\n",
       "      <td>True</td>\n",
       "    </tr>\n",
       "    <tr>\n",
       "      <th>28</th>\n",
       "      <td>3</td>\n",
       "      <td>3</td>\n",
       "      <td>True</td>\n",
       "    </tr>\n",
       "    <tr>\n",
       "      <th>29</th>\n",
       "      <td>2</td>\n",
       "      <td>2</td>\n",
       "      <td>True</td>\n",
       "    </tr>\n",
       "    <tr>\n",
       "      <th>30</th>\n",
       "      <td>1</td>\n",
       "      <td>1</td>\n",
       "      <td>True</td>\n",
       "    </tr>\n",
       "    <tr>\n",
       "      <th>31</th>\n",
       "      <td>0</td>\n",
       "      <td>0</td>\n",
       "      <td>True</td>\n",
       "    </tr>\n",
       "    <tr>\n",
       "      <th>32</th>\n",
       "      <td>0</td>\n",
       "      <td>0</td>\n",
       "      <td>True</td>\n",
       "    </tr>\n",
       "    <tr>\n",
       "      <th>33</th>\n",
       "      <td>1</td>\n",
       "      <td>1</td>\n",
       "      <td>True</td>\n",
       "    </tr>\n",
       "    <tr>\n",
       "      <th>34</th>\n",
       "      <td>2</td>\n",
       "      <td>3</td>\n",
       "      <td>False</td>\n",
       "    </tr>\n",
       "    <tr>\n",
       "      <th>35</th>\n",
       "      <td>2</td>\n",
       "      <td>3</td>\n",
       "      <td>False</td>\n",
       "    </tr>\n",
       "    <tr>\n",
       "      <th>36</th>\n",
       "      <td>0</td>\n",
       "      <td>0</td>\n",
       "      <td>True</td>\n",
       "    </tr>\n",
       "    <tr>\n",
       "      <th>37</th>\n",
       "      <td>0</td>\n",
       "      <td>0</td>\n",
       "      <td>True</td>\n",
       "    </tr>\n",
       "    <tr>\n",
       "      <th>38</th>\n",
       "      <td>2</td>\n",
       "      <td>2</td>\n",
       "      <td>True</td>\n",
       "    </tr>\n",
       "    <tr>\n",
       "      <th>39</th>\n",
       "      <td>1</td>\n",
       "      <td>1</td>\n",
       "      <td>True</td>\n",
       "    </tr>\n",
       "    <tr>\n",
       "      <th>40</th>\n",
       "      <td>3</td>\n",
       "      <td>3</td>\n",
       "      <td>True</td>\n",
       "    </tr>\n",
       "    <tr>\n",
       "      <th>41</th>\n",
       "      <td>3</td>\n",
       "      <td>3</td>\n",
       "      <td>True</td>\n",
       "    </tr>\n",
       "    <tr>\n",
       "      <th>42</th>\n",
       "      <td>3</td>\n",
       "      <td>2</td>\n",
       "      <td>False</td>\n",
       "    </tr>\n",
       "    <tr>\n",
       "      <th>43</th>\n",
       "      <td>1</td>\n",
       "      <td>1</td>\n",
       "      <td>True</td>\n",
       "    </tr>\n",
       "    <tr>\n",
       "      <th>44</th>\n",
       "      <td>0</td>\n",
       "      <td>0</td>\n",
       "      <td>True</td>\n",
       "    </tr>\n",
       "    <tr>\n",
       "      <th>45</th>\n",
       "      <td>3</td>\n",
       "      <td>2</td>\n",
       "      <td>False</td>\n",
       "    </tr>\n",
       "    <tr>\n",
       "      <th>46</th>\n",
       "      <td>0</td>\n",
       "      <td>0</td>\n",
       "      <td>True</td>\n",
       "    </tr>\n",
       "    <tr>\n",
       "      <th>47</th>\n",
       "      <td>0</td>\n",
       "      <td>0</td>\n",
       "      <td>True</td>\n",
       "    </tr>\n",
       "    <tr>\n",
       "      <th>48</th>\n",
       "      <td>1</td>\n",
       "      <td>1</td>\n",
       "      <td>True</td>\n",
       "    </tr>\n",
       "    <tr>\n",
       "      <th>49</th>\n",
       "      <td>1</td>\n",
       "      <td>1</td>\n",
       "      <td>True</td>\n",
       "    </tr>\n",
       "    <tr>\n",
       "      <th>50</th>\n",
       "      <td>2</td>\n",
       "      <td>3</td>\n",
       "      <td>False</td>\n",
       "    </tr>\n",
       "  </tbody>\n",
       "</table>\n",
       "</div>"
      ],
      "text/plain": [
       "    Actual  New  Both are equal\n",
       "0        2    2            True\n",
       "1        3    3            True\n",
       "2        2    3           False\n",
       "3        1    3           False\n",
       "4        0    0            True\n",
       "5        0    0            True\n",
       "6        0    1           False\n",
       "7        0    0            True\n",
       "8        3    3            True\n",
       "9        0    0            True\n",
       "10       1    1            True\n",
       "11       3    3            True\n",
       "12       2    2            True\n",
       "13       3    3            True\n",
       "14       3    3            True\n",
       "15       2    2            True\n",
       "16       3    2           False\n",
       "17       2    2            True\n",
       "18       0    0            True\n",
       "19       3    3            True\n",
       "20       2    3           False\n",
       "21       2    2            True\n",
       "22       2    2            True\n",
       "23       1    3           False\n",
       "24       3    3            True\n",
       "25       2    3           False\n",
       "26       0    0            True\n",
       "27       0    0            True\n",
       "28       3    3            True\n",
       "29       2    2            True\n",
       "30       1    1            True\n",
       "31       0    0            True\n",
       "32       0    0            True\n",
       "33       1    1            True\n",
       "34       2    3           False\n",
       "35       2    3           False\n",
       "36       0    0            True\n",
       "37       0    0            True\n",
       "38       2    2            True\n",
       "39       1    1            True\n",
       "40       3    3            True\n",
       "41       3    3            True\n",
       "42       3    2           False\n",
       "43       1    1            True\n",
       "44       0    0            True\n",
       "45       3    2           False\n",
       "46       0    0            True\n",
       "47       0    0            True\n",
       "48       1    1            True\n",
       "49       1    1            True\n",
       "50       2    3           False"
      ]
     },
     "execution_count": 27,
     "metadata": {},
     "output_type": "execute_result"
    }
   ],
   "source": [
    "pd.DataFrame({'Actual':y_test,\n",
    "             'New':yhat,\n",
    "             'Both are equal':y_test==yhat})"
   ]
  },
  {
   "cell_type": "code",
   "execution_count": 28,
   "metadata": {},
   "outputs": [],
   "source": [
    "from sklearn.metrics import classification_report,confusion_matrix,plot_confusion_matrix"
   ]
  },
  {
   "cell_type": "code",
   "execution_count": 29,
   "metadata": {},
   "outputs": [],
   "source": [
    "cm = confusion_matrix(y_test,yhat)"
   ]
  },
  {
   "cell_type": "code",
   "execution_count": 30,
   "metadata": {},
   "outputs": [
    {
     "data": {
      "text/plain": [
       "<matplotlib.axes._subplots.AxesSubplot at 0x1ba7efd3808>"
      ]
     },
     "execution_count": 30,
     "metadata": {},
     "output_type": "execute_result"
    },
    {
     "data": {
      "image/png": "[encoded data removed]",
      "text/plain": [
       "<Figure size 432x288 with 2 Axes>"
      ]
     },
     "metadata": {
      "needs_background": "light"
     },
     "output_type": "display_data"
    }
   ],
   "source": [
    "sns.heatmap(cm,annot=True)"
   ]
  },
  {
   "cell_type": "code",
   "execution_count": 31,
   "metadata": {},
   "outputs": [
    {
     "data": {
      "text/plain": [
       "<sklearn.metrics._plot.confusion_matrix.ConfusionMatrixDisplay at 0x1ba068f5b08>"
      ]
     },
     "execution_count": 31,
     "metadata": {},
     "output_type": "execute_result"
    },
    {
     "data": {
      "image/png": "[encoded data removed]",
      "text/plain": [
       "<Figure size 432x288 with 2 Axes>"
      ]
     },
     "metadata": {
      "needs_background": "light"
     },
     "output_type": "display_data"
    }
   ],
   "source": [
    "plot_confusion_matrix(lr,x_train,y_train)"
   ]
  },
  {
   "cell_type": "code",
   "execution_count": 32,
   "metadata": {},
   "outputs": [
    {
     "data": {
      "text/plain": [
       "<sklearn.metrics._plot.confusion_matrix.ConfusionMatrixDisplay at 0x1ba058aa8c8>"
      ]
     },
     "execution_count": 32,
     "metadata": {},
     "output_type": "execute_result"
    },
    {
     "data": {
      "image/png": "[encoded data removed]",
      "text/plain": [
       "<Figure size 432x288 with 2 Axes>"
      ]
     },
     "metadata": {
      "needs_background": "light"
     },
     "output_type": "display_data"
    }
   ],
   "source": [
    "plot_confusion_matrix(lr,x_test,yhat)"
   ]
  },
  {
   "cell_type": "code",
   "execution_count": 33,
   "metadata": {},
   "outputs": [
    {
     "name": "stdout",
     "output_type": "stream",
     "text": [
      "              precision    recall  f1-score   support\n",
      "\n",
      "           0       1.00      0.93      0.97        15\n",
      "           1       0.88      0.78      0.82         9\n",
      "           2       0.73      0.57      0.64        14\n",
      "           3       0.56      0.77      0.65        13\n",
      "\n",
      "    accuracy                           0.76        51\n",
      "   macro avg       0.79      0.76      0.77        51\n",
      "weighted avg       0.79      0.76      0.77        51\n",
      "\n"
     ]
    }
   ],
   "source": [
    "print(classification_report(y_test,yhat))"
   ]
  },
  {
   "cell_type": "code",
   "execution_count": 34,
   "metadata": {},
   "outputs": [],
   "source": [
    "from sklearn.metrics import accuracy_score,precision_score"
   ]
  },
  {
   "cell_type": "code",
   "execution_count": 35,
   "metadata": {},
   "outputs": [
    {
     "data": {
      "text/plain": [
       "0.7647058823529411"
      ]
     },
     "execution_count": 35,
     "metadata": {},
     "output_type": "execute_result"
    }
   ],
   "source": [
    "accuracy_score(y_test,yhat)"
   ]
  },
  {
   "cell_type": "markdown",
   "metadata": {},
   "source": [
    "# KNN CLASSIFIER"
   ]
  },
  {
   "cell_type": "code",
   "execution_count": 36,
   "metadata": {},
   "outputs": [],
   "source": [
    "from sklearn.neighbors import KNeighborsClassifier"
   ]
  },
  {
   "cell_type": "code",
   "execution_count": 37,
   "metadata": {},
   "outputs": [],
   "source": [
    "knn = KNeighborsClassifier()"
   ]
  },
  {
   "cell_type": "code",
   "execution_count": 38,
   "metadata": {},
   "outputs": [
    {
     "data": {
      "text/plain": [
       "KNeighborsClassifier(algorithm='auto', leaf_size=30, metric='minkowski',\n",
       "                     metric_params=None, n_jobs=None, n_neighbors=5, p=2,\n",
       "                     weights='uniform')"
      ]
     },
     "execution_count": 38,
     "metadata": {},
     "output_type": "execute_result"
    }
   ],
   "source": [
    "knn.fit(x_train,y_train)"
   ]
  },
  {
   "cell_type": "code",
   "execution_count": 39,
   "metadata": {},
   "outputs": [
    {
     "data": {
      "text/plain": [
       "array([2, 2, 3, 3, 0, 0, 0, 0, 3, 0, 1, 3, 2, 3, 2, 2, 2, 2, 2, 2, 2, 2,\n",
       "       2, 3, 3, 3, 3, 0, 3, 2, 1, 0, 0, 1, 2, 2, 0, 3, 2, 1, 3, 2, 2, 1,\n",
       "       0, 3, 0, 0, 2, 1, 2])"
      ]
     },
     "execution_count": 39,
     "metadata": {},
     "output_type": "execute_result"
    }
   ],
   "source": [
    "knn_yhat = knn.predict(x_test)\n",
    "knn_yhat"
   ]
  },
  {
   "cell_type": "code",
   "execution_count": 40,
   "metadata": {},
   "outputs": [
    {
     "data": {
      "text/html": [
       "<div>\n",
       "<style scoped>\n",
       "    .dataframe tbody tr th:only-of-type {\n",
       "        vertical-align: middle;\n",
       "    }\n",
       "\n",
       "    .dataframe tbody tr th {\n",
       "        vertical-align: top;\n",
       "    }\n",
       "\n",
       "    .dataframe thead th {\n",
       "        text-align: right;\n",
       "    }\n",
       "</style>\n",
       "<table border=\"1\" class=\"dataframe\">\n",
       "  <thead>\n",
       "    <tr style=\"text-align: right;\">\n",
       "      <th></th>\n",
       "      <th>Actual</th>\n",
       "      <th>Knn prediction</th>\n",
       "      <th>Logistic prediction</th>\n",
       "      <th>y_test and Knn_yhat</th>\n",
       "      <th>y_test and yhat</th>\n",
       "    </tr>\n",
       "  </thead>\n",
       "  <tbody>\n",
       "    <tr>\n",
       "      <th>0</th>\n",
       "      <td>2</td>\n",
       "      <td>2</td>\n",
       "      <td>2</td>\n",
       "      <td>True</td>\n",
       "      <td>True</td>\n",
       "    </tr>\n",
       "    <tr>\n",
       "      <th>1</th>\n",
       "      <td>3</td>\n",
       "      <td>2</td>\n",
       "      <td>3</td>\n",
       "      <td>False</td>\n",
       "      <td>True</td>\n",
       "    </tr>\n",
       "    <tr>\n",
       "      <th>2</th>\n",
       "      <td>2</td>\n",
       "      <td>3</td>\n",
       "      <td>3</td>\n",
       "      <td>False</td>\n",
       "      <td>False</td>\n",
       "    </tr>\n",
       "    <tr>\n",
       "      <th>3</th>\n",
       "      <td>1</td>\n",
       "      <td>3</td>\n",
       "      <td>3</td>\n",
       "      <td>False</td>\n",
       "      <td>False</td>\n",
       "    </tr>\n",
       "    <tr>\n",
       "      <th>4</th>\n",
       "      <td>0</td>\n",
       "      <td>0</td>\n",
       "      <td>0</td>\n",
       "      <td>True</td>\n",
       "      <td>True</td>\n",
       "    </tr>\n",
       "    <tr>\n",
       "      <th>5</th>\n",
       "      <td>0</td>\n",
       "      <td>0</td>\n",
       "      <td>0</td>\n",
       "      <td>True</td>\n",
       "      <td>True</td>\n",
       "    </tr>\n",
       "    <tr>\n",
       "      <th>6</th>\n",
       "      <td>0</td>\n",
       "      <td>0</td>\n",
       "      <td>1</td>\n",
       "      <td>True</td>\n",
       "      <td>False</td>\n",
       "    </tr>\n",
       "    <tr>\n",
       "      <th>7</th>\n",
       "      <td>0</td>\n",
       "      <td>0</td>\n",
       "      <td>0</td>\n",
       "      <td>True</td>\n",
       "      <td>True</td>\n",
       "    </tr>\n",
       "    <tr>\n",
       "      <th>8</th>\n",
       "      <td>3</td>\n",
       "      <td>3</td>\n",
       "      <td>3</td>\n",
       "      <td>True</td>\n",
       "      <td>True</td>\n",
       "    </tr>\n",
       "    <tr>\n",
       "      <th>9</th>\n",
       "      <td>0</td>\n",
       "      <td>0</td>\n",
       "      <td>0</td>\n",
       "      <td>True</td>\n",
       "      <td>True</td>\n",
       "    </tr>\n",
       "    <tr>\n",
       "      <th>10</th>\n",
       "      <td>1</td>\n",
       "      <td>1</td>\n",
       "      <td>1</td>\n",
       "      <td>True</td>\n",
       "      <td>True</td>\n",
       "    </tr>\n",
       "    <tr>\n",
       "      <th>11</th>\n",
       "      <td>3</td>\n",
       "      <td>3</td>\n",
       "      <td>3</td>\n",
       "      <td>True</td>\n",
       "      <td>True</td>\n",
       "    </tr>\n",
       "    <tr>\n",
       "      <th>12</th>\n",
       "      <td>2</td>\n",
       "      <td>2</td>\n",
       "      <td>2</td>\n",
       "      <td>True</td>\n",
       "      <td>True</td>\n",
       "    </tr>\n",
       "    <tr>\n",
       "      <th>13</th>\n",
       "      <td>3</td>\n",
       "      <td>3</td>\n",
       "      <td>3</td>\n",
       "      <td>True</td>\n",
       "      <td>True</td>\n",
       "    </tr>\n",
       "    <tr>\n",
       "      <th>14</th>\n",
       "      <td>3</td>\n",
       "      <td>2</td>\n",
       "      <td>3</td>\n",
       "      <td>False</td>\n",
       "      <td>True</td>\n",
       "    </tr>\n",
       "    <tr>\n",
       "      <th>15</th>\n",
       "      <td>2</td>\n",
       "      <td>2</td>\n",
       "      <td>2</td>\n",
       "      <td>True</td>\n",
       "      <td>True</td>\n",
       "    </tr>\n",
       "    <tr>\n",
       "      <th>16</th>\n",
       "      <td>3</td>\n",
       "      <td>2</td>\n",
       "      <td>2</td>\n",
       "      <td>False</td>\n",
       "      <td>False</td>\n",
       "    </tr>\n",
       "    <tr>\n",
       "      <th>17</th>\n",
       "      <td>2</td>\n",
       "      <td>2</td>\n",
       "      <td>2</td>\n",
       "      <td>True</td>\n",
       "      <td>True</td>\n",
       "    </tr>\n",
       "    <tr>\n",
       "      <th>18</th>\n",
       "      <td>0</td>\n",
       "      <td>2</td>\n",
       "      <td>0</td>\n",
       "      <td>False</td>\n",
       "      <td>True</td>\n",
       "    </tr>\n",
       "    <tr>\n",
       "      <th>19</th>\n",
       "      <td>3</td>\n",
       "      <td>2</td>\n",
       "      <td>3</td>\n",
       "      <td>False</td>\n",
       "      <td>True</td>\n",
       "    </tr>\n",
       "    <tr>\n",
       "      <th>20</th>\n",
       "      <td>2</td>\n",
       "      <td>2</td>\n",
       "      <td>3</td>\n",
       "      <td>True</td>\n",
       "      <td>False</td>\n",
       "    </tr>\n",
       "    <tr>\n",
       "      <th>21</th>\n",
       "      <td>2</td>\n",
       "      <td>2</td>\n",
       "      <td>2</td>\n",
       "      <td>True</td>\n",
       "      <td>True</td>\n",
       "    </tr>\n",
       "    <tr>\n",
       "      <th>22</th>\n",
       "      <td>2</td>\n",
       "      <td>2</td>\n",
       "      <td>2</td>\n",
       "      <td>True</td>\n",
       "      <td>True</td>\n",
       "    </tr>\n",
       "    <tr>\n",
       "      <th>23</th>\n",
       "      <td>1</td>\n",
       "      <td>3</td>\n",
       "      <td>3</td>\n",
       "      <td>False</td>\n",
       "      <td>False</td>\n",
       "    </tr>\n",
       "    <tr>\n",
       "      <th>24</th>\n",
       "      <td>3</td>\n",
       "      <td>3</td>\n",
       "      <td>3</td>\n",
       "      <td>True</td>\n",
       "      <td>True</td>\n",
       "    </tr>\n",
       "    <tr>\n",
       "      <th>25</th>\n",
       "      <td>2</td>\n",
       "      <td>3</td>\n",
       "      <td>3</td>\n",
       "      <td>False</td>\n",
       "      <td>False</td>\n",
       "    </tr>\n",
       "    <tr>\n",
       "      <th>26</th>\n",
       "      <td>0</td>\n",
       "      <td>3</td>\n",
       "      <td>0</td>\n",
       "      <td>False</td>\n",
       "      <td>True</td>\n",
       "    </tr>\n",
       "    <tr>\n",
       "      <th>27</th>\n",
       "      <td>0</td>\n",
       "      <td>0</td>\n",
       "      <td>0</td>\n",
       "      <td>True</td>\n",
       "      <td>True</td>\n",
       "    </tr>\n",
       "    <tr>\n",
       "      <th>28</th>\n",
       "      <td>3</td>\n",
       "      <td>3</td>\n",
       "      <td>3</td>\n",
       "      <td>True</td>\n",
       "      <td>True</td>\n",
       "    </tr>\n",
       "    <tr>\n",
       "      <th>29</th>\n",
       "      <td>2</td>\n",
       "      <td>2</td>\n",
       "      <td>2</td>\n",
       "      <td>True</td>\n",
       "      <td>True</td>\n",
       "    </tr>\n",
       "    <tr>\n",
       "      <th>30</th>\n",
       "      <td>1</td>\n",
       "      <td>1</td>\n",
       "      <td>1</td>\n",
       "      <td>True</td>\n",
       "      <td>True</td>\n",
       "    </tr>\n",
       "    <tr>\n",
       "      <th>31</th>\n",
       "      <td>0</td>\n",
       "      <td>0</td>\n",
       "      <td>0</td>\n",
       "      <td>True</td>\n",
       "      <td>True</td>\n",
       "    </tr>\n",
       "    <tr>\n",
       "      <th>32</th>\n",
       "      <td>0</td>\n",
       "      <td>0</td>\n",
       "      <td>0</td>\n",
       "      <td>True</td>\n",
       "      <td>True</td>\n",
       "    </tr>\n",
       "    <tr>\n",
       "      <th>33</th>\n",
       "      <td>1</td>\n",
       "      <td>1</td>\n",
       "      <td>1</td>\n",
       "      <td>True</td>\n",
       "      <td>True</td>\n",
       "    </tr>\n",
       "    <tr>\n",
       "      <th>34</th>\n",
       "      <td>2</td>\n",
       "      <td>2</td>\n",
       "      <td>3</td>\n",
       "      <td>True</td>\n",
       "      <td>False</td>\n",
       "    </tr>\n",
       "    <tr>\n",
       "      <th>35</th>\n",
       "      <td>2</td>\n",
       "      <td>2</td>\n",
       "      <td>3</td>\n",
       "      <td>True</td>\n",
       "      <td>False</td>\n",
       "    </tr>\n",
       "    <tr>\n",
       "      <th>36</th>\n",
       "      <td>0</td>\n",
       "      <td>0</td>\n",
       "      <td>0</td>\n",
       "      <td>True</td>\n",
       "      <td>True</td>\n",
       "    </tr>\n",
       "    <tr>\n",
       "      <th>37</th>\n",
       "      <td>0</td>\n",
       "      <td>3</td>\n",
       "      <td>0</td>\n",
       "      <td>False</td>\n",
       "      <td>True</td>\n",
       "    </tr>\n",
       "    <tr>\n",
       "      <th>38</th>\n",
       "      <td>2</td>\n",
       "      <td>2</td>\n",
       "      <td>2</td>\n",
       "      <td>True</td>\n",
       "      <td>True</td>\n",
       "    </tr>\n",
       "    <tr>\n",
       "      <th>39</th>\n",
       "      <td>1</td>\n",
       "      <td>1</td>\n",
       "      <td>1</td>\n",
       "      <td>True</td>\n",
       "      <td>True</td>\n",
       "    </tr>\n",
       "    <tr>\n",
       "      <th>40</th>\n",
       "      <td>3</td>\n",
       "      <td>3</td>\n",
       "      <td>3</td>\n",
       "      <td>True</td>\n",
       "      <td>True</td>\n",
       "    </tr>\n",
       "    <tr>\n",
       "      <th>41</th>\n",
       "      <td>3</td>\n",
       "      <td>2</td>\n",
       "      <td>3</td>\n",
       "      <td>False</td>\n",
       "      <td>True</td>\n",
       "    </tr>\n",
       "    <tr>\n",
       "      <th>42</th>\n",
       "      <td>3</td>\n",
       "      <td>2</td>\n",
       "      <td>2</td>\n",
       "      <td>False</td>\n",
       "      <td>False</td>\n",
       "    </tr>\n",
       "    <tr>\n",
       "      <th>43</th>\n",
       "      <td>1</td>\n",
       "      <td>1</td>\n",
       "      <td>1</td>\n",
       "      <td>True</td>\n",
       "      <td>True</td>\n",
       "    </tr>\n",
       "    <tr>\n",
       "      <th>44</th>\n",
       "      <td>0</td>\n",
       "      <td>0</td>\n",
       "      <td>0</td>\n",
       "      <td>True</td>\n",
       "      <td>True</td>\n",
       "    </tr>\n",
       "    <tr>\n",
       "      <th>45</th>\n",
       "      <td>3</td>\n",
       "      <td>3</td>\n",
       "      <td>2</td>\n",
       "      <td>True</td>\n",
       "      <td>False</td>\n",
       "    </tr>\n",
       "    <tr>\n",
       "      <th>46</th>\n",
       "      <td>0</td>\n",
       "      <td>0</td>\n",
       "      <td>0</td>\n",
       "      <td>True</td>\n",
       "      <td>True</td>\n",
       "    </tr>\n",
       "    <tr>\n",
       "      <th>47</th>\n",
       "      <td>0</td>\n",
       "      <td>0</td>\n",
       "      <td>0</td>\n",
       "      <td>True</td>\n",
       "      <td>True</td>\n",
       "    </tr>\n",
       "    <tr>\n",
       "      <th>48</th>\n",
       "      <td>1</td>\n",
       "      <td>2</td>\n",
       "      <td>1</td>\n",
       "      <td>False</td>\n",
       "      <td>True</td>\n",
       "    </tr>\n",
       "    <tr>\n",
       "      <th>49</th>\n",
       "      <td>1</td>\n",
       "      <td>1</td>\n",
       "      <td>1</td>\n",
       "      <td>True</td>\n",
       "      <td>True</td>\n",
       "    </tr>\n",
       "    <tr>\n",
       "      <th>50</th>\n",
       "      <td>2</td>\n",
       "      <td>2</td>\n",
       "      <td>3</td>\n",
       "      <td>True</td>\n",
       "      <td>False</td>\n",
       "    </tr>\n",
       "  </tbody>\n",
       "</table>\n",
       "</div>"
      ],
      "text/plain": [
       "    Actual  Knn prediction  Logistic prediction  y_test and Knn_yhat  \\\n",
       "0        2               2                    2                 True   \n",
       "1        3               2                    3                False   \n",
       "2        2               3                    3                False   \n",
       "3        1               3                    3                False   \n",
       "4        0               0                    0                 True   \n",
       "5        0               0                    0                 True   \n",
       "6        0               0                    1                 True   \n",
       "7        0               0                    0                 True   \n",
       "8        3               3                    3                 True   \n",
       "9        0               0                    0                 True   \n",
       "10       1               1                    1                 True   \n",
       "11       3               3                    3                 True   \n",
       "12       2               2                    2                 True   \n",
       "13       3               3                    3                 True   \n",
       "14       3               2                    3                False   \n",
       "15       2               2                    2                 True   \n",
       "16       3               2                    2                False   \n",
       "17       2               2                    2                 True   \n",
       "18       0               2                    0                False   \n",
       "19       3               2                    3                False   \n",
       "20       2               2                    3                 True   \n",
       "21       2               2                    2                 True   \n",
       "22       2               2                    2                 True   \n",
       "23       1               3                    3                False   \n",
       "24       3               3                    3                 True   \n",
       "25       2               3                    3                False   \n",
       "26       0               3                    0                False   \n",
       "27       0               0                    0                 True   \n",
       "28       3               3                    3                 True   \n",
       "29       2               2                    2                 True   \n",
       "30       1               1                    1                 True   \n",
       "31       0               0                    0                 True   \n",
       "32       0               0                    0                 True   \n",
       "33       1               1                    1                 True   \n",
       "34       2               2                    3                 True   \n",
       "35       2               2                    3                 True   \n",
       "36       0               0                    0                 True   \n",
       "37       0               3                    0                False   \n",
       "38       2               2                    2                 True   \n",
       "39       1               1                    1                 True   \n",
       "40       3               3                    3                 True   \n",
       "41       3               2                    3                False   \n",
       "42       3               2                    2                False   \n",
       "43       1               1                    1                 True   \n",
       "44       0               0                    0                 True   \n",
       "45       3               3                    2                 True   \n",
       "46       0               0                    0                 True   \n",
       "47       0               0                    0                 True   \n",
       "48       1               2                    1                False   \n",
       "49       1               1                    1                 True   \n",
       "50       2               2                    3                 True   \n",
       "\n",
       "    y_test and yhat  \n",
       "0              True  \n",
       "1              True  \n",
       "2             False  \n",
       "3             False  \n",
       "4              True  \n",
       "5              True  \n",
       "6             False  \n",
       "7              True  \n",
       "8              True  \n",
       "9              True  \n",
       "10             True  \n",
       "11             True  \n",
       "12             True  \n",
       "13             True  \n",
       "14             True  \n",
       "15             True  \n",
       "16            False  \n",
       "17             True  \n",
       "18             True  \n",
       "19             True  \n",
       "20            False  \n",
       "21             True  \n",
       "22             True  \n",
       "23            False  \n",
       "24             True  \n",
       "25            False  \n",
       "26             True  \n",
       "27             True  \n",
       "28             True  \n",
       "29             True  \n",
       "30             True  \n",
       "31             True  \n",
       "32             True  \n",
       "33             True  \n",
       "34            False  \n",
       "35            False  \n",
       "36             True  \n",
       "37             True  \n",
       "38             True  \n",
       "39             True  \n",
       "40             True  \n",
       "41             True  \n",
       "42            False  \n",
       "43             True  \n",
       "44             True  \n",
       "45            False  \n",
       "46             True  \n",
       "47             True  \n",
       "48             True  \n",
       "49             True  \n",
       "50            False  "
      ]
     },
     "execution_count": 40,
     "metadata": {},
     "output_type": "execute_result"
    }
   ],
   "source": [
    "pd.DataFrame({'Actual':y_test,\n",
    "             \"Knn prediction\":knn_yhat,\n",
    "             \"Logistic prediction\":yhat,\n",
    "             \"y_test and Knn_yhat\":(y_test == knn_yhat),\n",
    "             \"y_test and yhat\":(y_test==yhat)})"
   ]
  },
  {
   "cell_type": "code",
   "execution_count": 41,
   "metadata": {},
   "outputs": [
    {
     "data": {
      "text/plain": [
       "<sklearn.metrics._plot.confusion_matrix.ConfusionMatrixDisplay at 0x1ba058aac88>"
      ]
     },
     "execution_count": 41,
     "metadata": {},
     "output_type": "execute_result"
    },
    {
     "data": {
      "image/png": "[encoded data removed]",
      "text/plain": [
       "<Figure size 432x288 with 2 Axes>"
      ]
     },
     "metadata": {
      "needs_background": "light"
     },
     "output_type": "display_data"
    }
   ],
   "source": [
    "plot_confusion_matrix(knn,x_test,knn_yhat)"
   ]
  },
  {
   "cell_type": "code",
   "execution_count": 42,
   "metadata": {},
   "outputs": [
    {
     "data": {
      "text/plain": [
       "<sklearn.metrics._plot.confusion_matrix.ConfusionMatrixDisplay at 0x1ba06de0ec8>"
      ]
     },
     "execution_count": 42,
     "metadata": {},
     "output_type": "execute_result"
    },
    {
     "data": {
      "image/png": "[encoded data removed]",
      "text/plain": [
       "<Figure size 432x288 with 2 Axes>"
      ]
     },
     "metadata": {
      "needs_background": "light"
     },
     "output_type": "display_data"
    }
   ],
   "source": [
    "plot_confusion_matrix(knn,x_train,y_train)"
   ]
  },
  {
   "cell_type": "code",
   "execution_count": 43,
   "metadata": {},
   "outputs": [],
   "source": [
    "cm = confusion_matrix(y_test,knn_yhat)"
   ]
  },
  {
   "cell_type": "code",
   "execution_count": 44,
   "metadata": {},
   "outputs": [
    {
     "data": {
      "text/plain": [
       "<matplotlib.axes._subplots.AxesSubplot at 0x1ba06ed57c8>"
      ]
     },
     "execution_count": 44,
     "metadata": {},
     "output_type": "execute_result"
    },
    {
     "data": {
      "image/png": "[encoded data removed]",
      "text/plain": [
       "<Figure size 432x288 with 2 Axes>"
      ]
     },
     "metadata": {
      "needs_background": "light"
     },
     "output_type": "display_data"
    }
   ],
   "source": [
    "sns.heatmap(cm,annot=True)"
   ]
  },
  {
   "cell_type": "code",
   "execution_count": 45,
   "metadata": {},
   "outputs": [
    {
     "name": "stdout",
     "output_type": "stream",
     "text": [
      "              precision    recall  f1-score   support\n",
      "\n",
      "           0       1.00      0.80      0.89        15\n",
      "           1       1.00      0.67      0.80         9\n",
      "           2       0.60      0.86      0.71        14\n",
      "           3       0.54      0.54      0.54        13\n",
      "\n",
      "    accuracy                           0.73        51\n",
      "   macro avg       0.78      0.72      0.73        51\n",
      "weighted avg       0.77      0.73      0.73        51\n",
      "\n"
     ]
    }
   ],
   "source": [
    "print(classification_report(y_test,knn_yhat))"
   ]
  },
  {
   "cell_type": "code",
   "execution_count": 46,
   "metadata": {},
   "outputs": [],
   "source": [
    "tp = cm[0,0]"
   ]
  },
  {
   "cell_type": "code",
   "execution_count": 47,
   "metadata": {},
   "outputs": [],
   "source": [
    "tn = cm[1,1]"
   ]
  },
  {
   "cell_type": "code",
   "execution_count": 48,
   "metadata": {},
   "outputs": [],
   "source": [
    "fp = cm[1,0]"
   ]
  },
  {
   "cell_type": "code",
   "execution_count": 49,
   "metadata": {},
   "outputs": [],
   "source": [
    "fn = cm[0,1]"
   ]
  },
  {
   "cell_type": "code",
   "execution_count": 50,
   "metadata": {},
   "outputs": [
    {
     "data": {
      "text/plain": [
       "0.1111111111111111"
      ]
     },
     "execution_count": 50,
     "metadata": {},
     "output_type": "execute_result"
    }
   ],
   "source": [
    "acc = (tp/tn) / (tp+tn+fp+fn)\n",
    "acc"
   ]
  },
  {
   "cell_type": "code",
   "execution_count": 51,
   "metadata": {},
   "outputs": [],
   "source": [
    "from sklearn.metrics import plot_roc_curve"
   ]
  },
  {
   "cell_type": "code",
   "execution_count": 53,
   "metadata": {},
   "outputs": [],
   "source": [
    "from sklearn.naive_bayes import MultinomialNB,CategoricalNB,ComplementNB,BernoulliNB,GaussianNB"
   ]
  },
  {
   "cell_type": "markdown",
   "metadata": {},
   "source": [
    "### **MultiNominal Naviebayes**"
   ]
  },
  {
   "cell_type": "code",
   "execution_count": 54,
   "metadata": {},
   "outputs": [],
   "source": [
    "mnb = MultinomialNB()"
   ]
  },
  {
   "cell_type": "code",
   "execution_count": 56,
   "metadata": {},
   "outputs": [
    {
     "data": {
      "text/plain": [
       "MultinomialNB(alpha=1.0, class_prior=None, fit_prior=True)"
      ]
     },
     "execution_count": 56,
     "metadata": {},
     "output_type": "execute_result"
    }
   ],
   "source": [
    "mnb.fit(x_train,y_train)"
   ]
  },
  {
   "cell_type": "code",
   "execution_count": 57,
   "metadata": {},
   "outputs": [],
   "source": [
    "mnb_yhat = mnb.predict(x_test)"
   ]
  },
  {
   "cell_type": "code",
   "execution_count": 58,
   "metadata": {},
   "outputs": [
    {
     "data": {
      "text/plain": [
       "array([2, 3, 3, 1, 0, 0, 1, 0, 3, 1, 1, 3, 2, 3, 3, 2, 1, 2, 0, 3, 3, 2,\n",
       "       2, 3, 3, 3, 1, 0, 3, 2, 1, 0, 0, 1, 0, 1, 0, 0, 3, 1, 3, 2, 2, 1,\n",
       "       0, 2, 0, 0, 1, 1, 1])"
      ]
     },
     "execution_count": 58,
     "metadata": {},
     "output_type": "execute_result"
    }
   ],
   "source": [
    "mnb_yhat"
   ]
  },
  {
   "cell_type": "code",
   "execution_count": 61,
   "metadata": {},
   "outputs": [
    {
     "data": {
      "text/plain": [
       "array([[12,  3,  0,  0],\n",
       "       [ 0,  8,  0,  1],\n",
       "       [ 1,  2,  7,  4],\n",
       "       [ 0,  1,  3,  9]], dtype=int64)"
      ]
     },
     "execution_count": 61,
     "metadata": {},
     "output_type": "execute_result"
    }
   ],
   "source": [
    "cm = confusion_matrix(y_test,mnb_yhat)\n",
    "cm"
   ]
  },
  {
   "cell_type": "code",
   "execution_count": 62,
   "metadata": {},
   "outputs": [
    {
     "data": {
      "text/plain": [
       "<sklearn.metrics._plot.confusion_matrix.ConfusionMatrixDisplay at 0x1ba090bd308>"
      ]
     },
     "execution_count": 62,
     "metadata": {},
     "output_type": "execute_result"
    },
    {
     "data": {
      "image/png": "[encoded data removed]",
      "text/plain": [
       "<Figure size 432x288 with 2 Axes>"
      ]
     },
     "metadata": {
      "needs_background": "light"
     },
     "output_type": "display_data"
    }
   ],
   "source": [
    "plot_confusion_matrix(mnb,x_test,mnb_yhat)"
   ]
  },
  {
   "cell_type": "code",
   "execution_count": 64,
   "metadata": {},
   "outputs": [
    {
     "data": {
      "text/plain": [
       "0.7058823529411765"
      ]
     },
     "execution_count": 64,
     "metadata": {},
     "output_type": "execute_result"
    }
   ],
   "source": [
    "accuracy_score(y_test,mnb_yhat)"
   ]
  },
  {
   "cell_type": "markdown",
   "metadata": {},
   "source": [
    "### **Categorical Navie Bayes**"
   ]
  },
  {
   "cell_type": "code",
   "execution_count": 69,
   "metadata": {},
   "outputs": [],
   "source": [
    "cnb = CategoricalNB()"
   ]
  },
  {
   "cell_type": "code",
   "execution_count": 70,
   "metadata": {},
   "outputs": [
    {
     "data": {
      "text/plain": [
       "CategoricalNB(alpha=1.0, class_prior=None, fit_prior=True)"
      ]
     },
     "execution_count": 70,
     "metadata": {},
     "output_type": "execute_result"
    }
   ],
   "source": [
    "cnb.fit(x_train,y_train)"
   ]
  },
  {
   "cell_type": "code",
   "execution_count": 75,
   "metadata": {},
   "outputs": [
    {
     "data": {
      "text/plain": [
       "array([3])"
      ]
     },
     "execution_count": 75,
     "metadata": {},
     "output_type": "execute_result"
    }
   ],
   "source": [
    "cnb_yhat = cnb.predict(x_test[[0]])\n",
    "cnb_yhat"
   ]
  },
  {
   "cell_type": "markdown",
   "metadata": {},
   "source": [
    "### **Gaussiab NavieBayes**"
   ]
  },
  {
   "cell_type": "code",
   "execution_count": 79,
   "metadata": {},
   "outputs": [],
   "source": [
    "gb = GaussianNB()"
   ]
  },
  {
   "cell_type": "code",
   "execution_count": 81,
   "metadata": {},
   "outputs": [
    {
     "data": {
      "text/plain": [
       "GaussianNB(priors=None, var_smoothing=1e-09)"
      ]
     },
     "execution_count": 81,
     "metadata": {},
     "output_type": "execute_result"
    }
   ],
   "source": [
    "gb.fit(x_train,y_train)"
   ]
  },
  {
   "cell_type": "code",
   "execution_count": 83,
   "metadata": {},
   "outputs": [
    {
     "data": {
      "text/plain": [
       "array([2, 2, 2, 3, 0, 0, 0, 0, 2, 2, 1, 3, 2, 3, 3, 2, 2, 2, 0, 2, 2, 2,\n",
       "       2, 3, 3, 2, 2, 0, 3, 2, 1, 0, 0, 1, 3, 2, 0, 0, 2, 1, 3, 3, 2, 1,\n",
       "       0, 2, 3, 0, 1, 1, 3])"
      ]
     },
     "execution_count": 83,
     "metadata": {},
     "output_type": "execute_result"
    }
   ],
   "source": [
    "gb_yhat = gb.predict(x_test)\n",
    "gb_yhat"
   ]
  },
  {
   "cell_type": "code",
   "execution_count": 84,
   "metadata": {},
   "outputs": [],
   "source": [
    "cm = confusion_matrix(y_test,gb_yhat)"
   ]
  },
  {
   "cell_type": "code",
   "execution_count": 85,
   "metadata": {},
   "outputs": [
    {
     "data": {
      "text/plain": [
       "array([[12,  0,  2,  1],\n",
       "       [ 0,  7,  0,  2],\n",
       "       [ 0,  0, 12,  2],\n",
       "       [ 0,  0,  6,  7]], dtype=int64)"
      ]
     },
     "execution_count": 85,
     "metadata": {},
     "output_type": "execute_result"
    }
   ],
   "source": [
    "cm"
   ]
  },
  {
   "cell_type": "code",
   "execution_count": 86,
   "metadata": {},
   "outputs": [
    {
     "name": "stdout",
     "output_type": "stream",
     "text": [
      "              precision    recall  f1-score   support\n",
      "\n",
      "           0       1.00      0.80      0.89        15\n",
      "           1       1.00      0.78      0.88         9\n",
      "           2       0.60      0.86      0.71        14\n",
      "           3       0.58      0.54      0.56        13\n",
      "\n",
      "    accuracy                           0.75        51\n",
      "   macro avg       0.80      0.74      0.76        51\n",
      "weighted avg       0.78      0.75      0.75        51\n",
      "\n"
     ]
    }
   ],
   "source": [
    "print(classification_report(y_test,gb_yhat))"
   ]
  },
  {
   "cell_type": "code",
   "execution_count": 87,
   "metadata": {},
   "outputs": [
    {
     "data": {
      "text/plain": [
       "<sklearn.metrics._plot.confusion_matrix.ConfusionMatrixDisplay at 0x1ba0d163508>"
      ]
     },
     "execution_count": 87,
     "metadata": {},
     "output_type": "execute_result"
    },
    {
     "data": {
      "image/png": "[encoded data removed]",
      "text/plain": [
       "<Figure size 432x288 with 2 Axes>"
      ]
     },
     "metadata": {
      "needs_background": "light"
     },
     "output_type": "display_data"
    }
   ],
   "source": [
    "plot_confusion_matrix(gb,x_test,gb_yhat)"
   ]
  },
  {
   "cell_type": "code",
   "execution_count": 88,
   "metadata": {},
   "outputs": [
    {
     "data": {
      "text/plain": [
       "0.7450980392156863"
      ]
     },
     "execution_count": 88,
     "metadata": {},
     "output_type": "execute_result"
    }
   ],
   "source": [
    "accuracy_score(y_test,gb_yhat)"
   ]
  },
  {
   "cell_type": "markdown",
   "metadata": {},
   "source": [
    "### **Complement Navie Bayes**"
   ]
  },
  {
   "cell_type": "code",
   "execution_count": 89,
   "metadata": {},
   "outputs": [],
   "source": [
    "cb = ComplementNB()"
   ]
  },
  {
   "cell_type": "code",
   "execution_count": 90,
   "metadata": {},
   "outputs": [
    {
     "data": {
      "text/plain": [
       "ComplementNB(alpha=1.0, class_prior=None, fit_prior=True, norm=False)"
      ]
     },
     "execution_count": 90,
     "metadata": {},
     "output_type": "execute_result"
    }
   ],
   "source": [
    "cb.fit(x_train,y_train)"
   ]
  },
  {
   "cell_type": "code",
   "execution_count": 91,
   "metadata": {},
   "outputs": [
    {
     "data": {
      "text/plain": [
       "array([2, 3, 3, 1, 0, 0, 0, 0, 3, 1, 0, 3, 3, 3, 3, 2, 1, 3, 0, 3, 3, 3,\n",
       "       3, 3, 3, 3, 0, 0, 3, 3, 0, 0, 0, 0, 0, 1, 0, 0, 3, 0, 3, 3, 3, 0,\n",
       "       0, 3, 0, 0, 1, 0, 1])"
      ]
     },
     "execution_count": 91,
     "metadata": {},
     "output_type": "execute_result"
    }
   ],
   "source": [
    "cb_yhat = cb.predict(x_test)\n",
    "cb_yhat"
   ]
  },
  {
   "cell_type": "code",
   "execution_count": 92,
   "metadata": {},
   "outputs": [
    {
     "data": {
      "text/plain": [
       "array([[14,  1,  0,  0],\n",
       "       [ 6,  2,  0,  1],\n",
       "       [ 1,  2,  2,  9],\n",
       "       [ 0,  1,  0, 12]], dtype=int64)"
      ]
     },
     "execution_count": 92,
     "metadata": {},
     "output_type": "execute_result"
    }
   ],
   "source": [
    "cm = confusion_matrix(y_test,cb_yhat)\n",
    "cm"
   ]
  },
  {
   "cell_type": "code",
   "execution_count": 93,
   "metadata": {},
   "outputs": [
    {
     "name": "stdout",
     "output_type": "stream",
     "text": [
      "              precision    recall  f1-score   support\n",
      "\n",
      "           0       0.67      0.93      0.78        15\n",
      "           1       0.33      0.22      0.27         9\n",
      "           2       1.00      0.14      0.25        14\n",
      "           3       0.55      0.92      0.69        13\n",
      "\n",
      "    accuracy                           0.59        51\n",
      "   macro avg       0.64      0.56      0.50        51\n",
      "weighted avg       0.67      0.59      0.52        51\n",
      "\n"
     ]
    }
   ],
   "source": [
    "print(classification_report(y_test,cb_yhat))"
   ]
  },
  {
   "cell_type": "code",
   "execution_count": 94,
   "metadata": {},
   "outputs": [
    {
     "data": {
      "text/plain": [
       "0.5882352941176471"
      ]
     },
     "execution_count": 94,
     "metadata": {},
     "output_type": "execute_result"
    }
   ],
   "source": [
    "accuracy_score(y_test,cb_yhat)"
   ]
  },
  {
   "cell_type": "code",
   "execution_count": 95,
   "metadata": {},
   "outputs": [
    {
     "data": {
      "text/plain": [
       "<sklearn.metrics._plot.confusion_matrix.ConfusionMatrixDisplay at 0x1ba0e42be08>"
      ]
     },
     "execution_count": 95,
     "metadata": {},
     "output_type": "execute_result"
    },
    {
     "data": {
      "image/png": "[encoded data removed]",
      "text/plain": [
       "<Figure size 432x288 with 2 Axes>"
      ]
     },
     "metadata": {
      "needs_background": "light"
     },
     "output_type": "display_data"
    }
   ],
   "source": [
    "plot_confusion_matrix(gb,x_test,gb_yhat)"
   ]
  },
  {
   "cell_type": "markdown",
   "metadata": {},
   "source": [
    "### **Bernoulli Navie Bayes**"
   ]
  },
  {
   "cell_type": "code",
   "execution_count": 96,
   "metadata": {},
   "outputs": [],
   "source": [
    "b = BernoulliNB()"
   ]
  },
  {
   "cell_type": "code",
   "execution_count": 97,
   "metadata": {},
   "outputs": [
    {
     "data": {
      "text/plain": [
       "BernoulliNB(alpha=1.0, binarize=0.0, class_prior=None, fit_prior=True)"
      ]
     },
     "execution_count": 97,
     "metadata": {},
     "output_type": "execute_result"
    }
   ],
   "source": [
    "b.fit(x_train,y_train)"
   ]
  },
  {
   "cell_type": "code",
   "execution_count": 98,
   "metadata": {},
   "outputs": [
    {
     "data": {
      "text/plain": [
       "array([3, 3, 3, 1, 3, 3, 3, 3, 3, 3, 3, 3, 3, 3, 3, 3, 3, 3, 3, 3, 3, 3,\n",
       "       3, 1, 3, 3, 3, 3, 3, 3, 3, 3, 3, 3, 3, 3, 3, 3, 3, 3, 3, 3, 3, 3,\n",
       "       3, 3, 3, 3, 3, 3, 3])"
      ]
     },
     "execution_count": 98,
     "metadata": {},
     "output_type": "execute_result"
    }
   ],
   "source": [
    "b_yhat = b.predict(x_test)\n",
    "b_yhat"
   ]
  },
  {
   "cell_type": "code",
   "execution_count": 99,
   "metadata": {},
   "outputs": [
    {
     "data": {
      "text/plain": [
       "array([[12,  0,  2,  1],\n",
       "       [ 0,  7,  0,  2],\n",
       "       [ 0,  0, 12,  2],\n",
       "       [ 0,  0,  6,  7]], dtype=int64)"
      ]
     },
     "execution_count": 99,
     "metadata": {},
     "output_type": "execute_result"
    }
   ],
   "source": [
    "cm = confusion_matrix(y_test,gb_yhat)\n",
    "cm"
   ]
  },
  {
   "cell_type": "code",
   "execution_count": 100,
   "metadata": {},
   "outputs": [
    {
     "name": "stdout",
     "output_type": "stream",
     "text": [
      "              precision    recall  f1-score   support\n",
      "\n",
      "           0       1.00      0.80      0.89        15\n",
      "           1       1.00      0.78      0.88         9\n",
      "           2       0.60      0.86      0.71        14\n",
      "           3       0.58      0.54      0.56        13\n",
      "\n",
      "    accuracy                           0.75        51\n",
      "   macro avg       0.80      0.74      0.76        51\n",
      "weighted avg       0.78      0.75      0.75        51\n",
      "\n"
     ]
    }
   ],
   "source": [
    "print(classification_report(y_test,gb_yhat))"
   ]
  },
  {
   "cell_type": "code",
   "execution_count": 101,
   "metadata": {},
   "outputs": [
    {
     "data": {
      "text/plain": [
       "<sklearn.metrics._plot.confusion_matrix.ConfusionMatrixDisplay at 0x1ba0d88ef88>"
      ]
     },
     "execution_count": 101,
     "metadata": {},
     "output_type": "execute_result"
    },
    {
     "data": {
      "image/png": "[encoded data removed]",
      "text/plain": [
       "<Figure size 432x288 with 2 Axes>"
      ]
     },
     "metadata": {
      "needs_background": "light"
     },
     "output_type": "display_data"
    }
   ],
   "source": [
    "plot_confusion_matrix(gb,x_test,gb_yhat,cmap='viridis')"
   ]
  },
  {
   "cell_type": "code",
   "execution_count": 106,
   "metadata": {},
   "outputs": [
    {
     "name": "stdout",
     "output_type": "stream",
     "text": [
      "Model name GaussianNB(priors=None, var_smoothing=1e-09)\n",
      "Model score 0.7843137254901961\n",
      "******************************\n",
      "Model name MultinomialNB(alpha=1.0, class_prior=None, fit_prior=True)\n",
      "Model score 0.8235294117647058\n",
      "******************************\n",
      "Model name ComplementNB(alpha=1.0, class_prior=None, fit_prior=True, norm=False)\n",
      "Model score 0.5882352941176471\n",
      "******************************\n",
      "Model name BernoulliNB(alpha=1.0, binarize=0.0, class_prior=None, fit_prior=True)\n",
      "Model score 0.3137254901960784\n",
      "******************************\n",
      "Model name LogisticRegression(C=1.0, class_weight=None, dual=False, fit_intercept=True,\n",
      "                   intercept_scaling=1, l1_ratio=None, max_iter=1000,\n",
      "                   multi_class='auto', n_jobs=None, penalty='l2',\n",
      "                   random_state=None, solver='lbfgs', tol=0.0001, verbose=0,\n",
      "                   warm_start=False)\n",
      "Model score 1.0\n",
      "******************************\n",
      "Model name KNeighborsClassifier(algorithm='auto', leaf_size=30, metric='minkowski',\n",
      "                     metric_params=None, n_jobs=None, n_neighbors=5, p=2,\n",
      "                     weights='uniform')\n",
      "Model score 0.7254901960784313\n",
      "******************************\n"
     ]
    }
   ],
   "source": [
    "from sklearn.model_selection import cross_val_score\n",
    "models = [gb,mnb,cb,b,lr,knn]\n",
    "for i in models:\n",
    "    cv = cross_val_score(i,x_train,y_train,cv=4)\n",
    "    print(\"Model name\",i)\n",
    "    print(\"Model score\",i.score(x_test,yhat))\n",
    "    print(\"*\"*30)"
   ]
  },
  {
   "cell_type": "markdown",
   "metadata": {},
   "source": [
    "Here I conclude that for this Dataset Logistic ression algorithm is best model because model score is 100% while compared with other classification models"
   ]
  },
  {
   "cell_type": "code",
   "execution_count": null,
   "metadata": {},
   "outputs": [],
   "source": []
  }
 ],
 "metadata": {
  "kernelspec": {
   "display_name": "Python 3",
   "language": "python",
   "name": "python3"
  },
  "language_info": {
   "codemirror_mode": {
    "name": "ipython",
    "version": 3
   },
   "file_extension": ".py",
   "mimetype": "text/x-python",
   "name": "python",
   "nbconvert_exporter": "python",
   "pygments_lexer": "ipython3",
   "version": "3.7.5"
  }
 },
 "nbformat": 4,
 "nbformat_minor": 4
}
