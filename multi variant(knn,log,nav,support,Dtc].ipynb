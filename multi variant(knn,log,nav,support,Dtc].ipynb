{
 "cells": [
  {
   "cell_type": "code",
   "execution_count": 1,
   "metadata": {},
   "outputs": [],
   "source": [
    "import numpy as np"
   ]
  },
  {
   "cell_type": "code",
   "execution_count": 2,
   "metadata": {},
   "outputs": [],
   "source": [
    "import pandas as pd"
   ]
  },
  {
   "cell_type": "code",
   "execution_count": 3,
   "metadata": {},
   "outputs": [],
   "source": [
    "import matplotlib.pyplot as plt"
   ]
  },
  {
   "cell_type": "code",
   "execution_count": 4,
   "metadata": {},
   "outputs": [],
   "source": [
    "import seaborn as sns"
   ]
  },
  {
   "cell_type": "code",
   "execution_count": 5,
   "metadata": {},
   "outputs": [],
   "source": [
    "from pathlib import Path"
   ]
  },
  {
   "cell_type": "code",
   "execution_count": 6,
   "metadata": {},
   "outputs": [],
   "source": [
    "from sklearn.utils import Bunch"
   ]
  },
  {
   "cell_type": "code",
   "execution_count": 7,
   "metadata": {},
   "outputs": [],
   "source": [
    "from skimage.io import imread\n",
    "from skimage.transform import resize\n",
    "import skimage as sk"
   ]
  },
  {
   "cell_type": "code",
   "execution_count": 8,
   "metadata": {},
   "outputs": [],
   "source": [
    "def generate_data(Location, dim=(64,64)):\n",
    "    \"\"\"we are generating the data into equal dimensions\"\"\"\n",
    "    \n",
    "    img_dir = Path(Location)\n",
    "    print(img_dir) \n",
    "    folder_dir = [directory for directory in img_dir.iterdir()]\n",
    "    print(folder_dir)\n",
    "    categorical_data = [fo.name for fo in folder_dir]\n",
    "    print(categorical_data)\n",
    "\n",
    "    images = []\n",
    "    target = []\n",
    "    images_data = []\n",
    "\n",
    "    desc= \"Image generation\"\n",
    "\n",
    "    for i, direc in enumerate(folder_dir):\n",
    "        print(i,direc)\n",
    "        for files in direc.iterdir():\n",
    "            print(files)\n",
    "            img = imread(files)\n",
    "            img_resize = resize(img, dim)\n",
    "            images.append(img_resize)\n",
    "            images_data.append(img_resize.flatten())\n",
    "            target.append(i) # because target means folder names present in i\n",
    "\n",
    "    # Converting list into arrays\n",
    "    images = np.array(images)\n",
    "    flat_data = np.array(images_data)\n",
    "    target = np.array(target)\n",
    "    return Bunch(data = flat_data,\n",
    "                 target = target,\n",
    "                 target_names = categorical_data,\n",
    "                 images = images,\n",
    "                 desc = desc)\n",
    "    "
   ]
  },
  {
   "cell_type": "code",
   "execution_count": 9,
   "metadata": {},
   "outputs": [
    {
     "name": "stdout",
     "output_type": "stream",
     "text": [
      "fruits\n",
      "[WindowsPath('fruits/apple images'), WindowsPath('fruits/banana images'), WindowsPath('fruits/guava'), WindowsPath('fruits/lemon')]\n",
      "['apple images', 'banana images', 'guava', 'lemon']\n",
      "0 fruits\\apple images\n",
      "fruits\\apple images\\1.jpg\n",
      "fruits\\apple images\\10.jpg\n",
      "fruits\\apple images\\11.jpg\n",
      "fruits\\apple images\\12.jpg\n",
      "fruits\\apple images\\13.jpg\n",
      "fruits\\apple images\\14.jpg\n",
      "fruits\\apple images\\15.jpg\n",
      "fruits\\apple images\\16.jpg\n",
      "fruits\\apple images\\17.jpg\n",
      "fruits\\apple images\\18.jpg\n",
      "fruits\\apple images\\19.jpg\n",
      "fruits\\apple images\\2.jpg\n",
      "fruits\\apple images\\20.jpg\n",
      "fruits\\apple images\\21.jpg\n",
      "fruits\\apple images\\22.jpg\n",
      "fruits\\apple images\\23.jpg\n",
      "fruits\\apple images\\24.jpg\n",
      "fruits\\apple images\\25.jpg\n",
      "fruits\\apple images\\26.jpg\n",
      "fruits\\apple images\\27.jpg\n",
      "fruits\\apple images\\28.jpg\n",
      "fruits\\apple images\\29.jpg\n",
      "fruits\\apple images\\3.jpg\n",
      "fruits\\apple images\\30.jpg\n",
      "fruits\\apple images\\31.jpg\n",
      "fruits\\apple images\\32.jpg\n",
      "fruits\\apple images\\33.jpg\n",
      "fruits\\apple images\\34.jpg\n",
      "fruits\\apple images\\35.jpg\n",
      "fruits\\apple images\\36.jpg\n",
      "fruits\\apple images\\37.jpg\n",
      "fruits\\apple images\\38.jpg\n",
      "fruits\\apple images\\39.jpg\n",
      "fruits\\apple images\\4.jpg\n",
      "fruits\\apple images\\40.jpg\n",
      "fruits\\apple images\\41.jpg\n",
      "fruits\\apple images\\42.jpg\n",
      "fruits\\apple images\\43.jpg\n",
      "fruits\\apple images\\44.jpg\n",
      "fruits\\apple images\\45.jpg\n",
      "fruits\\apple images\\46.jpg\n",
      "fruits\\apple images\\47.jpg\n",
      "fruits\\apple images\\48.jpg\n",
      "fruits\\apple images\\49.jpg\n",
      "fruits\\apple images\\5.jpg\n",
      "fruits\\apple images\\50.jpg\n",
      "fruits\\apple images\\6.jpg\n",
      "fruits\\apple images\\7.jpg\n",
      "fruits\\apple images\\8.jpg\n",
      "fruits\\apple images\\9.jpg\n",
      "1 fruits\\banana images\n",
      "fruits\\banana images\\1.jpg\n",
      "fruits\\banana images\\10.jpg\n",
      "fruits\\banana images\\11.jpg\n",
      "fruits\\banana images\\12.jpg\n",
      "fruits\\banana images\\13.jpg\n",
      "fruits\\banana images\\14.jpg\n",
      "fruits\\banana images\\15.jpg\n",
      "fruits\\banana images\\16.jpg\n",
      "fruits\\banana images\\17.jpg\n",
      "fruits\\banana images\\18.jpg\n",
      "fruits\\banana images\\19.jpg\n",
      "fruits\\banana images\\2.jpg\n",
      "fruits\\banana images\\20.jpg\n",
      "fruits\\banana images\\21.jpg\n",
      "fruits\\banana images\\22.jpg\n",
      "fruits\\banana images\\23.jpg\n",
      "fruits\\banana images\\24.jpg\n",
      "fruits\\banana images\\25.jpg\n",
      "fruits\\banana images\\26.jpg\n",
      "fruits\\banana images\\27.jpg\n",
      "fruits\\banana images\\28.jpg\n",
      "fruits\\banana images\\29.jpg\n",
      "fruits\\banana images\\3.jpg\n",
      "fruits\\banana images\\30.jpg\n",
      "fruits\\banana images\\31.jpg\n",
      "fruits\\banana images\\32.jpg\n",
      "fruits\\banana images\\33.jpg\n",
      "fruits\\banana images\\34.jpg\n",
      "fruits\\banana images\\35.jpg\n",
      "fruits\\banana images\\36.jpg\n",
      "fruits\\banana images\\37.jpg\n",
      "fruits\\banana images\\38.jpg\n",
      "fruits\\banana images\\39.jpg\n",
      "fruits\\banana images\\4.jpg\n",
      "fruits\\banana images\\40.jpg\n",
      "fruits\\banana images\\41.jpg\n",
      "fruits\\banana images\\42.jpg\n",
      "fruits\\banana images\\43.jpg\n",
      "fruits\\banana images\\44.jpg\n",
      "fruits\\banana images\\45.jpg\n",
      "fruits\\banana images\\46.jpg\n",
      "fruits\\banana images\\48.jpg\n",
      "fruits\\banana images\\49.jpg\n",
      "fruits\\banana images\\5.jpg\n",
      "fruits\\banana images\\50.jpg\n",
      "fruits\\banana images\\6.jpg\n",
      "fruits\\banana images\\7.jpg\n",
      "fruits\\banana images\\8.jpg\n",
      "fruits\\banana images\\9.jpg\n",
      "2 fruits\\guava\n",
      "fruits\\guava\\1.jpg\n",
      "fruits\\guava\\10.jpg\n",
      "fruits\\guava\\11.jpg\n",
      "fruits\\guava\\12.jpg\n",
      "fruits\\guava\\13.jpg\n",
      "fruits\\guava\\14.jpg\n",
      "fruits\\guava\\15.jpg\n",
      "fruits\\guava\\16.jpg\n",
      "fruits\\guava\\17.jpg\n",
      "fruits\\guava\\18.jpg\n",
      "fruits\\guava\\19.jpg\n",
      "fruits\\guava\\2.jpg\n",
      "fruits\\guava\\20.jpg\n",
      "fruits\\guava\\21.jpg\n",
      "fruits\\guava\\22.jpg\n",
      "fruits\\guava\\23.jpg\n",
      "fruits\\guava\\24.jpg\n",
      "fruits\\guava\\25.jpg\n",
      "fruits\\guava\\26.jpg\n",
      "fruits\\guava\\27.jpg\n",
      "fruits\\guava\\28.jpg\n",
      "fruits\\guava\\29.jpg\n",
      "fruits\\guava\\3.jpg\n",
      "fruits\\guava\\30.jpg\n",
      "fruits\\guava\\31.jpg\n",
      "fruits\\guava\\32.jpg\n",
      "fruits\\guava\\33.jpg\n",
      "fruits\\guava\\34.jpg\n",
      "fruits\\guava\\35.jpg\n",
      "fruits\\guava\\36.jpg\n",
      "fruits\\guava\\37.jpg\n",
      "fruits\\guava\\38.jpg\n",
      "fruits\\guava\\39.jpg\n",
      "fruits\\guava\\4.jpg\n",
      "fruits\\guava\\40.jpg\n",
      "fruits\\guava\\41.jpg\n",
      "fruits\\guava\\42.jpg\n",
      "fruits\\guava\\43.jpg\n",
      "fruits\\guava\\44.jpg\n",
      "fruits\\guava\\45.jpg\n",
      "fruits\\guava\\46.jpg\n",
      "fruits\\guava\\47.jpg\n",
      "fruits\\guava\\48.jpg\n",
      "fruits\\guava\\49.jpg\n",
      "fruits\\guava\\5.jpg\n",
      "fruits\\guava\\50.jpg\n",
      "fruits\\guava\\6.jpg\n",
      "fruits\\guava\\7.jpg\n",
      "fruits\\guava\\8.jpg\n",
      "fruits\\guava\\9.jpg\n",
      "3 fruits\\lemon\n",
      "fruits\\lemon\\1.jpg\n",
      "fruits\\lemon\\10.jpg\n",
      "fruits\\lemon\\11.jpg\n",
      "fruits\\lemon\\12.jpg\n",
      "fruits\\lemon\\13.jpg\n",
      "fruits\\lemon\\14.jpg\n",
      "fruits\\lemon\\15.jpg\n",
      "fruits\\lemon\\16.jpg\n",
      "fruits\\lemon\\17.jpg\n",
      "fruits\\lemon\\18.jpg\n",
      "fruits\\lemon\\19.jpg\n",
      "fruits\\lemon\\2.jpg\n",
      "fruits\\lemon\\20.jpg\n",
      "fruits\\lemon\\21.jpg\n",
      "fruits\\lemon\\22.jpg\n",
      "fruits\\lemon\\23.jpg\n",
      "fruits\\lemon\\24.jpg\n",
      "fruits\\lemon\\25.jpg\n",
      "fruits\\lemon\\26.jpg\n",
      "fruits\\lemon\\27.jpg\n",
      "fruits\\lemon\\28.jpg\n",
      "fruits\\lemon\\29.jpg\n",
      "fruits\\lemon\\3.jpg\n",
      "fruits\\lemon\\30.jpg\n",
      "fruits\\lemon\\31.jpg\n",
      "fruits\\lemon\\32.jpg\n",
      "fruits\\lemon\\33.jpg\n",
      "fruits\\lemon\\34.jpg\n",
      "fruits\\lemon\\35.jpg\n",
      "fruits\\lemon\\36.jpg\n",
      "fruits\\lemon\\37.jpg\n",
      "fruits\\lemon\\38.jpg\n",
      "fruits\\lemon\\39.jpg\n",
      "fruits\\lemon\\4.jpg\n",
      "fruits\\lemon\\40.jpg\n",
      "fruits\\lemon\\41.jpg\n",
      "fruits\\lemon\\42.jpg\n",
      "fruits\\lemon\\43.jpg\n",
      "fruits\\lemon\\44.jpg\n",
      "fruits\\lemon\\45.jpg\n",
      "fruits\\lemon\\46.jpg\n",
      "fruits\\lemon\\47.jpg\n",
      "fruits\\lemon\\48.jpg\n",
      "fruits\\lemon\\49.jpg\n",
      "fruits\\lemon\\5.jpg\n",
      "fruits\\lemon\\50.jpg\n",
      "fruits\\lemon\\51.jpg\n",
      "fruits\\lemon\\52.jpg\n",
      "fruits\\lemon\\53.jpg\n",
      "fruits\\lemon\\54.jpg\n",
      "fruits\\lemon\\55.jpg\n",
      "fruits\\lemon\\6.jpg\n",
      "fruits\\lemon\\7.jpg\n",
      "fruits\\lemon\\8.jpg\n",
      "fruits\\lemon\\9.jpg\n"
     ]
    },
    {
     "data": {
      "text/plain": [
       "{'data': array([[0.95294118, 0.95686275, 0.97647059, ..., 0.91050858, 0.92227328,\n",
       "         0.94188113],\n",
       "        [0.32941176, 0.47058824, 0.30490196, ..., 0.36960784, 0.46372549,\n",
       "         0.25784314],\n",
       "        [0.27843137, 0.52156863, 0.82352941, ..., 0.09678309, 0.10462623,\n",
       "         0.14730392],\n",
       "        ...,\n",
       "        [0.48210736, 0.62745098, 0.27058824, ..., 0.24540441, 0.40618873,\n",
       "         0.1526956 ],\n",
       "        [0.48156403, 0.64227941, 0.23946078, ..., 0.24723499, 0.3335095 ,\n",
       "         0.08235294],\n",
       "        [0.17254902, 0.24422727, 0.10196078, ..., 0.484375  , 0.57348106,\n",
       "         0.3254902 ]]),\n",
       " 'target': array([0, 0, 0, 0, 0, 0, 0, 0, 0, 0, 0, 0, 0, 0, 0, 0, 0, 0, 0, 0, 0, 0,\n",
       "        0, 0, 0, 0, 0, 0, 0, 0, 0, 0, 0, 0, 0, 0, 0, 0, 0, 0, 0, 0, 0, 0,\n",
       "        0, 0, 0, 0, 0, 0, 1, 1, 1, 1, 1, 1, 1, 1, 1, 1, 1, 1, 1, 1, 1, 1,\n",
       "        1, 1, 1, 1, 1, 1, 1, 1, 1, 1, 1, 1, 1, 1, 1, 1, 1, 1, 1, 1, 1, 1,\n",
       "        1, 1, 1, 1, 1, 1, 1, 1, 1, 1, 1, 2, 2, 2, 2, 2, 2, 2, 2, 2, 2, 2,\n",
       "        2, 2, 2, 2, 2, 2, 2, 2, 2, 2, 2, 2, 2, 2, 2, 2, 2, 2, 2, 2, 2, 2,\n",
       "        2, 2, 2, 2, 2, 2, 2, 2, 2, 2, 2, 2, 2, 2, 2, 2, 2, 3, 3, 3, 3, 3,\n",
       "        3, 3, 3, 3, 3, 3, 3, 3, 3, 3, 3, 3, 3, 3, 3, 3, 3, 3, 3, 3, 3, 3,\n",
       "        3, 3, 3, 3, 3, 3, 3, 3, 3, 3, 3, 3, 3, 3, 3, 3, 3, 3, 3, 3, 3, 3,\n",
       "        3, 3, 3, 3, 3, 3]),\n",
       " 'target_names': ['apple images', 'banana images', 'guava', 'lemon'],\n",
       " 'images': array([[[[0.95294118, 0.95686275, 0.97647059],\n",
       "          [0.95294118, 0.95686275, 0.97647059],\n",
       "          [0.95294118, 0.95686275, 0.97647059],\n",
       "          ...,\n",
       "          [0.90588235, 0.9254902 , 0.94117647],\n",
       "          [0.90196078, 0.92156863, 0.94117647],\n",
       "          [0.89672181, 0.92156863, 0.94117647]],\n",
       " \n",
       "         [[0.95294118, 0.95686275, 0.97647059],\n",
       "          [0.95294118, 0.95686275, 0.97647059],\n",
       "          [0.95294118, 0.95686275, 0.97647059],\n",
       "          ...,\n",
       "          [0.90588235, 0.9254902 , 0.94117647],\n",
       "          [0.90196078, 0.92156863, 0.94117647],\n",
       "          [0.89672181, 0.92156863, 0.94117647]],\n",
       " \n",
       "         [[0.95294118, 0.95686275, 0.97647059],\n",
       "          [0.95294118, 0.95686275, 0.97647059],\n",
       "          [0.95294118, 0.95686275, 0.97647059],\n",
       "          ...,\n",
       "          [0.90588235, 0.9254902 , 0.94117647],\n",
       "          [0.90196078, 0.92156863, 0.9372549 ],\n",
       "          [0.89803922, 0.92156863, 0.9372549 ]],\n",
       " \n",
       "         ...,\n",
       " \n",
       "         [[0.95294118, 0.95686275, 0.96470588],\n",
       "          [0.95294118, 0.95686275, 0.96470588],\n",
       "          [0.95294118, 0.95686275, 0.96470588],\n",
       "          ...,\n",
       "          [0.90588235, 0.91764706, 0.9372549 ],\n",
       "          [0.90980392, 0.92156863, 0.94117647],\n",
       "          [0.90980392, 0.92156863, 0.94117647]],\n",
       " \n",
       "         [[0.95294118, 0.95686275, 0.96470588],\n",
       "          [0.95294118, 0.95686275, 0.96470588],\n",
       "          [0.95294118, 0.95686275, 0.96470588],\n",
       "          ...,\n",
       "          [0.90980392, 0.92156863, 0.94117647],\n",
       "          [0.90980392, 0.92156863, 0.94117647],\n",
       "          [0.90980392, 0.92156863, 0.94117647]],\n",
       " \n",
       "         [[0.95294118, 0.95686275, 0.96470588],\n",
       "          [0.95294118, 0.95686275, 0.96470588],\n",
       "          [0.95294118, 0.95686275, 0.96470588],\n",
       "          ...,\n",
       "          [0.90980392, 0.92156863, 0.94117647],\n",
       "          [0.90980943, 0.92157413, 0.94118198],\n",
       "          [0.91050858, 0.92227328, 0.94188113]]],\n",
       " \n",
       " \n",
       "        [[[0.32941176, 0.47058824, 0.30490196],\n",
       "          [0.35294118, 0.47745098, 0.32156863],\n",
       "          [0.40882353, 0.42352941, 0.30392157],\n",
       "          ...,\n",
       "          [0.99607843, 0.99607843, 0.99607843],\n",
       "          [0.99607843, 0.99607843, 0.99607843],\n",
       "          [0.99607843, 0.99607843, 0.99607843]],\n",
       " \n",
       "         [[0.3627451 , 0.51568627, 0.33333333],\n",
       "          [0.36470588, 0.50196078, 0.34019608],\n",
       "          [0.3754902 , 0.39803922, 0.27352941],\n",
       "          ...,\n",
       "          [0.99607843, 0.99607843, 0.99607843],\n",
       "          [0.99215686, 0.99215686, 0.99215686],\n",
       "          [0.9627451 , 0.98235294, 0.9627451 ]],\n",
       " \n",
       "         [[0.40490196, 0.55196078, 0.37058824],\n",
       "          [0.38431373, 0.52647059, 0.35686275],\n",
       "          [0.36764706, 0.43431373, 0.28627451],\n",
       "          ...,\n",
       "          [0.99215686, 0.99215686, 0.99215686],\n",
       "          [0.92254902, 0.95686275, 0.91764706],\n",
       "          [0.70980392, 0.82156863, 0.66666667]],\n",
       " \n",
       "         ...,\n",
       " \n",
       "         [[0.23137255, 0.07254902, 0.0245098 ],\n",
       "          [0.24509804, 0.09607843, 0.03137255],\n",
       "          [0.26176471, 0.10980392, 0.02745098],\n",
       "          ...,\n",
       "          [0.46960784, 0.57058824, 0.37647059],\n",
       "          [0.38235294, 0.50392157, 0.23431373],\n",
       "          [0.31862745, 0.45980392, 0.14117647]],\n",
       " \n",
       "         [[0.24705882, 0.10588235, 0.02745098],\n",
       "          [0.24705882, 0.11764706, 0.02745098],\n",
       "          [0.24117647, 0.10980392, 0.02745098],\n",
       "          ...,\n",
       "          [0.50490196, 0.57647059, 0.45294118],\n",
       "          [0.41176471, 0.50392157, 0.31568627],\n",
       "          [0.31568627, 0.4372549 , 0.14705882]],\n",
       " \n",
       "         [[0.22352941, 0.10196078, 0.03137255],\n",
       "          [0.21568627, 0.09411765, 0.03137255],\n",
       "          [0.20980392, 0.09411765, 0.03137255],\n",
       "          ...,\n",
       "          [0.5372549 , 0.59411765, 0.50882353],\n",
       "          [0.4627451 , 0.52843137, 0.41568627],\n",
       "          [0.36960784, 0.46372549, 0.25784314]]],\n",
       " \n",
       " \n",
       "        [[[0.27843137, 0.52156863, 0.82352941],\n",
       "          [0.27843137, 0.52156863, 0.82352941],\n",
       "          [0.27843137, 0.5254902 , 0.82745098],\n",
       "          ...,\n",
       "          [0.28627451, 0.53333333, 0.84313725],\n",
       "          [0.28627451, 0.53333333, 0.84313725],\n",
       "          [0.28627451, 0.53333333, 0.84313725]],\n",
       " \n",
       "         [[0.28627451, 0.53333333, 0.83578431],\n",
       "          [0.28627451, 0.53333333, 0.83578431],\n",
       "          [0.28627451, 0.53333333, 0.83578431],\n",
       "          ...,\n",
       "          [0.29019608, 0.53946078, 0.85318627],\n",
       "          [0.29019608, 0.53946078, 0.85318627],\n",
       "          [0.29019608, 0.54117647, 0.85318627]],\n",
       " \n",
       "         [[0.29411765, 0.54117647, 0.84705882],\n",
       "          [0.29411765, 0.54117647, 0.84705882],\n",
       "          [0.29411765, 0.54117647, 0.84705882],\n",
       "          ...,\n",
       "          [0.29411765, 0.54901961, 0.8627451 ],\n",
       "          [0.29411765, 0.54901961, 0.8627451 ],\n",
       "          [0.29411765, 0.55269608, 0.8627451 ]],\n",
       " \n",
       "         ...,\n",
       " \n",
       "         [[0.51862745, 0.61651348, 0.50073529],\n",
       "          [0.49191176, 0.5747549 , 0.46078431],\n",
       "          [0.38014706, 0.43014706, 0.3676777 ],\n",
       "          ...,\n",
       "          [0.42503064, 0.46841299, 0.59901961],\n",
       "          [0.33651961, 0.37061887, 0.47622549],\n",
       "          [0.23866422, 0.23489583, 0.30229779]],\n",
       " \n",
       "         [[0.44313725, 0.52401961, 0.4385723 ],\n",
       "          [0.45168505, 0.53602941, 0.44803922],\n",
       "          [0.42815564, 0.50879289, 0.41838235],\n",
       "          ...,\n",
       "          [0.20689338, 0.25202206, 0.41151961],\n",
       "          [0.10934436, 0.13259804, 0.21691176],\n",
       "          [0.0627451 , 0.06412377, 0.09941789]],\n",
       " \n",
       "         [[0.48578431, 0.55637255, 0.45269608],\n",
       "          [0.47435662, 0.55686275, 0.45808824],\n",
       "          [0.4504902 , 0.55343137, 0.44656863],\n",
       "          ...,\n",
       "          [0.21617647, 0.27965686, 0.43691789],\n",
       "          [0.10416667, 0.13177083, 0.23529412],\n",
       "          [0.09678309, 0.10462623, 0.14730392]]],\n",
       " \n",
       " \n",
       "        ...,\n",
       " \n",
       " \n",
       "        [[[0.48210736, 0.62745098, 0.27058824],\n",
       "          [0.55346201, 0.65882353, 0.26666667],\n",
       "          [0.55585172, 0.67058824, 0.24089834],\n",
       "          ...,\n",
       "          [0.16862745, 0.29142396, 0.10588235],\n",
       "          [0.18731761, 0.31372549, 0.12383578],\n",
       "          [0.2       , 0.31764706, 0.1254902 ]],\n",
       " \n",
       "         [[0.48235294, 0.63137255, 0.24255515],\n",
       "          [0.50934005, 0.64313725, 0.25882353],\n",
       "          [0.5450674 , 0.64209559, 0.25098039],\n",
       "          ...,\n",
       "          [0.16470588, 0.30121831, 0.09019608],\n",
       "          [0.18606005, 0.32156863, 0.09803922],\n",
       "          [0.21960784, 0.3372549 , 0.11372549]],\n",
       " \n",
       "         [[0.50196078, 0.65098039, 0.25098039],\n",
       "          [0.46666667, 0.63137255, 0.25490196],\n",
       "          [0.49120711, 0.61960784, 0.27058824],\n",
       "          ...,\n",
       "          [0.17647059, 0.32560078, 0.08760388],\n",
       "          [0.18998162, 0.33333333, 0.08825875],\n",
       "          [0.21960784, 0.34503437, 0.10980392]],\n",
       " \n",
       "         ...,\n",
       " \n",
       "         [[0.29782236, 0.4229473 , 0.18808211],\n",
       "          [0.36276855, 0.48670343, 0.24356618],\n",
       "          [0.27000613, 0.39024539, 0.15628064],\n",
       "          ...,\n",
       "          [0.3234801 , 0.4869672 , 0.19666054],\n",
       "          [0.1825674 , 0.32374387, 0.10176978],\n",
       "          [0.24022672, 0.38198529, 0.13428069]],\n",
       " \n",
       "         [[0.34797794, 0.49742503, 0.19895833],\n",
       "          [0.29690564, 0.42759986, 0.18318015],\n",
       "          [0.21886537, 0.34587115, 0.12082615],\n",
       "          ...,\n",
       "          [0.32650123, 0.48832721, 0.2166973 ],\n",
       "          [0.20171138, 0.35015319, 0.1198223 ],\n",
       "          [0.19231149, 0.33783701, 0.10735151]],\n",
       " \n",
       "         [[0.39641496, 0.58290489, 0.22212058],\n",
       "          [0.30863827, 0.4685049 , 0.17355861],\n",
       "          [0.23756127, 0.37604406, 0.14344363],\n",
       "          ...,\n",
       "          [0.29019608, 0.45490196, 0.19215686],\n",
       "          [0.26200837, 0.42279268, 0.17181229],\n",
       "          [0.24540441, 0.40618873, 0.1526956 ]]],\n",
       " \n",
       " \n",
       "        [[[0.48156403, 0.64227941, 0.23946078],\n",
       "          [0.51691176, 0.66593137, 0.27058824],\n",
       "          [0.48897059, 0.64899663, 0.27146906],\n",
       "          ...,\n",
       "          [0.46789216, 0.61568627, 0.25098039],\n",
       "          [0.45261183, 0.60784314, 0.23529412],\n",
       "          [0.45490196, 0.60784314, 0.23529412]],\n",
       " \n",
       "         [[0.44730392, 0.61593137, 0.21985294],\n",
       "          [0.52107077, 0.67058824, 0.27513021],\n",
       "          [0.49639246, 0.65098039, 0.27058824],\n",
       "          ...,\n",
       "          [0.4745098 , 0.61960784, 0.23921569],\n",
       "          [0.46543352, 0.61176471, 0.22352941],\n",
       "          [0.46997549, 0.61568627, 0.23137255]],\n",
       " \n",
       "         [[0.45664063, 0.61742494, 0.24080882],\n",
       "          [0.51708793, 0.66740196, 0.2752451 ],\n",
       "          [0.5125    , 0.66434589, 0.27843137],\n",
       "          ...,\n",
       "          [0.48627451, 0.62745098, 0.22745098],\n",
       "          [0.4752451 , 0.61990656, 0.21568627],\n",
       "          [0.46666667, 0.61017157, 0.22179075]],\n",
       " \n",
       "         ...,\n",
       " \n",
       "         [[0.65688572, 0.83176317, 0.41985294],\n",
       "          [0.52837776, 0.6890242 , 0.25153952],\n",
       "          [0.41629136, 0.57365196, 0.13726256],\n",
       "          ...,\n",
       "          [0.22745098, 0.31445313, 0.0745098 ],\n",
       "          [0.22977941, 0.31764706, 0.07843137],\n",
       "          [0.22759651, 0.31764706, 0.07465533]],\n",
       " \n",
       "         [[0.67867647, 0.86687347, 0.40314798],\n",
       "          [0.675     , 0.85073529, 0.42670803],\n",
       "          [0.55129442, 0.70796569, 0.27328431],\n",
       "          ...,\n",
       "          [0.24086244, 0.32713695, 0.08235294],\n",
       "          [0.23590686, 0.32218137, 0.07843137],\n",
       "          [0.23979013, 0.32606464, 0.08235294]],\n",
       " \n",
       "         [[0.62897518, 0.82769608, 0.30066636],\n",
       "          [0.69877451, 0.88627451, 0.40596661],\n",
       "          [0.68002451, 0.85615043, 0.41335784],\n",
       "          ...,\n",
       "          [0.25806526, 0.34240196, 0.09019608],\n",
       "          [0.24987745, 0.33615196, 0.08627451],\n",
       "          [0.24723499, 0.3335095 , 0.08235294]]],\n",
       " \n",
       " \n",
       "        [[[0.17254902, 0.24422727, 0.10196078],\n",
       "          [0.18039216, 0.25490196, 0.11105191],\n",
       "          [0.16862745, 0.25098039, 0.10257688],\n",
       "          ...,\n",
       "          [0.86225155, 0.83219975, 0.7989277 ],\n",
       "          [0.80392157, 0.76595387, 0.71816789],\n",
       "          [0.77457108, 0.73143382, 0.68045343]],\n",
       " \n",
       "         [[0.17647059, 0.25490196, 0.10588235],\n",
       "          [0.18039216, 0.2627451 , 0.11372549],\n",
       "          [0.17254902, 0.26488971, 0.11194853],\n",
       "          ...,\n",
       "          [0.91133578, 0.89833554, 0.87723652],\n",
       "          [0.81094372, 0.77889093, 0.73575368],\n",
       "          [0.81080681, 0.77353755, 0.72845387]],\n",
       " \n",
       "         [[0.18823529, 0.27058824, 0.11991422],\n",
       "          [0.18658088, 0.27058824, 0.12156863],\n",
       "          [0.19215686, 0.28235294, 0.12941176],\n",
       "          ...,\n",
       "          [0.87104779, 0.85928309, 0.83455882],\n",
       "          [0.77952426, 0.74675245, 0.70690344],\n",
       "          [0.85278799, 0.8303036 , 0.78915106]],\n",
       " \n",
       "         ...,\n",
       " \n",
       "         [[0.37647059, 0.50196078, 0.32156863],\n",
       "          [0.36470588, 0.49411765, 0.30588235],\n",
       "          [0.35528636, 0.48627451, 0.29070016],\n",
       "          ...,\n",
       "          [0.5973178 , 0.69093137, 0.46897834],\n",
       "          [0.76305147, 0.82971814, 0.56939338],\n",
       "          [0.60272336, 0.69004289, 0.36379012]],\n",
       " \n",
       "         [[0.37254902, 0.50196078, 0.3254902 ],\n",
       "          [0.37254902, 0.50196078, 0.320245  ],\n",
       "          [0.36862745, 0.49981618, 0.31372549],\n",
       "          ...,\n",
       "          [0.53394608, 0.66786152, 0.45787377],\n",
       "          [0.66178912, 0.75508578, 0.50438113],\n",
       "          [0.62175245, 0.70621936, 0.41684235]],\n",
       " \n",
       "         [[0.36470588, 0.49411765, 0.32156863],\n",
       "          [0.37647059, 0.5083027 , 0.33648083],\n",
       "          [0.37506463, 0.50588235, 0.3254902 ],\n",
       "          ...,\n",
       "          [0.43079044, 0.5786152 , 0.40272336],\n",
       "          [0.48247549, 0.57978755, 0.37711397],\n",
       "          [0.484375  , 0.57348106, 0.3254902 ]]]]),\n",
       " 'desc': 'Image generation'}"
      ]
     },
     "execution_count": 9,
     "metadata": {},
     "output_type": "execute_result"
    }
   ],
   "source": [
    "dataset =generate_data(\"fruits\")\n",
    "dataset"
   ]
  },
  {
   "cell_type": "code",
   "execution_count": 43,
   "metadata": {},
   "outputs": [
    {
     "data": {
      "text/html": [
       "<div>\n",
       "<style scoped>\n",
       "    .dataframe tbody tr th:only-of-type {\n",
       "        vertical-align: middle;\n",
       "    }\n",
       "\n",
       "    .dataframe tbody tr th {\n",
       "        vertical-align: top;\n",
       "    }\n",
       "\n",
       "    .dataframe thead th {\n",
       "        text-align: right;\n",
       "    }\n",
       "</style>\n",
       "<table border=\"1\" class=\"dataframe\">\n",
       "  <thead>\n",
       "    <tr style=\"text-align: right;\">\n",
       "      <th></th>\n",
       "      <th>0</th>\n",
       "      <th>1</th>\n",
       "      <th>2</th>\n",
       "      <th>3</th>\n",
       "      <th>4</th>\n",
       "      <th>5</th>\n",
       "      <th>6</th>\n",
       "      <th>7</th>\n",
       "      <th>8</th>\n",
       "      <th>9</th>\n",
       "      <th>...</th>\n",
       "      <th>12278</th>\n",
       "      <th>12279</th>\n",
       "      <th>12280</th>\n",
       "      <th>12281</th>\n",
       "      <th>12282</th>\n",
       "      <th>12283</th>\n",
       "      <th>12284</th>\n",
       "      <th>12285</th>\n",
       "      <th>12286</th>\n",
       "      <th>12287</th>\n",
       "    </tr>\n",
       "  </thead>\n",
       "  <tbody>\n",
       "    <tr>\n",
       "      <th>0</th>\n",
       "      <td>0.952941</td>\n",
       "      <td>0.956863</td>\n",
       "      <td>0.976471</td>\n",
       "      <td>0.952941</td>\n",
       "      <td>0.956863</td>\n",
       "      <td>0.976471</td>\n",
       "      <td>0.952941</td>\n",
       "      <td>0.956863</td>\n",
       "      <td>0.976471</td>\n",
       "      <td>0.952941</td>\n",
       "      <td>...</td>\n",
       "      <td>0.937255</td>\n",
       "      <td>0.909804</td>\n",
       "      <td>0.921569</td>\n",
       "      <td>0.941176</td>\n",
       "      <td>0.909809</td>\n",
       "      <td>0.921574</td>\n",
       "      <td>0.941182</td>\n",
       "      <td>0.910509</td>\n",
       "      <td>0.922273</td>\n",
       "      <td>0.941881</td>\n",
       "    </tr>\n",
       "    <tr>\n",
       "      <th>0</th>\n",
       "      <td>0.329412</td>\n",
       "      <td>0.470588</td>\n",
       "      <td>0.304902</td>\n",
       "      <td>0.352941</td>\n",
       "      <td>0.477451</td>\n",
       "      <td>0.321569</td>\n",
       "      <td>0.408824</td>\n",
       "      <td>0.423529</td>\n",
       "      <td>0.303922</td>\n",
       "      <td>0.507843</td>\n",
       "      <td>...</td>\n",
       "      <td>0.525490</td>\n",
       "      <td>0.537255</td>\n",
       "      <td>0.594118</td>\n",
       "      <td>0.508824</td>\n",
       "      <td>0.462745</td>\n",
       "      <td>0.528431</td>\n",
       "      <td>0.415686</td>\n",
       "      <td>0.369608</td>\n",
       "      <td>0.463725</td>\n",
       "      <td>0.257843</td>\n",
       "    </tr>\n",
       "    <tr>\n",
       "      <th>0</th>\n",
       "      <td>0.278431</td>\n",
       "      <td>0.521569</td>\n",
       "      <td>0.823529</td>\n",
       "      <td>0.278431</td>\n",
       "      <td>0.521569</td>\n",
       "      <td>0.823529</td>\n",
       "      <td>0.278431</td>\n",
       "      <td>0.525490</td>\n",
       "      <td>0.827451</td>\n",
       "      <td>0.275245</td>\n",
       "      <td>...</td>\n",
       "      <td>0.448529</td>\n",
       "      <td>0.216176</td>\n",
       "      <td>0.279657</td>\n",
       "      <td>0.436918</td>\n",
       "      <td>0.104167</td>\n",
       "      <td>0.131771</td>\n",
       "      <td>0.235294</td>\n",
       "      <td>0.096783</td>\n",
       "      <td>0.104626</td>\n",
       "      <td>0.147304</td>\n",
       "    </tr>\n",
       "    <tr>\n",
       "      <th>0</th>\n",
       "      <td>0.198254</td>\n",
       "      <td>0.217862</td>\n",
       "      <td>0.167225</td>\n",
       "      <td>0.490656</td>\n",
       "      <td>0.482650</td>\n",
       "      <td>0.514461</td>\n",
       "      <td>0.580699</td>\n",
       "      <td>0.588542</td>\n",
       "      <td>0.611341</td>\n",
       "      <td>0.556484</td>\n",
       "      <td>...</td>\n",
       "      <td>0.203493</td>\n",
       "      <td>0.357629</td>\n",
       "      <td>0.561280</td>\n",
       "      <td>0.228947</td>\n",
       "      <td>0.377552</td>\n",
       "      <td>0.576930</td>\n",
       "      <td>0.271048</td>\n",
       "      <td>0.396078</td>\n",
       "      <td>0.588235</td>\n",
       "      <td>0.305882</td>\n",
       "    </tr>\n",
       "    <tr>\n",
       "      <th>0</th>\n",
       "      <td>0.996078</td>\n",
       "      <td>0.996078</td>\n",
       "      <td>0.996078</td>\n",
       "      <td>0.996078</td>\n",
       "      <td>0.996078</td>\n",
       "      <td>0.996078</td>\n",
       "      <td>0.996078</td>\n",
       "      <td>0.996078</td>\n",
       "      <td>0.996078</td>\n",
       "      <td>0.996078</td>\n",
       "      <td>...</td>\n",
       "      <td>0.996078</td>\n",
       "      <td>0.996078</td>\n",
       "      <td>0.996078</td>\n",
       "      <td>0.996078</td>\n",
       "      <td>0.996078</td>\n",
       "      <td>0.996078</td>\n",
       "      <td>0.996078</td>\n",
       "      <td>0.996078</td>\n",
       "      <td>0.996078</td>\n",
       "      <td>0.996078</td>\n",
       "    </tr>\n",
       "  </tbody>\n",
       "</table>\n",
       "<p>5 rows × 12288 columns</p>\n",
       "</div>"
      ],
      "text/plain": [
       "      0         1         2         3         4         5         6      \\\n",
       "0  0.952941  0.956863  0.976471  0.952941  0.956863  0.976471  0.952941   \n",
       "0  0.329412  0.470588  0.304902  0.352941  0.477451  0.321569  0.408824   \n",
       "0  0.278431  0.521569  0.823529  0.278431  0.521569  0.823529  0.278431   \n",
       "0  0.198254  0.217862  0.167225  0.490656  0.482650  0.514461  0.580699   \n",
       "0  0.996078  0.996078  0.996078  0.996078  0.996078  0.996078  0.996078   \n",
       "\n",
       "      7         8         9      ...     12278     12279     12280     12281  \\\n",
       "0  0.956863  0.976471  0.952941  ...  0.937255  0.909804  0.921569  0.941176   \n",
       "0  0.423529  0.303922  0.507843  ...  0.525490  0.537255  0.594118  0.508824   \n",
       "0  0.525490  0.827451  0.275245  ...  0.448529  0.216176  0.279657  0.436918   \n",
       "0  0.588542  0.611341  0.556484  ...  0.203493  0.357629  0.561280  0.228947   \n",
       "0  0.996078  0.996078  0.996078  ...  0.996078  0.996078  0.996078  0.996078   \n",
       "\n",
       "      12282     12283     12284     12285     12286     12287  \n",
       "0  0.909809  0.921574  0.941182  0.910509  0.922273  0.941881  \n",
       "0  0.462745  0.528431  0.415686  0.369608  0.463725  0.257843  \n",
       "0  0.104167  0.131771  0.235294  0.096783  0.104626  0.147304  \n",
       "0  0.377552  0.576930  0.271048  0.396078  0.588235  0.305882  \n",
       "0  0.996078  0.996078  0.996078  0.996078  0.996078  0.996078  \n",
       "\n",
       "[5 rows x 12288 columns]"
      ]
     },
     "execution_count": 43,
     "metadata": {},
     "output_type": "execute_result"
    }
   ],
   "source": [
    "df = pd.DataFrame(dataset.data,dataset.target)\n",
    "df.head()"
   ]
  },
  {
   "cell_type": "code",
   "execution_count": 45,
   "metadata": {},
   "outputs": [
    {
     "data": {
      "text/plain": [
       "(204, 12288)"
      ]
     },
     "execution_count": 45,
     "metadata": {},
     "output_type": "execute_result"
    }
   ],
   "source": [
    "df.shape"
   ]
  },
  {
   "cell_type": "code",
   "execution_count": 10,
   "metadata": {},
   "outputs": [
    {
     "data": {
      "text/plain": [
       "dict_keys(['data', 'target', 'target_names', 'images', 'desc'])"
      ]
     },
     "execution_count": 10,
     "metadata": {},
     "output_type": "execute_result"
    }
   ],
   "source": [
    "dataset.keys()"
   ]
  },
  {
   "cell_type": "code",
   "execution_count": 11,
   "metadata": {},
   "outputs": [
    {
     "data": {
      "text/plain": [
       "(204, 12288)"
      ]
     },
     "execution_count": 11,
     "metadata": {},
     "output_type": "execute_result"
    }
   ],
   "source": [
    "dataset.data.shape"
   ]
  },
  {
   "cell_type": "code",
   "execution_count": 12,
   "metadata": {},
   "outputs": [
    {
     "data": {
      "text/plain": [
       "['apple images', 'banana images', 'guava', 'lemon']"
      ]
     },
     "execution_count": 12,
     "metadata": {},
     "output_type": "execute_result"
    }
   ],
   "source": [
    "dataset.target_names"
   ]
  },
  {
   "cell_type": "code",
   "execution_count": 13,
   "metadata": {},
   "outputs": [
    {
     "data": {
      "text/plain": [
       "(204,)"
      ]
     },
     "execution_count": 13,
     "metadata": {},
     "output_type": "execute_result"
    }
   ],
   "source": [
    "dataset.target.shape"
   ]
  },
  {
   "cell_type": "code",
   "execution_count": 14,
   "metadata": {},
   "outputs": [
    {
     "data": {
      "text/plain": [
       "<matplotlib.axes._subplots.AxesSubplot at 0x173495ea908>"
      ]
     },
     "execution_count": 14,
     "metadata": {},
     "output_type": "execute_result"
    },
    {
     "data": {
      "image/png": "[encoded data removed]",
      "text/plain": [
       "<Figure size 432x288 with 1 Axes>"
      ]
     },
     "metadata": {
      "needs_background": "light"
     },
     "output_type": "display_data"
    }
   ],
   "source": [
    "sns.distplot(dataset.data)"
   ]
  },
  {
   "cell_type": "code",
   "execution_count": 64,
   "metadata": {},
   "outputs": [],
   "source": [
    "x = dataset.data\n",
    "Y= dataset.target"
   ]
  },
  {
   "cell_type": "code",
   "execution_count": 18,
   "metadata": {},
   "outputs": [
    {
     "data": {
      "text/plain": [
       "(204, 12288)"
      ]
     },
     "execution_count": 18,
     "metadata": {},
     "output_type": "execute_result"
    }
   ],
   "source": [
    "x.shape"
   ]
  },
  {
   "cell_type": "code",
   "execution_count": 65,
   "metadata": {},
   "outputs": [
    {
     "data": {
      "text/plain": [
       "(204,)"
      ]
     },
     "execution_count": 65,
     "metadata": {},
     "output_type": "execute_result"
    }
   ],
   "source": [
    "Y.shape"
   ]
  },
  {
   "cell_type": "code",
   "execution_count": 20,
   "metadata": {},
   "outputs": [],
   "source": [
    "from sklearn.model_selection import train_test_split"
   ]
  },
  {
   "cell_type": "code",
   "execution_count": 21,
   "metadata": {},
   "outputs": [],
   "source": [
    "x_train,x_test,y_train,y_test = train_test_split(x,y)"
   ]
  },
  {
   "cell_type": "code",
   "execution_count": 22,
   "metadata": {},
   "outputs": [
    {
     "data": {
      "text/plain": [
       "((153, 12288), (153,), (51, 12288), (51,))"
      ]
     },
     "execution_count": 22,
     "metadata": {},
     "output_type": "execute_result"
    }
   ],
   "source": [
    "x_train.shape,y_train.shape,x_test.shape,y_test.shape"
   ]
  },
  {
   "cell_type": "code",
   "execution_count": 23,
   "metadata": {},
   "outputs": [],
   "source": [
    "from sklearn.linear_model import LogisticRegression"
   ]
  },
  {
   "cell_type": "code",
   "execution_count": 24,
   "metadata": {},
   "outputs": [
    {
     "data": {
      "text/plain": [
       "LogisticRegression(C=1.0, class_weight=None, dual=False, fit_intercept=True,\n",
       "                   intercept_scaling=1, l1_ratio=None, max_iter=1000,\n",
       "                   multi_class='auto', n_jobs=None, penalty='l2',\n",
       "                   random_state=None, solver='lbfgs', tol=0.0001, verbose=0,\n",
       "                   warm_start=False)"
      ]
     },
     "execution_count": 24,
     "metadata": {},
     "output_type": "execute_result"
    }
   ],
   "source": [
    "lr = LogisticRegression(max_iter=1000)\n",
    "lr"
   ]
  },
  {
   "cell_type": "code",
   "execution_count": 25,
   "metadata": {},
   "outputs": [
    {
     "data": {
      "text/plain": [
       "LogisticRegression(C=1.0, class_weight=None, dual=False, fit_intercept=True,\n",
       "                   intercept_scaling=1, l1_ratio=None, max_iter=1000,\n",
       "                   multi_class='auto', n_jobs=None, penalty='l2',\n",
       "                   random_state=None, solver='lbfgs', tol=0.0001, verbose=0,\n",
       "                   warm_start=False)"
      ]
     },
     "execution_count": 25,
     "metadata": {},
     "output_type": "execute_result"
    }
   ],
   "source": [
    "lr.fit(x_train,y_train)"
   ]
  },
  {
   "cell_type": "code",
   "execution_count": 26,
   "metadata": {},
   "outputs": [],
   "source": [
    "yhat = lr.predict(x_test)"
   ]
  },
  {
   "cell_type": "code",
   "execution_count": 27,
   "metadata": {
    "collapsed": true,
    "jupyter": {
     "outputs_hidden": true
    }
   },
   "outputs": [
    {
     "data": {
      "text/html": [
       "<div>\n",
       "<style scoped>\n",
       "    .dataframe tbody tr th:only-of-type {\n",
       "        vertical-align: middle;\n",
       "    }\n",
       "\n",
       "    .dataframe tbody tr th {\n",
       "        vertical-align: top;\n",
       "    }\n",
       "\n",
       "    .dataframe thead th {\n",
       "        text-align: right;\n",
       "    }\n",
       "</style>\n",
       "<table border=\"1\" class=\"dataframe\">\n",
       "  <thead>\n",
       "    <tr style=\"text-align: right;\">\n",
       "      <th></th>\n",
       "      <th>Actual</th>\n",
       "      <th>New</th>\n",
       "      <th>Both are equal</th>\n",
       "    </tr>\n",
       "  </thead>\n",
       "  <tbody>\n",
       "    <tr>\n",
       "      <th>0</th>\n",
       "      <td>2</td>\n",
       "      <td>2</td>\n",
       "      <td>True</td>\n",
       "    </tr>\n",
       "    <tr>\n",
       "      <th>1</th>\n",
       "      <td>3</td>\n",
       "      <td>3</td>\n",
       "      <td>True</td>\n",
       "    </tr>\n",
       "    <tr>\n",
       "      <th>2</th>\n",
       "      <td>2</td>\n",
       "      <td>3</td>\n",
       "      <td>False</td>\n",
       "    </tr>\n",
       "    <tr>\n",
       "      <th>3</th>\n",
       "      <td>1</td>\n",
       "      <td>3</td>\n",
       "      <td>False</td>\n",
       "    </tr>\n",
       "    <tr>\n",
       "      <th>4</th>\n",
       "      <td>0</td>\n",
       "      <td>0</td>\n",
       "      <td>True</td>\n",
       "    </tr>\n",
       "    <tr>\n",
       "      <th>5</th>\n",
       "      <td>0</td>\n",
       "      <td>0</td>\n",
       "      <td>True</td>\n",
       "    </tr>\n",
       "    <tr>\n",
       "      <th>6</th>\n",
       "      <td>0</td>\n",
       "      <td>1</td>\n",
       "      <td>False</td>\n",
       "    </tr>\n",
       "    <tr>\n",
       "      <th>7</th>\n",
       "      <td>0</td>\n",
       "      <td>0</td>\n",
       "      <td>True</td>\n",
       "    </tr>\n",
       "    <tr>\n",
       "      <th>8</th>\n",
       "      <td>3</td>\n",
       "      <td>3</td>\n",
       "      <td>True</td>\n",
       "    </tr>\n",
       "    <tr>\n",
       "      <th>9</th>\n",
       "      <td>0</td>\n",
       "      <td>0</td>\n",
       "      <td>True</td>\n",
       "    </tr>\n",
       "    <tr>\n",
       "      <th>10</th>\n",
       "      <td>1</td>\n",
       "      <td>1</td>\n",
       "      <td>True</td>\n",
       "    </tr>\n",
       "    <tr>\n",
       "      <th>11</th>\n",
       "      <td>3</td>\n",
       "      <td>3</td>\n",
       "      <td>True</td>\n",
       "    </tr>\n",
       "    <tr>\n",
       "      <th>12</th>\n",
       "      <td>2</td>\n",
       "      <td>2</td>\n",
       "      <td>True</td>\n",
       "    </tr>\n",
       "    <tr>\n",
       "      <th>13</th>\n",
       "      <td>3</td>\n",
       "      <td>3</td>\n",
       "      <td>True</td>\n",
       "    </tr>\n",
       "    <tr>\n",
       "      <th>14</th>\n",
       "      <td>3</td>\n",
       "      <td>3</td>\n",
       "      <td>True</td>\n",
       "    </tr>\n",
       "    <tr>\n",
       "      <th>15</th>\n",
       "      <td>2</td>\n",
       "      <td>2</td>\n",
       "      <td>True</td>\n",
       "    </tr>\n",
       "    <tr>\n",
       "      <th>16</th>\n",
       "      <td>3</td>\n",
       "      <td>2</td>\n",
       "      <td>False</td>\n",
       "    </tr>\n",
       "    <tr>\n",
       "      <th>17</th>\n",
       "      <td>2</td>\n",
       "      <td>2</td>\n",
       "      <td>True</td>\n",
       "    </tr>\n",
       "    <tr>\n",
       "      <th>18</th>\n",
       "      <td>0</td>\n",
       "      <td>0</td>\n",
       "      <td>True</td>\n",
       "    </tr>\n",
       "    <tr>\n",
       "      <th>19</th>\n",
       "      <td>3</td>\n",
       "      <td>3</td>\n",
       "      <td>True</td>\n",
       "    </tr>\n",
       "    <tr>\n",
       "      <th>20</th>\n",
       "      <td>2</td>\n",
       "      <td>3</td>\n",
       "      <td>False</td>\n",
       "    </tr>\n",
       "    <tr>\n",
       "      <th>21</th>\n",
       "      <td>2</td>\n",
       "      <td>2</td>\n",
       "      <td>True</td>\n",
       "    </tr>\n",
       "    <tr>\n",
       "      <th>22</th>\n",
       "      <td>2</td>\n",
       "      <td>2</td>\n",
       "      <td>True</td>\n",
       "    </tr>\n",
       "    <tr>\n",
       "      <th>23</th>\n",
       "      <td>1</td>\n",
       "      <td>3</td>\n",
       "      <td>False</td>\n",
       "    </tr>\n",
       "    <tr>\n",
       "      <th>24</th>\n",
       "      <td>3</td>\n",
       "      <td>3</td>\n",
       "      <td>True</td>\n",
       "    </tr>\n",
       "    <tr>\n",
       "      <th>25</th>\n",
       "      <td>2</td>\n",
       "      <td>3</td>\n",
       "      <td>False</td>\n",
       "    </tr>\n",
       "    <tr>\n",
       "      <th>26</th>\n",
       "      <td>0</td>\n",
       "      <td>0</td>\n",
       "      <td>True</td>\n",
       "    </tr>\n",
       "    <tr>\n",
       "      <th>27</th>\n",
       "      <td>0</td>\n",
       "      <td>0</td>\n",
       "      <td>True</td>\n",
       "    </tr>\n",
       "    <tr>\n",
       "      <th>28</th>\n",
       "      <td>3</td>\n",
       "      <td>3</td>\n",
       "      <td>True</td>\n",
       "    </tr>\n",
       "    <tr>\n",
       "      <th>29</th>\n",
       "      <td>2</td>\n",
       "      <td>2</td>\n",
       "      <td>True</td>\n",
       "    </tr>\n",
       "    <tr>\n",
       "      <th>30</th>\n",
       "      <td>1</td>\n",
       "      <td>1</td>\n",
       "      <td>True</td>\n",
       "    </tr>\n",
       "    <tr>\n",
       "      <th>31</th>\n",
       "      <td>0</td>\n",
       "      <td>0</td>\n",
       "      <td>True</td>\n",
       "    </tr>\n",
       "    <tr>\n",
       "      <th>32</th>\n",
       "      <td>0</td>\n",
       "      <td>0</td>\n",
       "      <td>True</td>\n",
       "    </tr>\n",
       "    <tr>\n",
       "      <th>33</th>\n",
       "      <td>1</td>\n",
       "      <td>1</td>\n",
       "      <td>True</td>\n",
       "    </tr>\n",
       "    <tr>\n",
       "      <th>34</th>\n",
       "      <td>2</td>\n",
       "      <td>3</td>\n",
       "      <td>False</td>\n",
       "    </tr>\n",
       "    <tr>\n",
       "      <th>35</th>\n",
       "      <td>2</td>\n",
       "      <td>3</td>\n",
       "      <td>False</td>\n",
       "    </tr>\n",
       "    <tr>\n",
       "      <th>36</th>\n",
       "      <td>0</td>\n",
       "      <td>0</td>\n",
       "      <td>True</td>\n",
       "    </tr>\n",
       "    <tr>\n",
       "      <th>37</th>\n",
       "      <td>0</td>\n",
       "      <td>0</td>\n",
       "      <td>True</td>\n",
       "    </tr>\n",
       "    <tr>\n",
       "      <th>38</th>\n",
       "      <td>2</td>\n",
       "      <td>2</td>\n",
       "      <td>True</td>\n",
       "    </tr>\n",
       "    <tr>\n",
       "      <th>39</th>\n",
       "      <td>1</td>\n",
       "      <td>1</td>\n",
       "      <td>True</td>\n",
       "    </tr>\n",
       "    <tr>\n",
       "      <th>40</th>\n",
       "      <td>3</td>\n",
       "      <td>3</td>\n",
       "      <td>True</td>\n",
       "    </tr>\n",
       "    <tr>\n",
       "      <th>41</th>\n",
       "      <td>3</td>\n",
       "      <td>3</td>\n",
       "      <td>True</td>\n",
       "    </tr>\n",
       "    <tr>\n",
       "      <th>42</th>\n",
       "      <td>3</td>\n",
       "      <td>2</td>\n",
       "      <td>False</td>\n",
       "    </tr>\n",
       "    <tr>\n",
       "      <th>43</th>\n",
       "      <td>1</td>\n",
       "      <td>1</td>\n",
       "      <td>True</td>\n",
       "    </tr>\n",
       "    <tr>\n",
       "      <th>44</th>\n",
       "      <td>0</td>\n",
       "      <td>0</td>\n",
       "      <td>True</td>\n",
       "    </tr>\n",
       "    <tr>\n",
       "      <th>45</th>\n",
       "      <td>3</td>\n",
       "      <td>2</td>\n",
       "      <td>False</td>\n",
       "    </tr>\n",
       "    <tr>\n",
       "      <th>46</th>\n",
       "      <td>0</td>\n",
       "      <td>0</td>\n",
       "      <td>True</td>\n",
       "    </tr>\n",
       "    <tr>\n",
       "      <th>47</th>\n",
       "      <td>0</td>\n",
       "      <td>0</td>\n",
       "      <td>True</td>\n",
       "    </tr>\n",
       "    <tr>\n",
       "      <th>48</th>\n",
       "      <td>1</td>\n",
       "      <td>1</td>\n",
       "      <td>True</td>\n",
       "    </tr>\n",
       "    <tr>\n",
       "      <th>49</th>\n",
       "      <td>1</td>\n",
       "      <td>1</td>\n",
       "      <td>True</td>\n",
       "    </tr>\n",
       "    <tr>\n",
       "      <th>50</th>\n",
       "      <td>2</td>\n",
       "      <td>3</td>\n",
       "      <td>False</td>\n",
       "    </tr>\n",
       "  </tbody>\n",
       "</table>\n",
       "</div>"
      ],
      "text/plain": [
       "    Actual  New  Both are equal\n",
       "0        2    2            True\n",
       "1        3    3            True\n",
       "2        2    3           False\n",
       "3        1    3           False\n",
       "4        0    0            True\n",
       "5        0    0            True\n",
       "6        0    1           False\n",
       "7        0    0            True\n",
       "8        3    3            True\n",
       "9        0    0            True\n",
       "10       1    1            True\n",
       "11       3    3            True\n",
       "12       2    2            True\n",
       "13       3    3            True\n",
       "14       3    3            True\n",
       "15       2    2            True\n",
       "16       3    2           False\n",
       "17       2    2            True\n",
       "18       0    0            True\n",
       "19       3    3            True\n",
       "20       2    3           False\n",
       "21       2    2            True\n",
       "22       2    2            True\n",
       "23       1    3           False\n",
       "24       3    3            True\n",
       "25       2    3           False\n",
       "26       0    0            True\n",
       "27       0    0            True\n",
       "28       3    3            True\n",
       "29       2    2            True\n",
       "30       1    1            True\n",
       "31       0    0            True\n",
       "32       0    0            True\n",
       "33       1    1            True\n",
       "34       2    3           False\n",
       "35       2    3           False\n",
       "36       0    0            True\n",
       "37       0    0            True\n",
       "38       2    2            True\n",
       "39       1    1            True\n",
       "40       3    3            True\n",
       "41       3    3            True\n",
       "42       3    2           False\n",
       "43       1    1            True\n",
       "44       0    0            True\n",
       "45       3    2           False\n",
       "46       0    0            True\n",
       "47       0    0            True\n",
       "48       1    1            True\n",
       "49       1    1            True\n",
       "50       2    3           False"
      ]
     },
     "execution_count": 27,
     "metadata": {},
     "output_type": "execute_result"
    }
   ],
   "source": [
    "pd.DataFrame({'Actual':y_test,\n",
    "             'New':yhat,\n",
    "             'Both are equal':y_test==yhat})"
   ]
  },
  {
   "cell_type": "code",
   "execution_count": 28,
   "metadata": {},
   "outputs": [],
   "source": [
    "from sklearn.metrics import classification_report,confusion_matrix,plot_confusion_matrix"
   ]
  },
  {
   "cell_type": "code",
   "execution_count": 29,
   "metadata": {},
   "outputs": [],
   "source": [
    "cm = confusion_matrix(y_test,yhat)"
   ]
  },
  {
   "cell_type": "code",
   "execution_count": 30,
   "metadata": {},
   "outputs": [
    {
     "data": {
      "text/plain": [
       "<matplotlib.axes._subplots.AxesSubplot at 0x1ba7efd3808>"
      ]
     },
     "execution_count": 30,
     "metadata": {},
     "output_type": "execute_result"
    },
    {
     "data": {
      "image/png": "[encoded data removed]",
      "text/plain": [
       "<Figure size 432x288 with 2 Axes>"
      ]
     },
     "metadata": {
      "needs_background": "light"
     },
     "output_type": "display_data"
    }
   ],
   "source": [
    "sns.heatmap(cm,annot=True)"
   ]
  },
  {
   "cell_type": "code",
   "execution_count": 31,
   "metadata": {},
   "outputs": [
    {
     "data": {
      "text/plain": [
       "<sklearn.metrics._plot.confusion_matrix.ConfusionMatrixDisplay at 0x1ba068f5b08>"
      ]
     },
     "execution_count": 31,
     "metadata": {},
     "output_type": "execute_result"
    },
    {
     "data": {
      "image/png": "[encoded data removed]",
      "text/plain": [
       "<Figure size 432x288 with 2 Axes>"
      ]
     },
     "metadata": {
      "needs_background": "light"
     },
     "output_type": "display_data"
    }
   ],
   "source": [
    "plot_confusion_matrix(lr,x_train,y_train)"
   ]
  },
  {
   "cell_type": "code",
   "execution_count": 32,
   "metadata": {},
   "outputs": [
    {
     "data": {
      "text/plain": [
       "<sklearn.metrics._plot.confusion_matrix.ConfusionMatrixDisplay at 0x1ba058aa8c8>"
      ]
     },
     "execution_count": 32,
     "metadata": {},
     "output_type": "execute_result"
    },
    {
     "data": {
      "image/png": "[encoded data removed]",
      "text/plain": [
       "<Figure size 432x288 with 2 Axes>"
      ]
     },
     "metadata": {
      "needs_background": "light"
     },
     "output_type": "display_data"
    }
   ],
   "source": [
    "plot_confusion_matrix(lr,x_test,yhat)"
   ]
  },
  {
   "cell_type": "code",
   "execution_count": 33,
   "metadata": {},
   "outputs": [
    {
     "name": "stdout",
     "output_type": "stream",
     "text": [
      "              precision    recall  f1-score   support\n",
      "\n",
      "           0       1.00      0.93      0.97        15\n",
      "           1       0.88      0.78      0.82         9\n",
      "           2       0.73      0.57      0.64        14\n",
      "           3       0.56      0.77      0.65        13\n",
      "\n",
      "    accuracy                           0.76        51\n",
      "   macro avg       0.79      0.76      0.77        51\n",
      "weighted avg       0.79      0.76      0.77        51\n",
      "\n"
     ]
    }
   ],
   "source": [
    "print(classification_report(y_test,yhat))"
   ]
  },
  {
   "cell_type": "code",
   "execution_count": 34,
   "metadata": {},
   "outputs": [],
   "source": [
    "from sklearn.metrics import accuracy_score,precision_score"
   ]
  },
  {
   "cell_type": "code",
   "execution_count": 35,
   "metadata": {},
   "outputs": [
    {
     "data": {
      "text/plain": [
       "0.7647058823529411"
      ]
     },
     "execution_count": 35,
     "metadata": {},
     "output_type": "execute_result"
    }
   ],
   "source": [
    "accuracy_score(y_test,yhat)"
   ]
  },
  {
   "cell_type": "markdown",
   "metadata": {},
   "source": [
    "# KNN CLASSIFIER"
   ]
  },
  {
   "cell_type": "code",
   "execution_count": 36,
   "metadata": {},
   "outputs": [],
   "source": [
    "from sklearn.neighbors import KNeighborsClassifier"
   ]
  },
  {
   "cell_type": "code",
   "execution_count": 37,
   "metadata": {},
   "outputs": [],
   "source": [
    "knn = KNeighborsClassifier()"
   ]
  },
  {
   "cell_type": "code",
   "execution_count": 38,
   "metadata": {},
   "outputs": [
    {
     "data": {
      "text/plain": [
       "KNeighborsClassifier(algorithm='auto', leaf_size=30, metric='minkowski',\n",
       "                     metric_params=None, n_jobs=None, n_neighbors=5, p=2,\n",
       "                     weights='uniform')"
      ]
     },
     "execution_count": 38,
     "metadata": {},
     "output_type": "execute_result"
    }
   ],
   "source": [
    "knn.fit(x_train,y_train)"
   ]
  },
  {
   "cell_type": "code",
   "execution_count": 39,
   "metadata": {},
   "outputs": [
    {
     "data": {
      "text/plain": [
       "array([2, 2, 3, 3, 0, 0, 0, 0, 3, 0, 1, 3, 2, 3, 2, 2, 2, 2, 2, 2, 2, 2,\n",
       "       2, 3, 3, 3, 3, 0, 3, 2, 1, 0, 0, 1, 2, 2, 0, 3, 2, 1, 3, 2, 2, 1,\n",
       "       0, 3, 0, 0, 2, 1, 2])"
      ]
     },
     "execution_count": 39,
     "metadata": {},
     "output_type": "execute_result"
    }
   ],
   "source": [
    "knn_yhat = knn.predict(x_test)\n",
    "knn_yhat"
   ]
  },
  {
   "cell_type": "code",
   "execution_count": 40,
   "metadata": {},
   "outputs": [
    {
     "data": {
      "text/html": [
       "<div>\n",
       "<style scoped>\n",
       "    .dataframe tbody tr th:only-of-type {\n",
       "        vertical-align: middle;\n",
       "    }\n",
       "\n",
       "    .dataframe tbody tr th {\n",
       "        vertical-align: top;\n",
       "    }\n",
       "\n",
       "    .dataframe thead th {\n",
       "        text-align: right;\n",
       "    }\n",
       "</style>\n",
       "<table border=\"1\" class=\"dataframe\">\n",
       "  <thead>\n",
       "    <tr style=\"text-align: right;\">\n",
       "      <th></th>\n",
       "      <th>Actual</th>\n",
       "      <th>Knn prediction</th>\n",
       "      <th>Logistic prediction</th>\n",
       "      <th>y_test and Knn_yhat</th>\n",
       "      <th>y_test and yhat</th>\n",
       "    </tr>\n",
       "  </thead>\n",
       "  <tbody>\n",
       "    <tr>\n",
       "      <th>0</th>\n",
       "      <td>2</td>\n",
       "      <td>2</td>\n",
       "      <td>2</td>\n",
       "      <td>True</td>\n",
       "      <td>True</td>\n",
       "    </tr>\n",
       "    <tr>\n",
       "      <th>1</th>\n",
       "      <td>3</td>\n",
       "      <td>2</td>\n",
       "      <td>3</td>\n",
       "      <td>False</td>\n",
       "      <td>True</td>\n",
       "    </tr>\n",
       "    <tr>\n",
       "      <th>2</th>\n",
       "      <td>2</td>\n",
       "      <td>3</td>\n",
       "      <td>3</td>\n",
       "      <td>False</td>\n",
       "      <td>False</td>\n",
       "    </tr>\n",
       "    <tr>\n",
       "      <th>3</th>\n",
       "      <td>1</td>\n",
       "      <td>3</td>\n",
       "      <td>3</td>\n",
       "      <td>False</td>\n",
       "      <td>False</td>\n",
       "    </tr>\n",
       "    <tr>\n",
       "      <th>4</th>\n",
       "      <td>0</td>\n",
       "      <td>0</td>\n",
       "      <td>0</td>\n",
       "      <td>True</td>\n",
       "      <td>True</td>\n",
       "    </tr>\n",
       "    <tr>\n",
       "      <th>5</th>\n",
       "      <td>0</td>\n",
       "      <td>0</td>\n",
       "      <td>0</td>\n",
       "      <td>True</td>\n",
       "      <td>True</td>\n",
       "    </tr>\n",
       "    <tr>\n",
       "      <th>6</th>\n",
       "      <td>0</td>\n",
       "      <td>0</td>\n",
       "      <td>1</td>\n",
       "      <td>True</td>\n",
       "      <td>False</td>\n",
       "    </tr>\n",
       "    <tr>\n",
       "      <th>7</th>\n",
       "      <td>0</td>\n",
       "      <td>0</td>\n",
       "      <td>0</td>\n",
       "      <td>True</td>\n",
       "      <td>True</td>\n",
       "    </tr>\n",
       "    <tr>\n",
       "      <th>8</th>\n",
       "      <td>3</td>\n",
       "      <td>3</td>\n",
       "      <td>3</td>\n",
       "      <td>True</td>\n",
       "      <td>True</td>\n",
       "    </tr>\n",
       "    <tr>\n",
       "      <th>9</th>\n",
       "      <td>0</td>\n",
       "      <td>0</td>\n",
       "      <td>0</td>\n",
       "      <td>True</td>\n",
       "      <td>True</td>\n",
       "    </tr>\n",
       "    <tr>\n",
       "      <th>10</th>\n",
       "      <td>1</td>\n",
       "      <td>1</td>\n",
       "      <td>1</td>\n",
       "      <td>True</td>\n",
       "      <td>True</td>\n",
       "    </tr>\n",
       "    <tr>\n",
       "      <th>11</th>\n",
       "      <td>3</td>\n",
       "      <td>3</td>\n",
       "      <td>3</td>\n",
       "      <td>True</td>\n",
       "      <td>True</td>\n",
       "    </tr>\n",
       "    <tr>\n",
       "      <th>12</th>\n",
       "      <td>2</td>\n",
       "      <td>2</td>\n",
       "      <td>2</td>\n",
       "      <td>True</td>\n",
       "      <td>True</td>\n",
       "    </tr>\n",
       "    <tr>\n",
       "      <th>13</th>\n",
       "      <td>3</td>\n",
       "      <td>3</td>\n",
       "      <td>3</td>\n",
       "      <td>True</td>\n",
       "      <td>True</td>\n",
       "    </tr>\n",
       "    <tr>\n",
       "      <th>14</th>\n",
       "      <td>3</td>\n",
       "      <td>2</td>\n",
       "      <td>3</td>\n",
       "      <td>False</td>\n",
       "      <td>True</td>\n",
       "    </tr>\n",
       "    <tr>\n",
       "      <th>15</th>\n",
       "      <td>2</td>\n",
       "      <td>2</td>\n",
       "      <td>2</td>\n",
       "      <td>True</td>\n",
       "      <td>True</td>\n",
       "    </tr>\n",
       "    <tr>\n",
       "      <th>16</th>\n",
       "      <td>3</td>\n",
       "      <td>2</td>\n",
       "      <td>2</td>\n",
       "      <td>False</td>\n",
       "      <td>False</td>\n",
       "    </tr>\n",
       "    <tr>\n",
       "      <th>17</th>\n",
       "      <td>2</td>\n",
       "      <td>2</td>\n",
       "      <td>2</td>\n",
       "      <td>True</td>\n",
       "      <td>True</td>\n",
       "    </tr>\n",
       "    <tr>\n",
       "      <th>18</th>\n",
       "      <td>0</td>\n",
       "      <td>2</td>\n",
       "      <td>0</td>\n",
       "      <td>False</td>\n",
       "      <td>True</td>\n",
       "    </tr>\n",
       "    <tr>\n",
       "      <th>19</th>\n",
       "      <td>3</td>\n",
       "      <td>2</td>\n",
       "      <td>3</td>\n",
       "      <td>False</td>\n",
       "      <td>True</td>\n",
       "    </tr>\n",
       "    <tr>\n",
       "      <th>20</th>\n",
       "      <td>2</td>\n",
       "      <td>2</td>\n",
       "      <td>3</td>\n",
       "      <td>True</td>\n",
       "      <td>False</td>\n",
       "    </tr>\n",
       "    <tr>\n",
       "      <th>21</th>\n",
       "      <td>2</td>\n",
       "      <td>2</td>\n",
       "      <td>2</td>\n",
       "      <td>True</td>\n",
       "      <td>True</td>\n",
       "    </tr>\n",
       "    <tr>\n",
       "      <th>22</th>\n",
       "      <td>2</td>\n",
       "      <td>2</td>\n",
       "      <td>2</td>\n",
       "      <td>True</td>\n",
       "      <td>True</td>\n",
       "    </tr>\n",
       "    <tr>\n",
       "      <th>23</th>\n",
       "      <td>1</td>\n",
       "      <td>3</td>\n",
       "      <td>3</td>\n",
       "      <td>False</td>\n",
       "      <td>False</td>\n",
       "    </tr>\n",
       "    <tr>\n",
       "      <th>24</th>\n",
       "      <td>3</td>\n",
       "      <td>3</td>\n",
       "      <td>3</td>\n",
       "      <td>True</td>\n",
       "      <td>True</td>\n",
       "    </tr>\n",
       "    <tr>\n",
       "      <th>25</th>\n",
       "      <td>2</td>\n",
       "      <td>3</td>\n",
       "      <td>3</td>\n",
       "      <td>False</td>\n",
       "      <td>False</td>\n",
       "    </tr>\n",
       "    <tr>\n",
       "      <th>26</th>\n",
       "      <td>0</td>\n",
       "      <td>3</td>\n",
       "      <td>0</td>\n",
       "      <td>False</td>\n",
       "      <td>True</td>\n",
       "    </tr>\n",
       "    <tr>\n",
       "      <th>27</th>\n",
       "      <td>0</td>\n",
       "      <td>0</td>\n",
       "      <td>0</td>\n",
       "      <td>True</td>\n",
       "      <td>True</td>\n",
       "    </tr>\n",
       "    <tr>\n",
       "      <th>28</th>\n",
       "      <td>3</td>\n",
       "      <td>3</td>\n",
       "      <td>3</td>\n",
       "      <td>True</td>\n",
       "      <td>True</td>\n",
       "    </tr>\n",
       "    <tr>\n",
       "      <th>29</th>\n",
       "      <td>2</td>\n",
       "      <td>2</td>\n",
       "      <td>2</td>\n",
       "      <td>True</td>\n",
       "      <td>True</td>\n",
       "    </tr>\n",
       "    <tr>\n",
       "      <th>30</th>\n",
       "      <td>1</td>\n",
       "      <td>1</td>\n",
       "      <td>1</td>\n",
       "      <td>True</td>\n",
       "      <td>True</td>\n",
       "    </tr>\n",
       "    <tr>\n",
       "      <th>31</th>\n",
       "      <td>0</td>\n",
       "      <td>0</td>\n",
       "      <td>0</td>\n",
       "      <td>True</td>\n",
       "      <td>True</td>\n",
       "    </tr>\n",
       "    <tr>\n",
       "      <th>32</th>\n",
       "      <td>0</td>\n",
       "      <td>0</td>\n",
       "      <td>0</td>\n",
       "      <td>True</td>\n",
       "      <td>True</td>\n",
       "    </tr>\n",
       "    <tr>\n",
       "      <th>33</th>\n",
       "      <td>1</td>\n",
       "      <td>1</td>\n",
       "      <td>1</td>\n",
       "      <td>True</td>\n",
       "      <td>True</td>\n",
       "    </tr>\n",
       "    <tr>\n",
       "      <th>34</th>\n",
       "      <td>2</td>\n",
       "      <td>2</td>\n",
       "      <td>3</td>\n",
       "      <td>True</td>\n",
       "      <td>False</td>\n",
       "    </tr>\n",
       "    <tr>\n",
       "      <th>35</th>\n",
       "      <td>2</td>\n",
       "      <td>2</td>\n",
       "      <td>3</td>\n",
       "      <td>True</td>\n",
       "      <td>False</td>\n",
       "    </tr>\n",
       "    <tr>\n",
       "      <th>36</th>\n",
       "      <td>0</td>\n",
       "      <td>0</td>\n",
       "      <td>0</td>\n",
       "      <td>True</td>\n",
       "      <td>True</td>\n",
       "    </tr>\n",
       "    <tr>\n",
       "      <th>37</th>\n",
       "      <td>0</td>\n",
       "      <td>3</td>\n",
       "      <td>0</td>\n",
       "      <td>False</td>\n",
       "      <td>True</td>\n",
       "    </tr>\n",
       "    <tr>\n",
       "      <th>38</th>\n",
       "      <td>2</td>\n",
       "      <td>2</td>\n",
       "      <td>2</td>\n",
       "      <td>True</td>\n",
       "      <td>True</td>\n",
       "    </tr>\n",
       "    <tr>\n",
       "      <th>39</th>\n",
       "      <td>1</td>\n",
       "      <td>1</td>\n",
       "      <td>1</td>\n",
       "      <td>True</td>\n",
       "      <td>True</td>\n",
       "    </tr>\n",
       "    <tr>\n",
       "      <th>40</th>\n",
       "      <td>3</td>\n",
       "      <td>3</td>\n",
       "      <td>3</td>\n",
       "      <td>True</td>\n",
       "      <td>True</td>\n",
       "    </tr>\n",
       "    <tr>\n",
       "      <th>41</th>\n",
       "      <td>3</td>\n",
       "      <td>2</td>\n",
       "      <td>3</td>\n",
       "      <td>False</td>\n",
       "      <td>True</td>\n",
       "    </tr>\n",
       "    <tr>\n",
       "      <th>42</th>\n",
       "      <td>3</td>\n",
       "      <td>2</td>\n",
       "      <td>2</td>\n",
       "      <td>False</td>\n",
       "      <td>False</td>\n",
       "    </tr>\n",
       "    <tr>\n",
       "      <th>43</th>\n",
       "      <td>1</td>\n",
       "      <td>1</td>\n",
       "      <td>1</td>\n",
       "      <td>True</td>\n",
       "      <td>True</td>\n",
       "    </tr>\n",
       "    <tr>\n",
       "      <th>44</th>\n",
       "      <td>0</td>\n",
       "      <td>0</td>\n",
       "      <td>0</td>\n",
       "      <td>True</td>\n",
       "      <td>True</td>\n",
       "    </tr>\n",
       "    <tr>\n",
       "      <th>45</th>\n",
       "      <td>3</td>\n",
       "      <td>3</td>\n",
       "      <td>2</td>\n",
       "      <td>True</td>\n",
       "      <td>False</td>\n",
       "    </tr>\n",
       "    <tr>\n",
       "      <th>46</th>\n",
       "      <td>0</td>\n",
       "      <td>0</td>\n",
       "      <td>0</td>\n",
       "      <td>True</td>\n",
       "      <td>True</td>\n",
       "    </tr>\n",
       "    <tr>\n",
       "      <th>47</th>\n",
       "      <td>0</td>\n",
       "      <td>0</td>\n",
       "      <td>0</td>\n",
       "      <td>True</td>\n",
       "      <td>True</td>\n",
       "    </tr>\n",
       "    <tr>\n",
       "      <th>48</th>\n",
       "      <td>1</td>\n",
       "      <td>2</td>\n",
       "      <td>1</td>\n",
       "      <td>False</td>\n",
       "      <td>True</td>\n",
       "    </tr>\n",
       "    <tr>\n",
       "      <th>49</th>\n",
       "      <td>1</td>\n",
       "      <td>1</td>\n",
       "      <td>1</td>\n",
       "      <td>True</td>\n",
       "      <td>True</td>\n",
       "    </tr>\n",
       "    <tr>\n",
       "      <th>50</th>\n",
       "      <td>2</td>\n",
       "      <td>2</td>\n",
       "      <td>3</td>\n",
       "      <td>True</td>\n",
       "      <td>False</td>\n",
       "    </tr>\n",
       "  </tbody>\n",
       "</table>\n",
       "</div>"
      ],
      "text/plain": [
       "    Actual  Knn prediction  Logistic prediction  y_test and Knn_yhat  \\\n",
       "0        2               2                    2                 True   \n",
       "1        3               2                    3                False   \n",
       "2        2               3                    3                False   \n",
       "3        1               3                    3                False   \n",
       "4        0               0                    0                 True   \n",
       "5        0               0                    0                 True   \n",
       "6        0               0                    1                 True   \n",
       "7        0               0                    0                 True   \n",
       "8        3               3                    3                 True   \n",
       "9        0               0                    0                 True   \n",
       "10       1               1                    1                 True   \n",
       "11       3               3                    3                 True   \n",
       "12       2               2                    2                 True   \n",
       "13       3               3                    3                 True   \n",
       "14       3               2                    3                False   \n",
       "15       2               2                    2                 True   \n",
       "16       3               2                    2                False   \n",
       "17       2               2                    2                 True   \n",
       "18       0               2                    0                False   \n",
       "19       3               2                    3                False   \n",
       "20       2               2                    3                 True   \n",
       "21       2               2                    2                 True   \n",
       "22       2               2                    2                 True   \n",
       "23       1               3                    3                False   \n",
       "24       3               3                    3                 True   \n",
       "25       2               3                    3                False   \n",
       "26       0               3                    0                False   \n",
       "27       0               0                    0                 True   \n",
       "28       3               3                    3                 True   \n",
       "29       2               2                    2                 True   \n",
       "30       1               1                    1                 True   \n",
       "31       0               0                    0                 True   \n",
       "32       0               0                    0                 True   \n",
       "33       1               1                    1                 True   \n",
       "34       2               2                    3                 True   \n",
       "35       2               2                    3                 True   \n",
       "36       0               0                    0                 True   \n",
       "37       0               3                    0                False   \n",
       "38       2               2                    2                 True   \n",
       "39       1               1                    1                 True   \n",
       "40       3               3                    3                 True   \n",
       "41       3               2                    3                False   \n",
       "42       3               2                    2                False   \n",
       "43       1               1                    1                 True   \n",
       "44       0               0                    0                 True   \n",
       "45       3               3                    2                 True   \n",
       "46       0               0                    0                 True   \n",
       "47       0               0                    0                 True   \n",
       "48       1               2                    1                False   \n",
       "49       1               1                    1                 True   \n",
       "50       2               2                    3                 True   \n",
       "\n",
       "    y_test and yhat  \n",
       "0              True  \n",
       "1              True  \n",
       "2             False  \n",
       "3             False  \n",
       "4              True  \n",
       "5              True  \n",
       "6             False  \n",
       "7              True  \n",
       "8              True  \n",
       "9              True  \n",
       "10             True  \n",
       "11             True  \n",
       "12             True  \n",
       "13             True  \n",
       "14             True  \n",
       "15             True  \n",
       "16            False  \n",
       "17             True  \n",
       "18             True  \n",
       "19             True  \n",
       "20            False  \n",
       "21             True  \n",
       "22             True  \n",
       "23            False  \n",
       "24             True  \n",
       "25            False  \n",
       "26             True  \n",
       "27             True  \n",
       "28             True  \n",
       "29             True  \n",
       "30             True  \n",
       "31             True  \n",
       "32             True  \n",
       "33             True  \n",
       "34            False  \n",
       "35            False  \n",
       "36             True  \n",
       "37             True  \n",
       "38             True  \n",
       "39             True  \n",
       "40             True  \n",
       "41             True  \n",
       "42            False  \n",
       "43             True  \n",
       "44             True  \n",
       "45            False  \n",
       "46             True  \n",
       "47             True  \n",
       "48             True  \n",
       "49             True  \n",
       "50            False  "
      ]
     },
     "execution_count": 40,
     "metadata": {},
     "output_type": "execute_result"
    }
   ],
   "source": [
    "pd.DataFrame({'Actual':y_test,\n",
    "             \"Knn prediction\":knn_yhat,\n",
    "             \"Logistic prediction\":yhat,\n",
    "             \"y_test and Knn_yhat\":(y_test == knn_yhat),\n",
    "             \"y_test and yhat\":(y_test==yhat)})"
   ]
  },
  {
   "cell_type": "code",
   "execution_count": 41,
   "metadata": {},
   "outputs": [
    {
     "data": {
      "text/plain": [
       "<sklearn.metrics._plot.confusion_matrix.ConfusionMatrixDisplay at 0x1ba058aac88>"
      ]
     },
     "execution_count": 41,
     "metadata": {},
     "output_type": "execute_result"
    },
    {
     "data": {
      "image/png": "[encoded data removed]",
      "text/plain": [
       "<Figure size 432x288 with 2 Axes>"
      ]
     },
     "metadata": {
      "needs_background": "light"
     },
     "output_type": "display_data"
    }
   ],
   "source": [
    "plot_confusion_matrix(knn,x_test,knn_yhat)"
   ]
  },
  {
   "cell_type": "code",
   "execution_count": 42,
   "metadata": {},
   "outputs": [
    {
     "data": {
      "text/plain": [
       "<sklearn.metrics._plot.confusion_matrix.ConfusionMatrixDisplay at 0x1ba06de0ec8>"
      ]
     },
     "execution_count": 42,
     "metadata": {},
     "output_type": "execute_result"
    },
    {
     "data": {
      "image/png": "[encoded data removed]",
      "text/plain": [
       "<Figure size 432x288 with 2 Axes>"
      ]
     },
     "metadata": {
      "needs_background": "light"
     },
     "output_type": "display_data"
    }
   ],
   "source": [
    "plot_confusion_matrix(knn,x_train,y_train)"
   ]
  },
  {
   "cell_type": "code",
   "execution_count": 43,
   "metadata": {},
   "outputs": [],
   "source": [
    "cm = confusion_matrix(y_test,knn_yhat)"
   ]
  },
  {
   "cell_type": "code",
   "execution_count": 44,
   "metadata": {},
   "outputs": [
    {
     "data": {
      "text/plain": [
       "<matplotlib.axes._subplots.AxesSubplot at 0x1ba06ed57c8>"
      ]
     },
     "execution_count": 44,
     "metadata": {},
     "output_type": "execute_result"
    },
    {
     "data": {
      "image/png": "[encoded data removed]",
      "text/plain": [
       "<Figure size 432x288 with 2 Axes>"
      ]
     },
     "metadata": {
      "needs_background": "light"
     },
     "output_type": "display_data"
    }
   ],
   "source": [
    "sns.heatmap(cm,annot=True)"
   ]
  },
  {
   "cell_type": "code",
   "execution_count": 45,
   "metadata": {},
   "outputs": [
    {
     "name": "stdout",
     "output_type": "stream",
     "text": [
      "              precision    recall  f1-score   support\n",
      "\n",
      "           0       1.00      0.80      0.89        15\n",
      "           1       1.00      0.67      0.80         9\n",
      "           2       0.60      0.86      0.71        14\n",
      "           3       0.54      0.54      0.54        13\n",
      "\n",
      "    accuracy                           0.73        51\n",
      "   macro avg       0.78      0.72      0.73        51\n",
      "weighted avg       0.77      0.73      0.73        51\n",
      "\n"
     ]
    }
   ],
   "source": [
    "print(classification_report(y_test,knn_yhat))"
   ]
  },
  {
   "cell_type": "code",
   "execution_count": 46,
   "metadata": {},
   "outputs": [],
   "source": [
    "tp = cm[0,0]"
   ]
  },
  {
   "cell_type": "code",
   "execution_count": 47,
   "metadata": {},
   "outputs": [],
   "source": [
    "tn = cm[1,1]"
   ]
  },
  {
   "cell_type": "code",
   "execution_count": 48,
   "metadata": {},
   "outputs": [],
   "source": [
    "fp = cm[1,0]"
   ]
  },
  {
   "cell_type": "code",
   "execution_count": 49,
   "metadata": {},
   "outputs": [],
   "source": [
    "fn = cm[0,1]"
   ]
  },
  {
   "cell_type": "code",
   "execution_count": 50,
   "metadata": {},
   "outputs": [
    {
     "data": {
      "text/plain": [
       "0.1111111111111111"
      ]
     },
     "execution_count": 50,
     "metadata": {},
     "output_type": "execute_result"
    }
   ],
   "source": [
    "acc = (tp/tn) / (tp+tn+fp+fn)\n",
    "acc"
   ]
  },
  {
   "cell_type": "code",
   "execution_count": 51,
   "metadata": {},
   "outputs": [],
   "source": [
    "from sklearn.metrics import plot_roc_curve"
   ]
  },
  {
   "cell_type": "code",
   "execution_count": 53,
   "metadata": {},
   "outputs": [],
   "source": [
    "from sklearn.naive_bayes import MultinomialNB,CategoricalNB,ComplementNB,BernoulliNB,GaussianNB"
   ]
  },
  {
   "cell_type": "markdown",
   "metadata": {},
   "source": [
    "### **MultiNominal Naviebayes**"
   ]
  },
  {
   "cell_type": "code",
   "execution_count": 54,
   "metadata": {},
   "outputs": [],
   "source": [
    "mnb = MultinomialNB()"
   ]
  },
  {
   "cell_type": "code",
   "execution_count": 56,
   "metadata": {},
   "outputs": [
    {
     "data": {
      "text/plain": [
       "MultinomialNB(alpha=1.0, class_prior=None, fit_prior=True)"
      ]
     },
     "execution_count": 56,
     "metadata": {},
     "output_type": "execute_result"
    }
   ],
   "source": [
    "mnb.fit(x_train,y_train)"
   ]
  },
  {
   "cell_type": "code",
   "execution_count": 57,
   "metadata": {},
   "outputs": [],
   "source": [
    "mnb_yhat = mnb.predict(x_test)"
   ]
  },
  {
   "cell_type": "code",
   "execution_count": 58,
   "metadata": {},
   "outputs": [
    {
     "data": {
      "text/plain": [
       "array([2, 3, 3, 1, 0, 0, 1, 0, 3, 1, 1, 3, 2, 3, 3, 2, 1, 2, 0, 3, 3, 2,\n",
       "       2, 3, 3, 3, 1, 0, 3, 2, 1, 0, 0, 1, 0, 1, 0, 0, 3, 1, 3, 2, 2, 1,\n",
       "       0, 2, 0, 0, 1, 1, 1])"
      ]
     },
     "execution_count": 58,
     "metadata": {},
     "output_type": "execute_result"
    }
   ],
   "source": [
    "mnb_yhat"
   ]
  },
  {
   "cell_type": "code",
   "execution_count": 61,
   "metadata": {},
   "outputs": [
    {
     "data": {
      "text/plain": [
       "array([[12,  3,  0,  0],\n",
       "       [ 0,  8,  0,  1],\n",
       "       [ 1,  2,  7,  4],\n",
       "       [ 0,  1,  3,  9]], dtype=int64)"
      ]
     },
     "execution_count": 61,
     "metadata": {},
     "output_type": "execute_result"
    }
   ],
   "source": [
    "cm = confusion_matrix(y_test,mnb_yhat)\n",
    "cm"
   ]
  },
  {
   "cell_type": "code",
   "execution_count": 62,
   "metadata": {},
   "outputs": [
    {
     "data": {
      "text/plain": [
       "<sklearn.metrics._plot.confusion_matrix.ConfusionMatrixDisplay at 0x1ba090bd308>"
      ]
     },
     "execution_count": 62,
     "metadata": {},
     "output_type": "execute_result"
    },
    {
     "data": {
      "image/png": "[encoded data removed]",
      "text/plain": [
       "<Figure size 432x288 with 2 Axes>"
      ]
     },
     "metadata": {
      "needs_background": "light"
     },
     "output_type": "display_data"
    }
   ],
   "source": [
    "plot_confusion_matrix(mnb,x_test,mnb_yhat)"
   ]
  },
  {
   "cell_type": "code",
   "execution_count": 64,
   "metadata": {},
   "outputs": [
    {
     "data": {
      "text/plain": [
       "0.7058823529411765"
      ]
     },
     "execution_count": 64,
     "metadata": {},
     "output_type": "execute_result"
    }
   ],
   "source": [
    "accuracy_score(y_test,mnb_yhat)"
   ]
  },
  {
   "cell_type": "markdown",
   "metadata": {},
   "source": [
    "### **Categorical Navie Bayes**"
   ]
  },
  {
   "cell_type": "code",
   "execution_count": 69,
   "metadata": {},
   "outputs": [],
   "source": [
    "cnb = CategoricalNB()"
   ]
  },
  {
   "cell_type": "code",
   "execution_count": 70,
   "metadata": {},
   "outputs": [
    {
     "data": {
      "text/plain": [
       "CategoricalNB(alpha=1.0, class_prior=None, fit_prior=True)"
      ]
     },
     "execution_count": 70,
     "metadata": {},
     "output_type": "execute_result"
    }
   ],
   "source": [
    "cnb.fit(x_train,y_train)"
   ]
  },
  {
   "cell_type": "code",
   "execution_count": 75,
   "metadata": {},
   "outputs": [
    {
     "data": {
      "text/plain": [
       "array([3])"
      ]
     },
     "execution_count": 75,
     "metadata": {},
     "output_type": "execute_result"
    }
   ],
   "source": [
    "cnb_yhat = cnb.predict(x_test[[0]])\n",
    "cnb_yhat"
   ]
  },
  {
   "cell_type": "markdown",
   "metadata": {},
   "source": [
    "### **Gaussiab NavieBayes**"
   ]
  },
  {
   "cell_type": "code",
   "execution_count": 79,
   "metadata": {},
   "outputs": [],
   "source": [
    "gb = GaussianNB()"
   ]
  },
  {
   "cell_type": "code",
   "execution_count": 81,
   "metadata": {},
   "outputs": [
    {
     "data": {
      "text/plain": [
       "GaussianNB(priors=None, var_smoothing=1e-09)"
      ]
     },
     "execution_count": 81,
     "metadata": {},
     "output_type": "execute_result"
    }
   ],
   "source": [
    "gb.fit(x_train,y_train)"
   ]
  },
  {
   "cell_type": "code",
   "execution_count": 83,
   "metadata": {},
   "outputs": [
    {
     "data": {
      "text/plain": [
       "array([2, 2, 2, 3, 0, 0, 0, 0, 2, 2, 1, 3, 2, 3, 3, 2, 2, 2, 0, 2, 2, 2,\n",
       "       2, 3, 3, 2, 2, 0, 3, 2, 1, 0, 0, 1, 3, 2, 0, 0, 2, 1, 3, 3, 2, 1,\n",
       "       0, 2, 3, 0, 1, 1, 3])"
      ]
     },
     "execution_count": 83,
     "metadata": {},
     "output_type": "execute_result"
    }
   ],
   "source": [
    "gb_yhat = gb.predict(x_test)\n",
    "gb_yhat"
   ]
  },
  {
   "cell_type": "code",
   "execution_count": 84,
   "metadata": {},
   "outputs": [],
   "source": [
    "cm = confusion_matrix(y_test,gb_yhat)"
   ]
  },
  {
   "cell_type": "code",
   "execution_count": 85,
   "metadata": {},
   "outputs": [
    {
     "data": {
      "text/plain": [
       "array([[12,  0,  2,  1],\n",
       "       [ 0,  7,  0,  2],\n",
       "       [ 0,  0, 12,  2],\n",
       "       [ 0,  0,  6,  7]], dtype=int64)"
      ]
     },
     "execution_count": 85,
     "metadata": {},
     "output_type": "execute_result"
    }
   ],
   "source": [
    "cm"
   ]
  },
  {
   "cell_type": "code",
   "execution_count": 86,
   "metadata": {},
   "outputs": [
    {
     "name": "stdout",
     "output_type": "stream",
     "text": [
      "              precision    recall  f1-score   support\n",
      "\n",
      "           0       1.00      0.80      0.89        15\n",
      "           1       1.00      0.78      0.88         9\n",
      "           2       0.60      0.86      0.71        14\n",
      "           3       0.58      0.54      0.56        13\n",
      "\n",
      "    accuracy                           0.75        51\n",
      "   macro avg       0.80      0.74      0.76        51\n",
      "weighted avg       0.78      0.75      0.75        51\n",
      "\n"
     ]
    }
   ],
   "source": [
    "print(classification_report(y_test,gb_yhat))"
   ]
  },
  {
   "cell_type": "code",
   "execution_count": 87,
   "metadata": {},
   "outputs": [
    {
     "data": {
      "text/plain": [
       "<sklearn.metrics._plot.confusion_matrix.ConfusionMatrixDisplay at 0x1ba0d163508>"
      ]
     },
     "execution_count": 87,
     "metadata": {},
     "output_type": "execute_result"
    },
    {
     "data": {
      "image/png": "[encoded data removed]",
      "text/plain": [
       "<Figure size 432x288 with 2 Axes>"
      ]
     },
     "metadata": {
      "needs_background": "light"
     },
     "output_type": "display_data"
    }
   ],
   "source": [
    "plot_confusion_matrix(gb,x_test,gb_yhat)"
   ]
  },
  {
   "cell_type": "code",
   "execution_count": 88,
   "metadata": {},
   "outputs": [
    {
     "data": {
      "text/plain": [
       "0.7450980392156863"
      ]
     },
     "execution_count": 88,
     "metadata": {},
     "output_type": "execute_result"
    }
   ],
   "source": [
    "accuracy_score(y_test,gb_yhat)"
   ]
  },
  {
   "cell_type": "markdown",
   "metadata": {},
   "source": [
    "### **Complement Navie Bayes**"
   ]
  },
  {
   "cell_type": "code",
   "execution_count": 89,
   "metadata": {},
   "outputs": [],
   "source": [
    "cb = ComplementNB()"
   ]
  },
  {
   "cell_type": "code",
   "execution_count": 90,
   "metadata": {},
   "outputs": [
    {
     "data": {
      "text/plain": [
       "ComplementNB(alpha=1.0, class_prior=None, fit_prior=True, norm=False)"
      ]
     },
     "execution_count": 90,
     "metadata": {},
     "output_type": "execute_result"
    }
   ],
   "source": [
    "cb.fit(x_train,y_train)"
   ]
  },
  {
   "cell_type": "code",
   "execution_count": 91,
   "metadata": {},
   "outputs": [
    {
     "data": {
      "text/plain": [
       "array([2, 3, 3, 1, 0, 0, 0, 0, 3, 1, 0, 3, 3, 3, 3, 2, 1, 3, 0, 3, 3, 3,\n",
       "       3, 3, 3, 3, 0, 0, 3, 3, 0, 0, 0, 0, 0, 1, 0, 0, 3, 0, 3, 3, 3, 0,\n",
       "       0, 3, 0, 0, 1, 0, 1])"
      ]
     },
     "execution_count": 91,
     "metadata": {},
     "output_type": "execute_result"
    }
   ],
   "source": [
    "cb_yhat = cb.predict(x_test)\n",
    "cb_yhat"
   ]
  },
  {
   "cell_type": "code",
   "execution_count": 92,
   "metadata": {},
   "outputs": [
    {
     "data": {
      "text/plain": [
       "array([[14,  1,  0,  0],\n",
       "       [ 6,  2,  0,  1],\n",
       "       [ 1,  2,  2,  9],\n",
       "       [ 0,  1,  0, 12]], dtype=int64)"
      ]
     },
     "execution_count": 92,
     "metadata": {},
     "output_type": "execute_result"
    }
   ],
   "source": [
    "cm = confusion_matrix(y_test,cb_yhat)\n",
    "cm"
   ]
  },
  {
   "cell_type": "code",
   "execution_count": 93,
   "metadata": {},
   "outputs": [
    {
     "name": "stdout",
     "output_type": "stream",
     "text": [
      "              precision    recall  f1-score   support\n",
      "\n",
      "           0       0.67      0.93      0.78        15\n",
      "           1       0.33      0.22      0.27         9\n",
      "           2       1.00      0.14      0.25        14\n",
      "           3       0.55      0.92      0.69        13\n",
      "\n",
      "    accuracy                           0.59        51\n",
      "   macro avg       0.64      0.56      0.50        51\n",
      "weighted avg       0.67      0.59      0.52        51\n",
      "\n"
     ]
    }
   ],
   "source": [
    "print(classification_report(y_test,cb_yhat))"
   ]
  },
  {
   "cell_type": "code",
   "execution_count": 94,
   "metadata": {},
   "outputs": [
    {
     "data": {
      "text/plain": [
       "0.5882352941176471"
      ]
     },
     "execution_count": 94,
     "metadata": {},
     "output_type": "execute_result"
    }
   ],
   "source": [
    "accuracy_score(y_test,cb_yhat)"
   ]
  },
  {
   "cell_type": "code",
   "execution_count": 95,
   "metadata": {},
   "outputs": [
    {
     "data": {
      "text/plain": [
       "<sklearn.metrics._plot.confusion_matrix.ConfusionMatrixDisplay at 0x1ba0e42be08>"
      ]
     },
     "execution_count": 95,
     "metadata": {},
     "output_type": "execute_result"
    },
    {
     "data": {
      "image/png": "[encoded data removed]",
      "text/plain": [
       "<Figure size 432x288 with 2 Axes>"
      ]
     },
     "metadata": {
      "needs_background": "light"
     },
     "output_type": "display_data"
    }
   ],
   "source": [
    "plot_confusion_matrix(gb,x_test,gb_yhat)"
   ]
  },
  {
   "cell_type": "markdown",
   "metadata": {},
   "source": [
    "### **Bernoulli Navie Bayes**"
   ]
  },
  {
   "cell_type": "code",
   "execution_count": 96,
   "metadata": {},
   "outputs": [],
   "source": [
    "b = BernoulliNB()"
   ]
  },
  {
   "cell_type": "code",
   "execution_count": 97,
   "metadata": {},
   "outputs": [
    {
     "data": {
      "text/plain": [
       "BernoulliNB(alpha=1.0, binarize=0.0, class_prior=None, fit_prior=True)"
      ]
     },
     "execution_count": 97,
     "metadata": {},
     "output_type": "execute_result"
    }
   ],
   "source": [
    "b.fit(x_train,y_train)"
   ]
  },
  {
   "cell_type": "code",
   "execution_count": 98,
   "metadata": {},
   "outputs": [
    {
     "data": {
      "text/plain": [
       "array([3, 3, 3, 1, 3, 3, 3, 3, 3, 3, 3, 3, 3, 3, 3, 3, 3, 3, 3, 3, 3, 3,\n",
       "       3, 1, 3, 3, 3, 3, 3, 3, 3, 3, 3, 3, 3, 3, 3, 3, 3, 3, 3, 3, 3, 3,\n",
       "       3, 3, 3, 3, 3, 3, 3])"
      ]
     },
     "execution_count": 98,
     "metadata": {},
     "output_type": "execute_result"
    }
   ],
   "source": [
    "b_yhat = b.predict(x_test)\n",
    "b_yhat"
   ]
  },
  {
   "cell_type": "code",
   "execution_count": 99,
   "metadata": {},
   "outputs": [
    {
     "data": {
      "text/plain": [
       "array([[12,  0,  2,  1],\n",
       "       [ 0,  7,  0,  2],\n",
       "       [ 0,  0, 12,  2],\n",
       "       [ 0,  0,  6,  7]], dtype=int64)"
      ]
     },
     "execution_count": 99,
     "metadata": {},
     "output_type": "execute_result"
    }
   ],
   "source": [
    "cm = confusion_matrix(y_test,gb_yhat)\n",
    "cm"
   ]
  },
  {
   "cell_type": "code",
   "execution_count": 100,
   "metadata": {},
   "outputs": [
    {
     "name": "stdout",
     "output_type": "stream",
     "text": [
      "              precision    recall  f1-score   support\n",
      "\n",
      "           0       1.00      0.80      0.89        15\n",
      "           1       1.00      0.78      0.88         9\n",
      "           2       0.60      0.86      0.71        14\n",
      "           3       0.58      0.54      0.56        13\n",
      "\n",
      "    accuracy                           0.75        51\n",
      "   macro avg       0.80      0.74      0.76        51\n",
      "weighted avg       0.78      0.75      0.75        51\n",
      "\n"
     ]
    }
   ],
   "source": [
    "print(classification_report(y_test,gb_yhat))"
   ]
  },
  {
   "cell_type": "code",
   "execution_count": 101,
   "metadata": {},
   "outputs": [
    {
     "data": {
      "text/plain": [
       "<sklearn.metrics._plot.confusion_matrix.ConfusionMatrixDisplay at 0x1ba0d88ef88>"
      ]
     },
     "execution_count": 101,
     "metadata": {},
     "output_type": "execute_result"
    },
    {
     "data": {
      "image/png": "[encoded data removed]",
      "text/plain": [
       "<Figure size 432x288 with 2 Axes>"
      ]
     },
     "metadata": {
      "needs_background": "light"
     },
     "output_type": "display_data"
    }
   ],
   "source": [
    "plot_confusion_matrix(gb,x_test,gb_yhat,cmap='viridis')"
   ]
  },
  {
   "cell_type": "code",
   "execution_count": 106,
   "metadata": {},
   "outputs": [
    {
     "name": "stdout",
     "output_type": "stream",
     "text": [
      "Model name GaussianNB(priors=None, var_smoothing=1e-09)\n",
      "Model score 0.7843137254901961\n",
      "******************************\n",
      "Model name MultinomialNB(alpha=1.0, class_prior=None, fit_prior=True)\n",
      "Model score 0.8235294117647058\n",
      "******************************\n",
      "Model name ComplementNB(alpha=1.0, class_prior=None, fit_prior=True, norm=False)\n",
      "Model score 0.5882352941176471\n",
      "******************************\n",
      "Model name BernoulliNB(alpha=1.0, binarize=0.0, class_prior=None, fit_prior=True)\n",
      "Model score 0.3137254901960784\n",
      "******************************\n",
      "Model name LogisticRegression(C=1.0, class_weight=None, dual=False, fit_intercept=True,\n",
      "                   intercept_scaling=1, l1_ratio=None, max_iter=1000,\n",
      "                   multi_class='auto', n_jobs=None, penalty='l2',\n",
      "                   random_state=None, solver='lbfgs', tol=0.0001, verbose=0,\n",
      "                   warm_start=False)\n",
      "Model score 1.0\n",
      "******************************\n",
      "Model name KNeighborsClassifier(algorithm='auto', leaf_size=30, metric='minkowski',\n",
      "                     metric_params=None, n_jobs=None, n_neighbors=5, p=2,\n",
      "                     weights='uniform')\n",
      "Model score 0.7254901960784313\n",
      "******************************\n"
     ]
    }
   ],
   "source": [
    "from sklearn.model_selection import cross_val_score\n",
    "models = [gb,mnb,cb,b,lr,knn]\n",
    "for i in models:\n",
    "    cv = cross_val_score(i,x_train,y_train,cv=4)\n",
    "    print(\"Model name\",i)\n",
    "    print(\"Model score\",i.score(x_test,yhat))\n",
    "    print(\"*\"*30)"
   ]
  },
  {
   "cell_type": "markdown",
   "metadata": {},
   "source": [
    "Here I conclude that for this Dataset Logistic ression algorithm is best model because model score is 100% while compared with other classification models"
   ]
  },
  {
   "cell_type": "markdown",
   "metadata": {},
   "source": [
    "## Support vector machine"
   ]
  },
  {
   "cell_type": "code",
   "execution_count": 25,
   "metadata": {},
   "outputs": [],
   "source": [
    "from sklearn.model_selection import train_test_split , validation_curve"
   ]
  },
  {
   "cell_type": "code",
   "execution_count": 30,
   "metadata": {},
   "outputs": [],
   "source": [
    "from sklearn.svm import SVC"
   ]
  },
  {
   "cell_type": "code",
   "execution_count": 133,
   "metadata": {},
   "outputs": [],
   "source": [
    "x_train,x_test,y_train,y_test = train_test_split(x,y,test_size=0.3)"
   ]
  },
  {
   "cell_type": "code",
   "execution_count": 134,
   "metadata": {},
   "outputs": [
    {
     "data": {
      "text/plain": [
       "((142, 12288), (142,), (62, 12288), (62,))"
      ]
     },
     "execution_count": 134,
     "metadata": {},
     "output_type": "execute_result"
    }
   ],
   "source": [
    "x_train.shape,y_train.shape,x_test.shape,y_test.shape"
   ]
  },
  {
   "cell_type": "code",
   "execution_count": 135,
   "metadata": {},
   "outputs": [],
   "source": [
    "model = SVC()"
   ]
  },
  {
   "cell_type": "code",
   "execution_count": 136,
   "metadata": {},
   "outputs": [
    {
     "data": {
      "text/plain": [
       "SVC(C=1.0, break_ties=False, cache_size=200, class_weight=None, coef0=0.0,\n",
       "    decision_function_shape='ovr', degree=3, gamma='scale', kernel='rbf',\n",
       "    max_iter=-1, probability=False, random_state=None, shrinking=True,\n",
       "    tol=0.001, verbose=False)"
      ]
     },
     "execution_count": 136,
     "metadata": {},
     "output_type": "execute_result"
    }
   ],
   "source": [
    "model.fit(x_train,y_train)"
   ]
  },
  {
   "cell_type": "code",
   "execution_count": 137,
   "metadata": {},
   "outputs": [
    {
     "data": {
      "text/plain": [
       "array([0, 1, 2, 0, 0, 3, 1, 2, 3, 3, 0, 3, 3, 2, 3, 2, 2, 3, 3, 2, 0, 3,\n",
       "       3, 1, 2, 3, 1, 3, 2, 1, 3, 3, 0, 3, 3, 3, 1, 1, 1, 0, 2, 0, 2, 3,\n",
       "       1, 1, 0, 1, 1, 0, 3, 3, 2, 1, 0, 3, 1, 1, 2, 0, 1, 0])"
      ]
     },
     "execution_count": 137,
     "metadata": {},
     "output_type": "execute_result"
    }
   ],
   "source": [
    "pred = model.predict(x_test)\n",
    "pred"
   ]
  },
  {
   "cell_type": "code",
   "execution_count": 139,
   "metadata": {},
   "outputs": [
    {
     "data": {
      "text/html": [
       "<div>\n",
       "<style scoped>\n",
       "    .dataframe tbody tr th:only-of-type {\n",
       "        vertical-align: middle;\n",
       "    }\n",
       "\n",
       "    .dataframe tbody tr th {\n",
       "        vertical-align: top;\n",
       "    }\n",
       "\n",
       "    .dataframe thead th {\n",
       "        text-align: right;\n",
       "    }\n",
       "</style>\n",
       "<table border=\"1\" class=\"dataframe\">\n",
       "  <thead>\n",
       "    <tr style=\"text-align: right;\">\n",
       "      <th></th>\n",
       "      <th>Actual data</th>\n",
       "      <th>prediction</th>\n",
       "      <th>Both are equal</th>\n",
       "    </tr>\n",
       "  </thead>\n",
       "  <tbody>\n",
       "    <tr>\n",
       "      <th>0</th>\n",
       "      <td>0</td>\n",
       "      <td>0</td>\n",
       "      <td>True</td>\n",
       "    </tr>\n",
       "    <tr>\n",
       "      <th>1</th>\n",
       "      <td>1</td>\n",
       "      <td>1</td>\n",
       "      <td>True</td>\n",
       "    </tr>\n",
       "    <tr>\n",
       "      <th>2</th>\n",
       "      <td>3</td>\n",
       "      <td>2</td>\n",
       "      <td>False</td>\n",
       "    </tr>\n",
       "    <tr>\n",
       "      <th>3</th>\n",
       "      <td>0</td>\n",
       "      <td>0</td>\n",
       "      <td>True</td>\n",
       "    </tr>\n",
       "    <tr>\n",
       "      <th>4</th>\n",
       "      <td>0</td>\n",
       "      <td>0</td>\n",
       "      <td>True</td>\n",
       "    </tr>\n",
       "    <tr>\n",
       "      <th>...</th>\n",
       "      <td>...</td>\n",
       "      <td>...</td>\n",
       "      <td>...</td>\n",
       "    </tr>\n",
       "    <tr>\n",
       "      <th>57</th>\n",
       "      <td>1</td>\n",
       "      <td>1</td>\n",
       "      <td>True</td>\n",
       "    </tr>\n",
       "    <tr>\n",
       "      <th>58</th>\n",
       "      <td>2</td>\n",
       "      <td>2</td>\n",
       "      <td>True</td>\n",
       "    </tr>\n",
       "    <tr>\n",
       "      <th>59</th>\n",
       "      <td>0</td>\n",
       "      <td>0</td>\n",
       "      <td>True</td>\n",
       "    </tr>\n",
       "    <tr>\n",
       "      <th>60</th>\n",
       "      <td>0</td>\n",
       "      <td>1</td>\n",
       "      <td>False</td>\n",
       "    </tr>\n",
       "    <tr>\n",
       "      <th>61</th>\n",
       "      <td>0</td>\n",
       "      <td>0</td>\n",
       "      <td>True</td>\n",
       "    </tr>\n",
       "  </tbody>\n",
       "</table>\n",
       "<p>62 rows × 3 columns</p>\n",
       "</div>"
      ],
      "text/plain": [
       "    Actual data  prediction  Both are equal\n",
       "0             0           0            True\n",
       "1             1           1            True\n",
       "2             3           2           False\n",
       "3             0           0            True\n",
       "4             0           0            True\n",
       "..          ...         ...             ...\n",
       "57            1           1            True\n",
       "58            2           2            True\n",
       "59            0           0            True\n",
       "60            0           1           False\n",
       "61            0           0            True\n",
       "\n",
       "[62 rows x 3 columns]"
      ]
     },
     "execution_count": 139,
     "metadata": {},
     "output_type": "execute_result"
    }
   ],
   "source": [
    "comp = pd.DataFrame({'Actual data':y_test,\n",
    "                    'prediction':pred,\n",
    "                    'Both are equal':y_test==pred})\n",
    "comp"
   ]
  },
  {
   "cell_type": "code",
   "execution_count": 140,
   "metadata": {},
   "outputs": [],
   "source": [
    "train_score = model.score(x_train,y_train)*100\n",
    "test_score = model.score(x_test,y_test)*100"
   ]
  },
  {
   "cell_type": "code",
   "execution_count": 141,
   "metadata": {},
   "outputs": [
    {
     "name": "stdout",
     "output_type": "stream",
     "text": [
      "training score is 97.88732394366197\n",
      "test score is 79.03225806451613\n"
     ]
    }
   ],
   "source": [
    "print(\"training score is {}\".format(train_score))\n",
    "print(\"test score is {}\".format(test_score))"
   ]
  },
  {
   "cell_type": "markdown",
   "metadata": {},
   "source": [
    "# Model Evaluation"
   ]
  },
  {
   "cell_type": "code",
   "execution_count": 125,
   "metadata": {},
   "outputs": [],
   "source": [
    "from sklearn.metrics import classification_report,confusion_matrix"
   ]
  },
  {
   "cell_type": "code",
   "execution_count": 126,
   "metadata": {},
   "outputs": [
    {
     "name": "stdout",
     "output_type": "stream",
     "text": [
      "              precision    recall  f1-score   support\n",
      "\n",
      "           0       1.00      0.94      0.97        16\n",
      "           1       0.87      0.93      0.90        14\n",
      "           2       0.67      0.80      0.73        15\n",
      "           3       0.79      0.65      0.71        17\n",
      "\n",
      "    accuracy                           0.82        62\n",
      "   macro avg       0.83      0.83      0.83        62\n",
      "weighted avg       0.83      0.82      0.82        62\n",
      "\n"
     ]
    }
   ],
   "source": [
    "print(classification_report(y_test,pred))"
   ]
  },
  {
   "cell_type": "code",
   "execution_count": 127,
   "metadata": {},
   "outputs": [
    {
     "data": {
      "text/plain": [
       "array([[15,  1,  0,  0],\n",
       "       [ 0, 13,  1,  0],\n",
       "       [ 0,  0, 12,  3],\n",
       "       [ 0,  1,  5, 11]], dtype=int64)"
      ]
     },
     "execution_count": 127,
     "metadata": {},
     "output_type": "execute_result"
    }
   ],
   "source": [
    "cm =  confusion_matrix(y_test,pred)\n",
    "cm"
   ]
  },
  {
   "cell_type": "code",
   "execution_count": 128,
   "metadata": {},
   "outputs": [
    {
     "data": {
      "text/plain": [
       "<matplotlib.axes._subplots.AxesSubplot at 0x1fe64b265c8>"
      ]
     },
     "execution_count": 128,
     "metadata": {},
     "output_type": "execute_result"
    },
    {
     "data": {
      "image/png": "[encoded data removed]",
      "text/plain": [
       "<Figure size 432x288 with 2 Axes>"
      ]
     },
     "metadata": {
      "needs_background": "light"
     },
     "output_type": "display_data"
    }
   ],
   "source": [
    "sns.heatmap(cm,annot=True)"
   ]
  },
  {
   "cell_type": "code",
   "execution_count": 129,
   "metadata": {},
   "outputs": [],
   "source": [
    "kernel = ['linear','poly','rbf','sigmoid']"
   ]
  },
  {
   "cell_type": "code",
   "execution_count": 143,
   "metadata": {
    "collapsed": true,
    "jupyter": {
     "outputs_hidden": true
    }
   },
   "outputs": [
    {
     "name": "stdout",
     "output_type": "stream",
     "text": [
      "\u001b[1mRight now my kernel is:- linear\n",
      "---------------------------------------------------------------------------\n",
      "My train score for this kernel is 1.0 \n",
      "Test score for this kernel is 0.9032258064516129 \n",
      "Kernel score\n",
      "   Actual data  prediction\n",
      "0            0           0\n",
      "1            1           1\n",
      "2            3           3\n",
      "3            0           0\n",
      "4            0           0 \n",
      "\n",
      "classification report\n",
      "              precision    recall  f1-score   support\n",
      "\n",
      "           0       1.00      1.00      1.00        14\n",
      "           1       1.00      0.88      0.93        16\n",
      "           2       0.89      0.84      0.86        19\n",
      "           3       0.75      0.92      0.83        13\n",
      "\n",
      "    accuracy                           0.90        62\n",
      "   macro avg       0.91      0.91      0.91        62\n",
      "weighted avg       0.91      0.90      0.91        62\n",
      "\n",
      "confusion matrix\n"
     ]
    },
    {
     "data": {
      "image/png": "[encoded data removed]",
      "text/plain": [
       "<Figure size 432x288 with 2 Axes>"
      ]
     },
     "metadata": {
      "needs_background": "light"
     },
     "output_type": "display_data"
    },
    {
     "name": "stdout",
     "output_type": "stream",
     "text": [
      "\u001b[1mRight now my kernel is:- poly\n",
      "---------------------------------------------------------------------------\n",
      "My train score for this kernel is 0.9929577464788732 \n",
      "Test score for this kernel is 0.7903225806451613 \n",
      "Kernel score\n",
      "   Actual data  prediction\n",
      "0            0           0\n",
      "1            1           1\n",
      "2            3           2\n",
      "3            0           0\n",
      "4            0           0 \n",
      "\n",
      "classification report\n",
      "              precision    recall  f1-score   support\n",
      "\n",
      "           0       0.76      0.93      0.84        14\n",
      "           1       1.00      0.56      0.72        16\n",
      "           2       0.88      0.79      0.83        19\n",
      "           3       0.63      0.92      0.75        13\n",
      "\n",
      "    accuracy                           0.79        62\n",
      "   macro avg       0.82      0.80      0.79        62\n",
      "weighted avg       0.83      0.79      0.79        62\n",
      "\n",
      "confusion matrix\n"
     ]
    },
    {
     "data": {
      "image/png": "[encoded data removed]",
      "text/plain": [
       "<Figure size 432x288 with 2 Axes>"
      ]
     },
     "metadata": {
      "needs_background": "light"
     },
     "output_type": "display_data"
    },
    {
     "name": "stdout",
     "output_type": "stream",
     "text": [
      "\u001b[1mRight now my kernel is:- rbf\n",
      "---------------------------------------------------------------------------\n",
      "My train score for this kernel is 0.9788732394366197 \n",
      "Test score for this kernel is 0.7903225806451613 \n",
      "Kernel score\n",
      "   Actual data  prediction\n",
      "0            0           0\n",
      "1            1           1\n",
      "2            3           2\n",
      "3            0           0\n",
      "4            0           0 \n",
      "\n",
      "classification report\n",
      "              precision    recall  f1-score   support\n",
      "\n",
      "           0       0.92      0.86      0.89        14\n",
      "           1       0.88      0.88      0.88        16\n",
      "           2       0.92      0.58      0.71        19\n",
      "           3       0.57      0.92      0.71        13\n",
      "\n",
      "    accuracy                           0.79        62\n",
      "   macro avg       0.82      0.81      0.79        62\n",
      "weighted avg       0.83      0.79      0.79        62\n",
      "\n",
      "confusion matrix\n"
     ]
    },
    {
     "data": {
      "image/png": "[encoded data removed]",
      "text/plain": [
       "<Figure size 432x288 with 2 Axes>"
      ]
     },
     "metadata": {
      "needs_background": "light"
     },
     "output_type": "display_data"
    },
    {
     "name": "stdout",
     "output_type": "stream",
     "text": [
      "\u001b[1mRight now my kernel is:- sigmoid\n",
      "---------------------------------------------------------------------------\n",
      "My train score for this kernel is 0.2535211267605634 \n",
      "Test score for this kernel is 0.14516129032258066 \n",
      "Kernel score\n",
      "   Actual data  prediction\n",
      "0            0           0\n",
      "1            1           2\n",
      "2            3           3\n",
      "3            0           3\n",
      "4            0           2 \n",
      "\n",
      "classification report\n",
      "              precision    recall  f1-score   support\n",
      "\n",
      "           0       0.50      0.07      0.12        14\n",
      "           1       0.10      0.12      0.11        16\n",
      "           2       0.00      0.00      0.00        19\n",
      "           3       0.24      0.46      0.32        13\n",
      "\n",
      "    accuracy                           0.15        62\n",
      "   macro avg       0.21      0.16      0.14        62\n",
      "weighted avg       0.19      0.15      0.12        62\n",
      "\n",
      "confusion matrix\n"
     ]
    },
    {
     "data": {
      "image/png": "[encoded data removed]",
      "text/plain": [
       "<Figure size 432x288 with 2 Axes>"
      ]
     },
     "metadata": {
      "needs_background": "light"
     },
     "output_type": "display_data"
    }
   ],
   "source": [
    "for i in kernel:\n",
    "    print('\\033[1m' + \"Right now my kernel is:- {}\".format(i))\n",
    "    print(\"---\"*25)\n",
    "    \n",
    "    model_svc = SVC(kernel=i)\n",
    "    model_svc.fit(x_train,y_train)\n",
    "    t_score = model_svc.score(x_train,y_train)\n",
    "    ts_score = model_svc.score(x_test,y_test)\n",
    "    print(\"My train score for this kernel is {} \\nTest score for this kernel is {} \\nKernel score\".format(t_score,ts_score))\n",
    "    pred = model_svc.predict(x_test)\n",
    "    comp = pd.DataFrame({'Actual data':y_test,\n",
    "                    'prediction':pred})\n",
    "    print(comp.head(),'\\n')\n",
    "    print(\"classification report\")\n",
    "    print(classification_report(y_test,pred))\n",
    "    print(\"confusion matrix\")\n",
    "    cm = confusion_matrix(y_test,pred)\n",
    "    sns.heatmap(cm,annot=True)\n",
    "    plt.show()"
   ]
  },
  {
   "cell_type": "code",
   "execution_count": 106,
   "metadata": {},
   "outputs": [
    {
     "data": {
      "text/plain": [
       "array([0, 1, 2, 3])"
      ]
     },
     "execution_count": 106,
     "metadata": {},
     "output_type": "execute_result"
    }
   ],
   "source": [
    "clf.classes_"
   ]
  },
  {
   "cell_type": "code",
   "execution_count": 107,
   "metadata": {},
   "outputs": [
    {
     "data": {
      "text/plain": [
       "array([  0,   9,  10,  29,  33,  39,  41,  42,  52,  66,  67,  79,  81,\n",
       "        86,  88,  90,  92,  95,  97,  98,  99, 104, 106, 117, 118, 123,\n",
       "       124, 125, 128, 131, 143, 145, 147, 150, 151, 152,   1,   5,   8,\n",
       "        11,  16,  18,  19,  24,  25,  35,  36,  43,  56,  57,  70,  75,\n",
       "        76,  77,  83,  84,  87,  91, 102, 112, 113, 114, 119, 122, 126,\n",
       "       129, 130, 133, 135, 139, 142, 149,   2,   4,   7,  17,  20,  21,\n",
       "        22,  32,  34,  37,  44,  45,  46,  47,  48,  49,  51,  58,  62,\n",
       "        69,  71,  80,  85,  89,  96, 107, 110, 115, 116, 120, 121, 127,\n",
       "       138, 146,   6,  12,  13,  14,  15,  23,  26,  27,  30,  31,  40,\n",
       "        50,  53,  54,  55,  59,  60,  61,  63,  65,  68,  72,  73,  74,\n",
       "        78,  82,  93,  94, 100, 101, 105, 108, 111, 132, 134, 136, 137,\n",
       "       140, 144, 148])"
      ]
     },
     "execution_count": 107,
     "metadata": {},
     "output_type": "execute_result"
    }
   ],
   "source": [
    "clf.support_"
   ]
  },
  {
   "cell_type": "code",
   "execution_count": 108,
   "metadata": {},
   "outputs": [
    {
     "data": {
      "text/plain": [
       "array([[0.32941176, 0.47058824, 0.30490196, ..., 0.36960784, 0.46372549,\n",
       "        0.25784314],\n",
       "       [0.45827206, 0.47058824, 0.5254902 , ..., 0.02352941, 0.01348039,\n",
       "        0.01219363],\n",
       "       [0.95686275, 0.94901961, 0.95294118, ..., 0.63529412, 0.63529412,\n",
       "        0.64313725],\n",
       "       ...,\n",
       "       [0.7135948 , 0.82853142, 0.58958333, ..., 0.42205069, 0.5973652 ,\n",
       "        0.27945054],\n",
       "       [0.37564338, 0.54034926, 0.24623162, ..., 0.25882353, 0.42745098,\n",
       "        0.14509804],\n",
       "       [0.30261302, 0.43606005, 0.17647059, ..., 0.2739277 , 0.36862745,\n",
       "        0.08177083]])"
      ]
     },
     "execution_count": 108,
     "metadata": {},
     "output_type": "execute_result"
    }
   ],
   "source": [
    "clf.support_vectors_"
   ]
  },
  {
   "cell_type": "markdown",
   "metadata": {},
   "source": [
    "# Decision Tree"
   ]
  },
  {
   "cell_type": "code",
   "execution_count": 23,
   "metadata": {},
   "outputs": [],
   "source": [
    "from sklearn.tree import DecisionTreeClassifier"
   ]
  },
  {
   "cell_type": "code",
   "execution_count": 24,
   "metadata": {},
   "outputs": [],
   "source": [
    "dtc = DecisionTreeClassifier()"
   ]
  },
  {
   "cell_type": "code",
   "execution_count": 25,
   "metadata": {},
   "outputs": [
    {
     "data": {
      "text/plain": [
       "DecisionTreeClassifier(ccp_alpha=0.0, class_weight=None, criterion='gini',\n",
       "                       max_depth=None, max_features=None, max_leaf_nodes=None,\n",
       "                       min_impurity_decrease=0.0, min_impurity_split=None,\n",
       "                       min_samples_leaf=1, min_samples_split=2,\n",
       "                       min_weight_fraction_leaf=0.0, presort='deprecated',\n",
       "                       random_state=None, splitter='best')"
      ]
     },
     "execution_count": 25,
     "metadata": {},
     "output_type": "execute_result"
    }
   ],
   "source": [
    "dtc.fit(x_train,y_train)"
   ]
  },
  {
   "cell_type": "code",
   "execution_count": 26,
   "metadata": {},
   "outputs": [
    {
     "data": {
      "text/plain": [
       "array([3, 1, 0, 3, 1, 1, 1, 2, 1, 1, 2, 2, 1, 2, 2, 2, 0, 0, 3, 3, 3, 2,\n",
       "       2, 1, 0, 2, 1, 2, 3, 0, 2, 2, 1, 2, 1, 2, 1, 1, 1, 0, 1, 3, 3, 3,\n",
       "       2, 1, 1, 1, 0, 1, 0])"
      ]
     },
     "execution_count": 26,
     "metadata": {},
     "output_type": "execute_result"
    }
   ],
   "source": [
    "dtc_yhat = dtc.predict(x_test)\n",
    "dtc_yhat"
   ]
  },
  {
   "cell_type": "code",
   "execution_count": 30,
   "metadata": {},
   "outputs": [
    {
     "data": {
      "text/plain": [
       "(12288, array([0., 0., 0., ..., 0., 0., 0.]))"
      ]
     },
     "execution_count": 30,
     "metadata": {},
     "output_type": "execute_result"
    }
   ],
   "source": [
    "imp = dtc.feature_importances_\n",
    "len(imp),imp"
   ]
  },
  {
   "cell_type": "code",
   "execution_count": 48,
   "metadata": {},
   "outputs": [
    {
     "name": "stdout",
     "output_type": "stream",
     "text": [
      "feature: 165, score: 0.07799\n",
      "\n",
      "feature: 1175, score: 0.01397\n",
      "\n",
      "feature: 2704, score: 0.04790\n",
      "\n",
      "feature: 3456, score: 0.04463\n",
      "\n",
      "feature: 4885, score: 0.03201\n",
      "\n",
      "feature: 4932, score: 0.05646\n",
      "\n",
      "feature: 5049, score: 0.02619\n",
      "\n",
      "feature: 6338, score: 0.09337\n",
      "\n",
      "feature: 6880, score: 0.04318\n",
      "\n",
      "feature: 7189, score: 0.23231\n",
      "\n",
      "feature: 7557, score: 0.02456\n",
      "\n",
      "feature: 8621, score: 0.00873\n",
      "\n",
      "feature: 8914, score: 0.01164\n",
      "\n",
      "feature: 9672, score: 0.21128\n",
      "\n",
      "feature: 10183, score: 0.02095\n",
      "\n",
      "feature: 10777, score: 0.02117\n",
      "\n",
      "feature: 10789, score: 0.01621\n",
      "\n",
      "feature: 11780, score: 0.01746\n",
      "\n"
     ]
    }
   ],
   "source": [
    "important_features= []\n",
    "for i,v in enumerate(imp):\n",
    "    #print(\"feature: %0d , score: %.5f\" % (i,v))\n",
    "    if v > 0:\n",
    "        important_features.append(i)\n",
    "        a = print(\"feature: %0d, score: %.5f\" % (i,v))\n",
    "        print()\n",
    "# plot feature importance\n",
    "# plt.bar([x for x in range(len(imp))], imp)\n",
    "# plt.show()"
   ]
  },
  {
   "cell_type": "code",
   "execution_count": 49,
   "metadata": {},
   "outputs": [
    {
     "name": "stdout",
     "output_type": "stream",
     "text": [
      "[165, 1175, 2704, 3456, 4885, 4932, 5049, 6338, 6880, 7189, 7557, 8621, 8914, 9672, 10183, 10777, 10789, 11780]\n"
     ]
    }
   ],
   "source": [
    "print(important_features)"
   ]
  },
  {
   "cell_type": "code",
   "execution_count": 61,
   "metadata": {},
   "outputs": [
    {
     "data": {
      "text/html": [
       "<div>\n",
       "<style scoped>\n",
       "    .dataframe tbody tr th:only-of-type {\n",
       "        vertical-align: middle;\n",
       "    }\n",
       "\n",
       "    .dataframe tbody tr th {\n",
       "        vertical-align: top;\n",
       "    }\n",
       "\n",
       "    .dataframe thead th {\n",
       "        text-align: right;\n",
       "    }\n",
       "</style>\n",
       "<table border=\"1\" class=\"dataframe\">\n",
       "  <thead>\n",
       "    <tr style=\"text-align: right;\">\n",
       "      <th></th>\n",
       "      <th>165</th>\n",
       "      <th>1175</th>\n",
       "      <th>2704</th>\n",
       "      <th>3456</th>\n",
       "      <th>4885</th>\n",
       "      <th>4932</th>\n",
       "      <th>5049</th>\n",
       "      <th>6338</th>\n",
       "      <th>6880</th>\n",
       "      <th>7189</th>\n",
       "      <th>7557</th>\n",
       "      <th>8621</th>\n",
       "      <th>8914</th>\n",
       "      <th>9672</th>\n",
       "      <th>10183</th>\n",
       "      <th>10777</th>\n",
       "      <th>10789</th>\n",
       "      <th>11780</th>\n",
       "    </tr>\n",
       "  </thead>\n",
       "  <tbody>\n",
       "    <tr>\n",
       "      <th>0</th>\n",
       "      <td>0.913725</td>\n",
       "      <td>0.976471</td>\n",
       "      <td>0.956863</td>\n",
       "      <td>0.952941</td>\n",
       "      <td>0.251225</td>\n",
       "      <td>0.791759</td>\n",
       "      <td>0.772739</td>\n",
       "      <td>0.968627</td>\n",
       "      <td>0.121998</td>\n",
       "      <td>0.543045</td>\n",
       "      <td>0.921730</td>\n",
       "      <td>0.956863</td>\n",
       "      <td>0.365839</td>\n",
       "      <td>0.901961</td>\n",
       "      <td>0.964706</td>\n",
       "      <td>0.916513</td>\n",
       "      <td>0.818413</td>\n",
       "      <td>0.661810</td>\n",
       "    </tr>\n",
       "    <tr>\n",
       "      <th>0</th>\n",
       "      <td>0.652941</td>\n",
       "      <td>0.177451</td>\n",
       "      <td>0.486275</td>\n",
       "      <td>0.822549</td>\n",
       "      <td>0.258824</td>\n",
       "      <td>0.835294</td>\n",
       "      <td>0.721569</td>\n",
       "      <td>0.274510</td>\n",
       "      <td>0.184314</td>\n",
       "      <td>0.119608</td>\n",
       "      <td>0.654902</td>\n",
       "      <td>0.415686</td>\n",
       "      <td>0.075490</td>\n",
       "      <td>0.545098</td>\n",
       "      <td>0.043137</td>\n",
       "      <td>0.106863</td>\n",
       "      <td>0.246078</td>\n",
       "      <td>0.316667</td>\n",
       "    </tr>\n",
       "    <tr>\n",
       "      <th>0</th>\n",
       "      <td>0.286275</td>\n",
       "      <td>0.882353</td>\n",
       "      <td>0.800000</td>\n",
       "      <td>0.749020</td>\n",
       "      <td>0.769608</td>\n",
       "      <td>0.933333</td>\n",
       "      <td>0.974020</td>\n",
       "      <td>0.080974</td>\n",
       "      <td>0.678768</td>\n",
       "      <td>0.302696</td>\n",
       "      <td>0.907813</td>\n",
       "      <td>0.515839</td>\n",
       "      <td>0.184069</td>\n",
       "      <td>0.349020</td>\n",
       "      <td>0.500490</td>\n",
       "      <td>0.524755</td>\n",
       "      <td>0.543842</td>\n",
       "      <td>0.440411</td>\n",
       "    </tr>\n",
       "    <tr>\n",
       "      <th>0</th>\n",
       "      <td>0.404381</td>\n",
       "      <td>0.609712</td>\n",
       "      <td>0.637048</td>\n",
       "      <td>0.669373</td>\n",
       "      <td>0.505576</td>\n",
       "      <td>0.164578</td>\n",
       "      <td>0.229841</td>\n",
       "      <td>0.358027</td>\n",
       "      <td>0.615686</td>\n",
       "      <td>0.158119</td>\n",
       "      <td>0.459597</td>\n",
       "      <td>0.158114</td>\n",
       "      <td>0.082353</td>\n",
       "      <td>0.454902</td>\n",
       "      <td>0.450226</td>\n",
       "      <td>0.552781</td>\n",
       "      <td>0.422369</td>\n",
       "      <td>0.198836</td>\n",
       "    </tr>\n",
       "    <tr>\n",
       "      <th>0</th>\n",
       "      <td>0.980392</td>\n",
       "      <td>0.996078</td>\n",
       "      <td>0.988235</td>\n",
       "      <td>0.988235</td>\n",
       "      <td>0.296078</td>\n",
       "      <td>0.962745</td>\n",
       "      <td>0.521569</td>\n",
       "      <td>0.996078</td>\n",
       "      <td>0.984314</td>\n",
       "      <td>0.172549</td>\n",
       "      <td>0.494118</td>\n",
       "      <td>0.988235</td>\n",
       "      <td>0.192157</td>\n",
       "      <td>0.250980</td>\n",
       "      <td>0.988235</td>\n",
       "      <td>0.992157</td>\n",
       "      <td>0.996078</td>\n",
       "      <td>0.803922</td>\n",
       "    </tr>\n",
       "    <tr>\n",
       "      <th>...</th>\n",
       "      <td>...</td>\n",
       "      <td>...</td>\n",
       "      <td>...</td>\n",
       "      <td>...</td>\n",
       "      <td>...</td>\n",
       "      <td>...</td>\n",
       "      <td>...</td>\n",
       "      <td>...</td>\n",
       "      <td>...</td>\n",
       "      <td>...</td>\n",
       "      <td>...</td>\n",
       "      <td>...</td>\n",
       "      <td>...</td>\n",
       "      <td>...</td>\n",
       "      <td>...</td>\n",
       "      <td>...</td>\n",
       "      <td>...</td>\n",
       "      <td>...</td>\n",
       "    </tr>\n",
       "    <tr>\n",
       "      <th>3</th>\n",
       "      <td>0.305821</td>\n",
       "      <td>0.251719</td>\n",
       "      <td>0.695772</td>\n",
       "      <td>0.220098</td>\n",
       "      <td>0.991765</td>\n",
       "      <td>0.926654</td>\n",
       "      <td>0.398080</td>\n",
       "      <td>0.161025</td>\n",
       "      <td>0.324255</td>\n",
       "      <td>0.946880</td>\n",
       "      <td>0.950337</td>\n",
       "      <td>0.166241</td>\n",
       "      <td>0.889675</td>\n",
       "      <td>0.447887</td>\n",
       "      <td>0.441007</td>\n",
       "      <td>0.776475</td>\n",
       "      <td>0.752604</td>\n",
       "      <td>0.067525</td>\n",
       "    </tr>\n",
       "    <tr>\n",
       "      <th>3</th>\n",
       "      <td>0.388235</td>\n",
       "      <td>0.139461</td>\n",
       "      <td>0.547304</td>\n",
       "      <td>0.456618</td>\n",
       "      <td>0.768842</td>\n",
       "      <td>0.650490</td>\n",
       "      <td>0.470374</td>\n",
       "      <td>0.314216</td>\n",
       "      <td>0.872059</td>\n",
       "      <td>0.517371</td>\n",
       "      <td>0.219608</td>\n",
       "      <td>0.454902</td>\n",
       "      <td>0.337255</td>\n",
       "      <td>0.207843</td>\n",
       "      <td>0.298039</td>\n",
       "      <td>0.265931</td>\n",
       "      <td>0.274510</td>\n",
       "      <td>0.141176</td>\n",
       "    </tr>\n",
       "    <tr>\n",
       "      <th>3</th>\n",
       "      <td>0.168627</td>\n",
       "      <td>0.322149</td>\n",
       "      <td>0.711887</td>\n",
       "      <td>0.596078</td>\n",
       "      <td>0.612789</td>\n",
       "      <td>0.684252</td>\n",
       "      <td>0.658824</td>\n",
       "      <td>0.479013</td>\n",
       "      <td>0.564706</td>\n",
       "      <td>0.762592</td>\n",
       "      <td>0.701961</td>\n",
       "      <td>0.458548</td>\n",
       "      <td>0.693349</td>\n",
       "      <td>0.466667</td>\n",
       "      <td>0.490196</td>\n",
       "      <td>0.463266</td>\n",
       "      <td>0.550306</td>\n",
       "      <td>0.083609</td>\n",
       "    </tr>\n",
       "    <tr>\n",
       "      <th>3</th>\n",
       "      <td>0.494118</td>\n",
       "      <td>0.387990</td>\n",
       "      <td>0.938480</td>\n",
       "      <td>0.402328</td>\n",
       "      <td>0.752941</td>\n",
       "      <td>0.282353</td>\n",
       "      <td>0.758578</td>\n",
       "      <td>0.318260</td>\n",
       "      <td>0.200000</td>\n",
       "      <td>0.683908</td>\n",
       "      <td>0.406794</td>\n",
       "      <td>0.057989</td>\n",
       "      <td>0.545098</td>\n",
       "      <td>0.325490</td>\n",
       "      <td>0.383203</td>\n",
       "      <td>0.336451</td>\n",
       "      <td>0.297181</td>\n",
       "      <td>0.101961</td>\n",
       "    </tr>\n",
       "    <tr>\n",
       "      <th>3</th>\n",
       "      <td>0.364706</td>\n",
       "      <td>0.267731</td>\n",
       "      <td>0.423529</td>\n",
       "      <td>0.294424</td>\n",
       "      <td>0.638897</td>\n",
       "      <td>0.380392</td>\n",
       "      <td>0.388265</td>\n",
       "      <td>0.329412</td>\n",
       "      <td>0.589767</td>\n",
       "      <td>0.584314</td>\n",
       "      <td>0.431373</td>\n",
       "      <td>0.698499</td>\n",
       "      <td>0.505882</td>\n",
       "      <td>0.403922</td>\n",
       "      <td>0.643505</td>\n",
       "      <td>0.482353</td>\n",
       "      <td>0.457451</td>\n",
       "      <td>0.345923</td>\n",
       "    </tr>\n",
       "  </tbody>\n",
       "</table>\n",
       "<p>204 rows × 18 columns</p>\n",
       "</div>"
      ],
      "text/plain": [
       "       165       1175      2704      3456      4885      4932      5049   \\\n",
       "0   0.913725  0.976471  0.956863  0.952941  0.251225  0.791759  0.772739   \n",
       "0   0.652941  0.177451  0.486275  0.822549  0.258824  0.835294  0.721569   \n",
       "0   0.286275  0.882353  0.800000  0.749020  0.769608  0.933333  0.974020   \n",
       "0   0.404381  0.609712  0.637048  0.669373  0.505576  0.164578  0.229841   \n",
       "0   0.980392  0.996078  0.988235  0.988235  0.296078  0.962745  0.521569   \n",
       "..       ...       ...       ...       ...       ...       ...       ...   \n",
       "3   0.305821  0.251719  0.695772  0.220098  0.991765  0.926654  0.398080   \n",
       "3   0.388235  0.139461  0.547304  0.456618  0.768842  0.650490  0.470374   \n",
       "3   0.168627  0.322149  0.711887  0.596078  0.612789  0.684252  0.658824   \n",
       "3   0.494118  0.387990  0.938480  0.402328  0.752941  0.282353  0.758578   \n",
       "3   0.364706  0.267731  0.423529  0.294424  0.638897  0.380392  0.388265   \n",
       "\n",
       "       6338      6880      7189      7557      8621      8914      9672   \\\n",
       "0   0.968627  0.121998  0.543045  0.921730  0.956863  0.365839  0.901961   \n",
       "0   0.274510  0.184314  0.119608  0.654902  0.415686  0.075490  0.545098   \n",
       "0   0.080974  0.678768  0.302696  0.907813  0.515839  0.184069  0.349020   \n",
       "0   0.358027  0.615686  0.158119  0.459597  0.158114  0.082353  0.454902   \n",
       "0   0.996078  0.984314  0.172549  0.494118  0.988235  0.192157  0.250980   \n",
       "..       ...       ...       ...       ...       ...       ...       ...   \n",
       "3   0.161025  0.324255  0.946880  0.950337  0.166241  0.889675  0.447887   \n",
       "3   0.314216  0.872059  0.517371  0.219608  0.454902  0.337255  0.207843   \n",
       "3   0.479013  0.564706  0.762592  0.701961  0.458548  0.693349  0.466667   \n",
       "3   0.318260  0.200000  0.683908  0.406794  0.057989  0.545098  0.325490   \n",
       "3   0.329412  0.589767  0.584314  0.431373  0.698499  0.505882  0.403922   \n",
       "\n",
       "       10183     10777     10789     11780  \n",
       "0   0.964706  0.916513  0.818413  0.661810  \n",
       "0   0.043137  0.106863  0.246078  0.316667  \n",
       "0   0.500490  0.524755  0.543842  0.440411  \n",
       "0   0.450226  0.552781  0.422369  0.198836  \n",
       "0   0.988235  0.992157  0.996078  0.803922  \n",
       "..       ...       ...       ...       ...  \n",
       "3   0.441007  0.776475  0.752604  0.067525  \n",
       "3   0.298039  0.265931  0.274510  0.141176  \n",
       "3   0.490196  0.463266  0.550306  0.083609  \n",
       "3   0.383203  0.336451  0.297181  0.101961  \n",
       "3   0.643505  0.482353  0.457451  0.345923  \n",
       "\n",
       "[204 rows x 18 columns]"
      ]
     },
     "execution_count": 61,
     "metadata": {},
     "output_type": "execute_result"
    }
   ],
   "source": [
    "c = df[[165, 1175, 2704, 3456, 4885, 4932, 5049, 6338, 6880, 7189, 7557, 8621, 8914, 9672, 10183, 10777, 10789, 11780]]\n",
    "c"
   ]
  },
  {
   "cell_type": "code",
   "execution_count": 67,
   "metadata": {},
   "outputs": [
    {
     "data": {
      "text/plain": [
       "((204, 18), (204,), (204, 12288))"
      ]
     },
     "execution_count": 67,
     "metadata": {},
     "output_type": "execute_result"
    }
   ],
   "source": [
    "c.shape,Y.shape,x.shape"
   ]
  },
  {
   "cell_type": "code",
   "execution_count": 72,
   "metadata": {},
   "outputs": [],
   "source": [
    "x_train,x_test,y_train,y_test = train_test_split(c,Y)"
   ]
  },
  {
   "cell_type": "code",
   "execution_count": 73,
   "metadata": {},
   "outputs": [],
   "source": [
    "dtc = DecisionTreeClassifier()"
   ]
  },
  {
   "cell_type": "code",
   "execution_count": 74,
   "metadata": {},
   "outputs": [
    {
     "data": {
      "text/plain": [
       "DecisionTreeClassifier(ccp_alpha=0.0, class_weight=None, criterion='gini',\n",
       "                       max_depth=None, max_features=None, max_leaf_nodes=None,\n",
       "                       min_impurity_decrease=0.0, min_impurity_split=None,\n",
       "                       min_samples_leaf=1, min_samples_split=2,\n",
       "                       min_weight_fraction_leaf=0.0, presort='deprecated',\n",
       "                       random_state=None, splitter='best')"
      ]
     },
     "execution_count": 74,
     "metadata": {},
     "output_type": "execute_result"
    }
   ],
   "source": [
    "dtc.fit(x_train,y_train)"
   ]
  },
  {
   "cell_type": "code",
   "execution_count": 78,
   "metadata": {},
   "outputs": [],
   "source": [
    "from sklearn.metrics import confusion_matrix,plot_confusion_matrix,classification_report"
   ]
  },
  {
   "cell_type": "code",
   "execution_count": 76,
   "metadata": {},
   "outputs": [],
   "source": [
    "dtc_pred = dtc.predict(x_test)"
   ]
  },
  {
   "cell_type": "code",
   "execution_count": 77,
   "metadata": {},
   "outputs": [
    {
     "data": {
      "text/plain": [
       "array([[ 9,  1,  0,  2],\n",
       "       [ 2, 12,  0,  0],\n",
       "       [ 0,  0, 10,  3],\n",
       "       [ 0,  0,  2, 10]], dtype=int64)"
      ]
     },
     "execution_count": 77,
     "metadata": {},
     "output_type": "execute_result"
    }
   ],
   "source": [
    "cm = confusion_matrix(y_test,dtc_pred)\n",
    "cm"
   ]
  },
  {
   "cell_type": "code",
   "execution_count": 79,
   "metadata": {},
   "outputs": [
    {
     "name": "stdout",
     "output_type": "stream",
     "text": [
      "              precision    recall  f1-score   support\n",
      "\n",
      "           0       0.82      0.75      0.78        12\n",
      "           1       0.92      0.86      0.89        14\n",
      "           2       0.83      0.77      0.80        13\n",
      "           3       0.67      0.83      0.74        12\n",
      "\n",
      "    accuracy                           0.80        51\n",
      "   macro avg       0.81      0.80      0.80        51\n",
      "weighted avg       0.82      0.80      0.81        51\n",
      "\n"
     ]
    }
   ],
   "source": [
    "print(classification_report(y_test,dtc_pred))"
   ]
  },
  {
   "cell_type": "code",
   "execution_count": 80,
   "metadata": {},
   "outputs": [],
   "source": [
    "from sklearn import tree"
   ]
  },
  {
   "cell_type": "code",
   "execution_count": 81,
   "metadata": {},
   "outputs": [
    {
     "data": {
      "text/plain": [
       "[Text(115.0875, 205.35999999999999, 'X[9] <= 0.238\\ngini = 0.749\\nsamples = 153\\nvalue = [38, 35, 37, 43]'),\n",
       " Text(35.871428571428574, 181.2, 'X[10] <= 0.222\\ngini = 0.308\\nsamples = 39\\nvalue = [32, 0, 5, 2]'),\n",
       " Text(23.914285714285715, 157.04, 'X[3] <= 0.173\\ngini = 0.531\\nsamples = 8\\nvalue = [1, 0, 5, 2]'),\n",
       " Text(11.957142857142857, 132.88, 'gini = 0.0\\nsamples = 2\\nvalue = [0, 0, 0, 2]'),\n",
       " Text(35.871428571428574, 132.88, 'X[9] <= 0.087\\ngini = 0.278\\nsamples = 6\\nvalue = [1, 0, 5, 0]'),\n",
       " Text(23.914285714285715, 108.72, 'gini = 0.0\\nsamples = 1\\nvalue = [1, 0, 0, 0]'),\n",
       " Text(47.82857142857143, 108.72, 'gini = 0.0\\nsamples = 5\\nvalue = [0, 0, 5, 0]'),\n",
       " Text(47.82857142857143, 157.04, 'gini = 0.0\\nsamples = 31\\nvalue = [31, 0, 0, 0]'),\n",
       " Text(194.30357142857144, 181.2, 'X[13] <= 0.645\\ngini = 0.695\\nsamples = 114\\nvalue = [6, 35, 32, 41]'),\n",
       " Text(131.52857142857144, 157.04, 'X[10] <= 0.471\\ngini = 0.595\\nsamples = 78\\nvalue = [3, 6, 30, 39]'),\n",
       " Text(83.7, 132.88, 'X[0] <= 0.358\\ngini = 0.447\\nsamples = 53\\nvalue = [0, 1, 16, 36]'),\n",
       " Text(71.74285714285715, 108.72, 'gini = 0.0\\nsamples = 20\\nvalue = [0, 0, 0, 20]'),\n",
       " Text(95.65714285714286, 108.72, 'X[7] <= 0.302\\ngini = 0.529\\nsamples = 33\\nvalue = [0, 1, 16, 16]'),\n",
       " Text(71.74285714285715, 84.56, 'X[4] <= 0.859\\ngini = 0.388\\nsamples = 19\\nvalue = [0, 0, 14, 5]'),\n",
       " Text(59.785714285714285, 60.400000000000006, 'X[1] <= 0.259\\ngini = 0.219\\nsamples = 16\\nvalue = [0, 0, 14, 2]'),\n",
       " Text(47.82857142857143, 36.24000000000001, 'gini = 0.0\\nsamples = 13\\nvalue = [0, 0, 13, 0]'),\n",
       " Text(71.74285714285715, 36.24000000000001, 'X[3] <= 0.334\\ngini = 0.444\\nsamples = 3\\nvalue = [0, 0, 1, 2]'),\n",
       " Text(59.785714285714285, 12.079999999999984, 'gini = 0.0\\nsamples = 2\\nvalue = [0, 0, 0, 2]'),\n",
       " Text(83.7, 12.079999999999984, 'gini = 0.0\\nsamples = 1\\nvalue = [0, 0, 1, 0]'),\n",
       " Text(83.7, 60.400000000000006, 'gini = 0.0\\nsamples = 3\\nvalue = [0, 0, 0, 3]'),\n",
       " Text(119.57142857142857, 84.56, 'X[3] <= 0.582\\ngini = 0.357\\nsamples = 14\\nvalue = [0, 1, 2, 11]'),\n",
       " Text(107.61428571428571, 60.400000000000006, 'gini = 0.0\\nsamples = 9\\nvalue = [0, 0, 0, 9]'),\n",
       " Text(131.52857142857144, 60.400000000000006, 'X[5] <= 0.392\\ngini = 0.64\\nsamples = 5\\nvalue = [0, 1, 2, 2]'),\n",
       " Text(119.57142857142857, 36.24000000000001, 'gini = 0.0\\nsamples = 2\\nvalue = [0, 0, 2, 0]'),\n",
       " Text(143.4857142857143, 36.24000000000001, 'X[17] <= 0.447\\ngini = 0.444\\nsamples = 3\\nvalue = [0, 1, 0, 2]'),\n",
       " Text(131.52857142857144, 12.079999999999984, 'gini = 0.0\\nsamples = 2\\nvalue = [0, 0, 0, 2]'),\n",
       " Text(155.44285714285715, 12.079999999999984, 'gini = 0.0\\nsamples = 1\\nvalue = [0, 1, 0, 0]'),\n",
       " Text(179.35714285714286, 132.88, 'X[15] <= 0.063\\ngini = 0.618\\nsamples = 25\\nvalue = [3, 5, 14, 3]'),\n",
       " Text(167.4, 108.72, 'gini = 0.0\\nsamples = 4\\nvalue = [0, 4, 0, 0]'),\n",
       " Text(191.31428571428572, 108.72, 'X[6] <= 0.796\\ngini = 0.512\\nsamples = 21\\nvalue = [3, 1, 14, 3]'),\n",
       " Text(167.4, 84.56, 'X[11] <= 0.085\\ngini = 0.291\\nsamples = 17\\nvalue = [0, 0, 14, 3]'),\n",
       " Text(155.44285714285715, 60.400000000000006, 'gini = 0.0\\nsamples = 2\\nvalue = [0, 0, 0, 2]'),\n",
       " Text(179.35714285714286, 60.400000000000006, 'X[7] <= 0.393\\ngini = 0.124\\nsamples = 15\\nvalue = [0, 0, 14, 1]'),\n",
       " Text(167.4, 36.24000000000001, 'gini = 0.0\\nsamples = 14\\nvalue = [0, 0, 14, 0]'),\n",
       " Text(191.31428571428572, 36.24000000000001, 'gini = 0.0\\nsamples = 1\\nvalue = [0, 0, 0, 1]'),\n",
       " Text(215.22857142857143, 84.56, 'X[1] <= 0.941\\ngini = 0.375\\nsamples = 4\\nvalue = [3, 1, 0, 0]'),\n",
       " Text(203.27142857142857, 60.400000000000006, 'gini = 0.0\\nsamples = 3\\nvalue = [3, 0, 0, 0]'),\n",
       " Text(227.18571428571428, 60.400000000000006, 'gini = 0.0\\nsamples = 1\\nvalue = [0, 1, 0, 0]'),\n",
       " Text(257.0785714285714, 157.04, 'X[8] <= 0.288\\ngini = 0.338\\nsamples = 36\\nvalue = [3, 29, 2, 2]'),\n",
       " Text(227.18571428571428, 132.88, 'X[3] <= 0.606\\ngini = 0.5\\nsamples = 4\\nvalue = [2, 0, 2, 0]'),\n",
       " Text(215.22857142857143, 108.72, 'gini = 0.0\\nsamples = 2\\nvalue = [0, 0, 2, 0]'),\n",
       " Text(239.14285714285714, 108.72, 'gini = 0.0\\nsamples = 2\\nvalue = [2, 0, 0, 0]'),\n",
       " Text(286.9714285714286, 132.88, 'X[14] <= 0.111\\ngini = 0.174\\nsamples = 32\\nvalue = [1, 29, 0, 2]'),\n",
       " Text(263.0571428571429, 108.72, 'X[0] <= 0.071\\ngini = 0.444\\nsamples = 3\\nvalue = [0, 1, 0, 2]'),\n",
       " Text(251.1, 84.56, 'gini = 0.0\\nsamples = 1\\nvalue = [0, 1, 0, 0]'),\n",
       " Text(275.01428571428573, 84.56, 'gini = 0.0\\nsamples = 2\\nvalue = [0, 0, 0, 2]'),\n",
       " Text(310.8857142857143, 108.72, 'X[9] <= 0.434\\ngini = 0.067\\nsamples = 29\\nvalue = [1, 28, 0, 0]'),\n",
       " Text(298.92857142857144, 84.56, 'gini = 0.0\\nsamples = 1\\nvalue = [1, 0, 0, 0]'),\n",
       " Text(322.84285714285716, 84.56, 'gini = 0.0\\nsamples = 28\\nvalue = [0, 28, 0, 0]')]"
      ]
     },
     "execution_count": 81,
     "metadata": {},
     "output_type": "execute_result"
    },
    {
     "data": {
      "image/png": "[encoded data removed]",
      "text/plain": [
       "<Figure size 432x288 with 1 Axes>"
      ]
     },
     "metadata": {
      "needs_background": "light"
     },
     "output_type": "display_data"
    }
   ],
   "source": [
    "tree.plot_tree(dtc)"
   ]
  },
  {
   "cell_type": "code",
   "execution_count": 83,
   "metadata": {},
   "outputs": [
    {
     "data": {
      "image/png": "[encoded data removed]",
      "text/plain": [
       "<Figure size 1440x1440 with 1 Axes>"
      ]
     },
     "metadata": {
      "needs_background": "light"
     },
     "output_type": "display_data"
    }
   ],
   "source": [
    "plt.figure(figsize=(20,20))\n",
    "tree.plot_tree(dtc,filled=True)\n",
    "plt.show()"
   ]
  },
  {
   "cell_type": "code",
   "execution_count": null,
   "metadata": {},
   "outputs": [],
   "source": []
  }
 ],
 "metadata": {
  "kernelspec": {
   "display_name": "Python 3",
   "language": "python",
   "name": "python3"
  },
  "language_info": {
   "codemirror_mode": {
    "name": "ipython",
    "version": 3
   },
   "file_extension": ".py",
   "mimetype": "text/x-python",
   "name": "python",
   "nbconvert_exporter": "python",
   "pygments_lexer": "ipython3",
   "version": "3.7.5"
  }
 },
 "nbformat": 4,
 "nbformat_minor": 4
}
