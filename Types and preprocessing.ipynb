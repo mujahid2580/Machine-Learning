{
 "cells": [
  {
   "cell_type": "markdown",
   "metadata": {},
   "source": [
    "## Types of data\n",
    "                            Data\n",
    "                            \n",
    "    Numerical     Catogorical  Time series   unstructured\n",
    "     .Continuous   .Nomianal                  . Text\n",
    "     .Discrete     .Ordinal                   .Images\n",
    "                                              .Audio/Video\n",
    "     Numeric:                                          \n",
    "        Continuous: The data consists of numbers \n",
    "                ex:Real num such as heights lap timings etc., \n",
    "        Discrete : If the data consists of specific set of values\n",
    "               example:sizes,vehicle tyre sizes,or age.\n",
    "     Catogarical: This data consists of labels. Usually strings but they can also be encoded as numbers\n",
    "         These are classsified into two types\n",
    "             \n",
    "             Nominal:\n",
    "                 Which consists of multiple values with no order to them\n",
    "                 ex: male and female labels,colours of car etc.\n",
    "             Ordianl:\n",
    "                 The values in this data have an ordering in between them\n",
    "                 ex:Movie ratings from 1 to 5\n",
    "      \n",
    "     Time series: This data has one column ,consisting of Time stamp which may be different in form of hours minutes sec, millisec etc.\n",
    "         example: sensors\n",
    "         \n",
    "     Unstructured data: Unlike other tyoes of data doesn't have a structure to it\n",
    "                 ex:Text,audio,video type             "
   ]
  },
  {
   "cell_type": "markdown",
   "metadata": {},
   "source": [
    "# Data preprocessing Pipe line\n",
    "    Data Acqusition --> Data preparation--> Input --> processing --> output"
   ]
  },
  {
   "cell_type": "code",
   "execution_count": null,
   "metadata": {},
   "outputs": [],
   "source": []
  }
 ],
 "metadata": {
  "kernelspec": {
   "display_name": "Python 3",
   "language": "python",
   "name": "python3"
  },
  "language_info": {
   "codemirror_mode": {
    "name": "ipython",
    "version": 3
   },
   "file_extension": ".py",
   "mimetype": "text/x-python",
   "name": "python",
   "nbconvert_exporter": "python",
   "pygments_lexer": "ipython3",
   "version": "3.7.5"
  }
 },
 "nbformat": 4,
 "nbformat_minor": 4
}
